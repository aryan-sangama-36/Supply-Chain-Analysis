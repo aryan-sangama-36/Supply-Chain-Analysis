{
 "cells": [
  {
   "cell_type": "markdown",
   "id": "1678709a",
   "metadata": {},
   "source": [
    "# Data Co Supply Chain Dataset Analysis."
   ]
  },
  {
   "cell_type": "markdown",
   "id": "05baeff5",
   "metadata": {},
   "source": [
    "### Import Libraries "
   ]
  },
  {
   "cell_type": "code",
   "execution_count": 1,
   "id": "72e0228c",
   "metadata": {},
   "outputs": [],
   "source": [
    "import pandas as pd\n",
    "import numpy as np\n",
    "import matplotlib.pyplot as plt\n",
    "import seaborn as sns"
   ]
  },
  {
   "cell_type": "markdown",
   "id": "7af6d636",
   "metadata": {},
   "source": [
    "### Load Data"
   ]
  },
  {
   "cell_type": "code",
   "execution_count": 2,
   "id": "082d9dcb",
   "metadata": {},
   "outputs": [],
   "source": [
    "df = pd.read_csv('DataCoSupplyChainDataset.csv')"
   ]
  },
  {
   "cell_type": "markdown",
   "id": "e138d636",
   "metadata": {},
   "source": [
    "## Basic Information\n"
   ]
  },
  {
   "cell_type": "code",
   "execution_count": 3,
   "id": "37a815c5",
   "metadata": {},
   "outputs": [
    {
     "data": {
      "text/html": [
       "<div>\n",
       "<style scoped>\n",
       "    .dataframe tbody tr th:only-of-type {\n",
       "        vertical-align: middle;\n",
       "    }\n",
       "\n",
       "    .dataframe tbody tr th {\n",
       "        vertical-align: top;\n",
       "    }\n",
       "\n",
       "    .dataframe thead th {\n",
       "        text-align: right;\n",
       "    }\n",
       "</style>\n",
       "<table border=\"1\" class=\"dataframe\">\n",
       "  <thead>\n",
       "    <tr style=\"text-align: right;\">\n",
       "      <th></th>\n",
       "      <th>Type</th>\n",
       "      <th>Days for shipping (real)</th>\n",
       "      <th>Days for shipment (scheduled)</th>\n",
       "      <th>Benefit per order</th>\n",
       "      <th>Sales per customer</th>\n",
       "      <th>Delivery Status</th>\n",
       "      <th>Late_delivery_risk</th>\n",
       "      <th>Category Id</th>\n",
       "      <th>Category Name</th>\n",
       "      <th>Customer City</th>\n",
       "      <th>...</th>\n",
       "      <th>Order Zipcode</th>\n",
       "      <th>Product Card Id</th>\n",
       "      <th>Product Category Id</th>\n",
       "      <th>Product Description</th>\n",
       "      <th>Product Image</th>\n",
       "      <th>Product Name</th>\n",
       "      <th>Product Price</th>\n",
       "      <th>Product Status</th>\n",
       "      <th>shipping date (DateOrders)</th>\n",
       "      <th>Shipping Mode</th>\n",
       "    </tr>\n",
       "  </thead>\n",
       "  <tbody>\n",
       "    <tr>\n",
       "      <th>0</th>\n",
       "      <td>DEBIT</td>\n",
       "      <td>3</td>\n",
       "      <td>4</td>\n",
       "      <td>91.250000</td>\n",
       "      <td>314.640015</td>\n",
       "      <td>Advance shipping</td>\n",
       "      <td>0</td>\n",
       "      <td>73</td>\n",
       "      <td>Sporting Goods</td>\n",
       "      <td>Caguas</td>\n",
       "      <td>...</td>\n",
       "      <td>NaN</td>\n",
       "      <td>1360</td>\n",
       "      <td>73</td>\n",
       "      <td>NaN</td>\n",
       "      <td>http://images.acmesports.sports/Smart+watch</td>\n",
       "      <td>Smart watch</td>\n",
       "      <td>327.75</td>\n",
       "      <td>0</td>\n",
       "      <td>02-03-2018 22:56</td>\n",
       "      <td>Standard Class</td>\n",
       "    </tr>\n",
       "    <tr>\n",
       "      <th>1</th>\n",
       "      <td>TRANSFER</td>\n",
       "      <td>5</td>\n",
       "      <td>4</td>\n",
       "      <td>-249.089996</td>\n",
       "      <td>311.359985</td>\n",
       "      <td>Late delivery</td>\n",
       "      <td>1</td>\n",
       "      <td>73</td>\n",
       "      <td>Sporting Goods</td>\n",
       "      <td>Caguas</td>\n",
       "      <td>...</td>\n",
       "      <td>NaN</td>\n",
       "      <td>1360</td>\n",
       "      <td>73</td>\n",
       "      <td>NaN</td>\n",
       "      <td>http://images.acmesports.sports/Smart+watch</td>\n",
       "      <td>Smart watch</td>\n",
       "      <td>327.75</td>\n",
       "      <td>0</td>\n",
       "      <td>1/18/2018 12:27</td>\n",
       "      <td>Standard Class</td>\n",
       "    </tr>\n",
       "    <tr>\n",
       "      <th>2</th>\n",
       "      <td>CASH</td>\n",
       "      <td>4</td>\n",
       "      <td>4</td>\n",
       "      <td>-247.779999</td>\n",
       "      <td>309.720001</td>\n",
       "      <td>Shipping on time</td>\n",
       "      <td>0</td>\n",
       "      <td>73</td>\n",
       "      <td>Sporting Goods</td>\n",
       "      <td>San Jose</td>\n",
       "      <td>...</td>\n",
       "      <td>NaN</td>\n",
       "      <td>1360</td>\n",
       "      <td>73</td>\n",
       "      <td>NaN</td>\n",
       "      <td>http://images.acmesports.sports/Smart+watch</td>\n",
       "      <td>Smart watch</td>\n",
       "      <td>327.75</td>\n",
       "      <td>0</td>\n",
       "      <td>1/17/2018 12:06</td>\n",
       "      <td>Standard Class</td>\n",
       "    </tr>\n",
       "    <tr>\n",
       "      <th>3</th>\n",
       "      <td>DEBIT</td>\n",
       "      <td>3</td>\n",
       "      <td>4</td>\n",
       "      <td>22.860001</td>\n",
       "      <td>304.809998</td>\n",
       "      <td>Advance shipping</td>\n",
       "      <td>0</td>\n",
       "      <td>73</td>\n",
       "      <td>Sporting Goods</td>\n",
       "      <td>Los Angeles</td>\n",
       "      <td>...</td>\n",
       "      <td>NaN</td>\n",
       "      <td>1360</td>\n",
       "      <td>73</td>\n",
       "      <td>NaN</td>\n",
       "      <td>http://images.acmesports.sports/Smart+watch</td>\n",
       "      <td>Smart watch</td>\n",
       "      <td>327.75</td>\n",
       "      <td>0</td>\n",
       "      <td>1/16/2018 11:45</td>\n",
       "      <td>Standard Class</td>\n",
       "    </tr>\n",
       "    <tr>\n",
       "      <th>4</th>\n",
       "      <td>PAYMENT</td>\n",
       "      <td>2</td>\n",
       "      <td>4</td>\n",
       "      <td>134.210007</td>\n",
       "      <td>298.250000</td>\n",
       "      <td>Advance shipping</td>\n",
       "      <td>0</td>\n",
       "      <td>73</td>\n",
       "      <td>Sporting Goods</td>\n",
       "      <td>Caguas</td>\n",
       "      <td>...</td>\n",
       "      <td>NaN</td>\n",
       "      <td>1360</td>\n",
       "      <td>73</td>\n",
       "      <td>NaN</td>\n",
       "      <td>http://images.acmesports.sports/Smart+watch</td>\n",
       "      <td>Smart watch</td>\n",
       "      <td>327.75</td>\n",
       "      <td>0</td>\n",
       "      <td>1/15/2018 11:24</td>\n",
       "      <td>Standard Class</td>\n",
       "    </tr>\n",
       "  </tbody>\n",
       "</table>\n",
       "<p>5 rows × 53 columns</p>\n",
       "</div>"
      ],
      "text/plain": [
       "       Type  Days for shipping (real)  Days for shipment (scheduled)  \\\n",
       "0     DEBIT                         3                              4   \n",
       "1  TRANSFER                         5                              4   \n",
       "2      CASH                         4                              4   \n",
       "3     DEBIT                         3                              4   \n",
       "4   PAYMENT                         2                              4   \n",
       "\n",
       "   Benefit per order  Sales per customer   Delivery Status  \\\n",
       "0          91.250000          314.640015  Advance shipping   \n",
       "1        -249.089996          311.359985     Late delivery   \n",
       "2        -247.779999          309.720001  Shipping on time   \n",
       "3          22.860001          304.809998  Advance shipping   \n",
       "4         134.210007          298.250000  Advance shipping   \n",
       "\n",
       "   Late_delivery_risk  Category Id   Category Name Customer City  ...  \\\n",
       "0                   0           73  Sporting Goods        Caguas  ...   \n",
       "1                   1           73  Sporting Goods        Caguas  ...   \n",
       "2                   0           73  Sporting Goods      San Jose  ...   \n",
       "3                   0           73  Sporting Goods   Los Angeles  ...   \n",
       "4                   0           73  Sporting Goods        Caguas  ...   \n",
       "\n",
       "  Order Zipcode Product Card Id Product Category Id  Product Description  \\\n",
       "0           NaN            1360                  73                  NaN   \n",
       "1           NaN            1360                  73                  NaN   \n",
       "2           NaN            1360                  73                  NaN   \n",
       "3           NaN            1360                  73                  NaN   \n",
       "4           NaN            1360                  73                  NaN   \n",
       "\n",
       "                                  Product Image  Product Name Product Price  \\\n",
       "0  http://images.acmesports.sports/Smart+watch   Smart watch         327.75   \n",
       "1  http://images.acmesports.sports/Smart+watch   Smart watch         327.75   \n",
       "2  http://images.acmesports.sports/Smart+watch   Smart watch         327.75   \n",
       "3  http://images.acmesports.sports/Smart+watch   Smart watch         327.75   \n",
       "4  http://images.acmesports.sports/Smart+watch   Smart watch         327.75   \n",
       "\n",
       "  Product Status shipping date (DateOrders)   Shipping Mode  \n",
       "0              0           02-03-2018 22:56  Standard Class  \n",
       "1              0            1/18/2018 12:27  Standard Class  \n",
       "2              0            1/17/2018 12:06  Standard Class  \n",
       "3              0            1/16/2018 11:45  Standard Class  \n",
       "4              0            1/15/2018 11:24  Standard Class  \n",
       "\n",
       "[5 rows x 53 columns]"
      ]
     },
     "execution_count": 3,
     "metadata": {},
     "output_type": "execute_result"
    }
   ],
   "source": [
    "df.head()"
   ]
  },
  {
   "cell_type": "code",
   "execution_count": 4,
   "id": "250a8a04",
   "metadata": {},
   "outputs": [
    {
     "name": "stdout",
     "output_type": "stream",
     "text": [
      "<class 'pandas.core.frame.DataFrame'>\n",
      "RangeIndex: 180519 entries, 0 to 180518\n",
      "Data columns (total 53 columns):\n",
      " #   Column                         Non-Null Count   Dtype  \n",
      "---  ------                         --------------   -----  \n",
      " 0   Type                           180519 non-null  object \n",
      " 1   Days for shipping (real)       180519 non-null  int64  \n",
      " 2   Days for shipment (scheduled)  180519 non-null  int64  \n",
      " 3   Benefit per order              180519 non-null  float64\n",
      " 4   Sales per customer             180519 non-null  float64\n",
      " 5   Delivery Status                180519 non-null  object \n",
      " 6   Late_delivery_risk             180519 non-null  int64  \n",
      " 7   Category Id                    180519 non-null  int64  \n",
      " 8   Category Name                  180519 non-null  object \n",
      " 9   Customer City                  180519 non-null  object \n",
      " 10  Customer Country               180519 non-null  object \n",
      " 11  Customer Email                 180519 non-null  object \n",
      " 12  Customer Fname                 180519 non-null  object \n",
      " 13  Customer Id                    180519 non-null  int64  \n",
      " 14  Customer Lname                 180511 non-null  object \n",
      " 15  Customer Password              180519 non-null  object \n",
      " 16  Customer Segment               180519 non-null  object \n",
      " 17  Customer State                 180519 non-null  object \n",
      " 18  Customer Street                180519 non-null  object \n",
      " 19  Customer Zipcode               180516 non-null  float64\n",
      " 20  Department Id                  180519 non-null  int64  \n",
      " 21  Department Name                180519 non-null  object \n",
      " 22  Latitude                       180519 non-null  float64\n",
      " 23  Longitude                      180519 non-null  float64\n",
      " 24  Market                         180519 non-null  object \n",
      " 25  Order City                     180519 non-null  object \n",
      " 26  Order Country                  180519 non-null  object \n",
      " 27  Order Customer Id              180519 non-null  int64  \n",
      " 28  order date (DateOrders)        180519 non-null  object \n",
      " 29  Order Id                       180519 non-null  int64  \n",
      " 30  Order Item Cardprod Id         180519 non-null  int64  \n",
      " 31  Order Item Discount            180519 non-null  float64\n",
      " 32  Order Item Discount Rate       180519 non-null  float64\n",
      " 33  Order Item Id                  180519 non-null  int64  \n",
      " 34  Order Item Product Price       180519 non-null  float64\n",
      " 35  Order Item Profit Ratio        180519 non-null  float64\n",
      " 36  Order Item Quantity            180519 non-null  int64  \n",
      " 37  Sales                          180519 non-null  float64\n",
      " 38  Order Item Total               180519 non-null  float64\n",
      " 39  Order Profit Per Order         180519 non-null  float64\n",
      " 40  Order Region                   180519 non-null  object \n",
      " 41  Order State                    180519 non-null  object \n",
      " 42  Order Status                   180519 non-null  object \n",
      " 43  Order Zipcode                  24840 non-null   float64\n",
      " 44  Product Card Id                180519 non-null  int64  \n",
      " 45  Product Category Id            180519 non-null  int64  \n",
      " 46  Product Description            0 non-null       float64\n",
      " 47  Product Image                  180519 non-null  object \n",
      " 48  Product Name                   180519 non-null  object \n",
      " 49  Product Price                  180519 non-null  float64\n",
      " 50  Product Status                 180519 non-null  int64  \n",
      " 51  shipping date (DateOrders)     180519 non-null  object \n",
      " 52  Shipping Mode                  180519 non-null  object \n",
      "dtypes: float64(15), int64(14), object(24)\n",
      "memory usage: 73.0+ MB\n"
     ]
    }
   ],
   "source": [
    "df.info()"
   ]
  },
  {
   "cell_type": "code",
   "execution_count": 5,
   "id": "553703d6",
   "metadata": {},
   "outputs": [
    {
     "data": {
      "text/html": [
       "<div>\n",
       "<style scoped>\n",
       "    .dataframe tbody tr th:only-of-type {\n",
       "        vertical-align: middle;\n",
       "    }\n",
       "\n",
       "    .dataframe tbody tr th {\n",
       "        vertical-align: top;\n",
       "    }\n",
       "\n",
       "    .dataframe thead th {\n",
       "        text-align: right;\n",
       "    }\n",
       "</style>\n",
       "<table border=\"1\" class=\"dataframe\">\n",
       "  <thead>\n",
       "    <tr style=\"text-align: right;\">\n",
       "      <th></th>\n",
       "      <th>Days for shipping (real)</th>\n",
       "      <th>Days for shipment (scheduled)</th>\n",
       "      <th>Benefit per order</th>\n",
       "      <th>Sales per customer</th>\n",
       "      <th>Late_delivery_risk</th>\n",
       "      <th>Category Id</th>\n",
       "      <th>Customer Id</th>\n",
       "      <th>Customer Zipcode</th>\n",
       "      <th>Department Id</th>\n",
       "      <th>Latitude</th>\n",
       "      <th>...</th>\n",
       "      <th>Order Item Quantity</th>\n",
       "      <th>Sales</th>\n",
       "      <th>Order Item Total</th>\n",
       "      <th>Order Profit Per Order</th>\n",
       "      <th>Order Zipcode</th>\n",
       "      <th>Product Card Id</th>\n",
       "      <th>Product Category Id</th>\n",
       "      <th>Product Description</th>\n",
       "      <th>Product Price</th>\n",
       "      <th>Product Status</th>\n",
       "    </tr>\n",
       "  </thead>\n",
       "  <tbody>\n",
       "    <tr>\n",
       "      <th>count</th>\n",
       "      <td>180519.000000</td>\n",
       "      <td>180519.000000</td>\n",
       "      <td>180519.000000</td>\n",
       "      <td>180519.000000</td>\n",
       "      <td>180519.000000</td>\n",
       "      <td>180519.000000</td>\n",
       "      <td>180519.000000</td>\n",
       "      <td>180516.000000</td>\n",
       "      <td>180519.000000</td>\n",
       "      <td>180519.000000</td>\n",
       "      <td>...</td>\n",
       "      <td>180519.000000</td>\n",
       "      <td>180519.000000</td>\n",
       "      <td>180519.000000</td>\n",
       "      <td>180519.000000</td>\n",
       "      <td>24840.000000</td>\n",
       "      <td>180519.000000</td>\n",
       "      <td>180519.000000</td>\n",
       "      <td>0.0</td>\n",
       "      <td>180519.000000</td>\n",
       "      <td>180519.0</td>\n",
       "    </tr>\n",
       "    <tr>\n",
       "      <th>mean</th>\n",
       "      <td>3.497654</td>\n",
       "      <td>2.931847</td>\n",
       "      <td>21.974989</td>\n",
       "      <td>183.107609</td>\n",
       "      <td>0.548291</td>\n",
       "      <td>31.851451</td>\n",
       "      <td>6691.379495</td>\n",
       "      <td>35921.126914</td>\n",
       "      <td>5.443460</td>\n",
       "      <td>29.719955</td>\n",
       "      <td>...</td>\n",
       "      <td>2.127638</td>\n",
       "      <td>203.772096</td>\n",
       "      <td>183.107609</td>\n",
       "      <td>21.974989</td>\n",
       "      <td>55426.132327</td>\n",
       "      <td>692.509764</td>\n",
       "      <td>31.851451</td>\n",
       "      <td>NaN</td>\n",
       "      <td>141.232550</td>\n",
       "      <td>0.0</td>\n",
       "    </tr>\n",
       "    <tr>\n",
       "      <th>std</th>\n",
       "      <td>1.623722</td>\n",
       "      <td>1.374449</td>\n",
       "      <td>104.433526</td>\n",
       "      <td>120.043670</td>\n",
       "      <td>0.497664</td>\n",
       "      <td>15.640064</td>\n",
       "      <td>4162.918106</td>\n",
       "      <td>37542.461122</td>\n",
       "      <td>1.629246</td>\n",
       "      <td>9.813646</td>\n",
       "      <td>...</td>\n",
       "      <td>1.453451</td>\n",
       "      <td>132.273077</td>\n",
       "      <td>120.043670</td>\n",
       "      <td>104.433526</td>\n",
       "      <td>31919.279101</td>\n",
       "      <td>336.446807</td>\n",
       "      <td>15.640064</td>\n",
       "      <td>NaN</td>\n",
       "      <td>139.732492</td>\n",
       "      <td>0.0</td>\n",
       "    </tr>\n",
       "    <tr>\n",
       "      <th>min</th>\n",
       "      <td>0.000000</td>\n",
       "      <td>0.000000</td>\n",
       "      <td>-4274.979980</td>\n",
       "      <td>7.490000</td>\n",
       "      <td>0.000000</td>\n",
       "      <td>2.000000</td>\n",
       "      <td>1.000000</td>\n",
       "      <td>603.000000</td>\n",
       "      <td>2.000000</td>\n",
       "      <td>-33.937553</td>\n",
       "      <td>...</td>\n",
       "      <td>1.000000</td>\n",
       "      <td>9.990000</td>\n",
       "      <td>7.490000</td>\n",
       "      <td>-4274.979980</td>\n",
       "      <td>1040.000000</td>\n",
       "      <td>19.000000</td>\n",
       "      <td>2.000000</td>\n",
       "      <td>NaN</td>\n",
       "      <td>9.990000</td>\n",
       "      <td>0.0</td>\n",
       "    </tr>\n",
       "    <tr>\n",
       "      <th>25%</th>\n",
       "      <td>2.000000</td>\n",
       "      <td>2.000000</td>\n",
       "      <td>7.000000</td>\n",
       "      <td>104.379997</td>\n",
       "      <td>0.000000</td>\n",
       "      <td>18.000000</td>\n",
       "      <td>3258.500000</td>\n",
       "      <td>725.000000</td>\n",
       "      <td>4.000000</td>\n",
       "      <td>18.265432</td>\n",
       "      <td>...</td>\n",
       "      <td>1.000000</td>\n",
       "      <td>119.980003</td>\n",
       "      <td>104.379997</td>\n",
       "      <td>7.000000</td>\n",
       "      <td>23464.000000</td>\n",
       "      <td>403.000000</td>\n",
       "      <td>18.000000</td>\n",
       "      <td>NaN</td>\n",
       "      <td>50.000000</td>\n",
       "      <td>0.0</td>\n",
       "    </tr>\n",
       "    <tr>\n",
       "      <th>50%</th>\n",
       "      <td>3.000000</td>\n",
       "      <td>4.000000</td>\n",
       "      <td>31.520000</td>\n",
       "      <td>163.990005</td>\n",
       "      <td>1.000000</td>\n",
       "      <td>29.000000</td>\n",
       "      <td>6457.000000</td>\n",
       "      <td>19380.000000</td>\n",
       "      <td>5.000000</td>\n",
       "      <td>33.144863</td>\n",
       "      <td>...</td>\n",
       "      <td>1.000000</td>\n",
       "      <td>199.919998</td>\n",
       "      <td>163.990005</td>\n",
       "      <td>31.520000</td>\n",
       "      <td>59405.000000</td>\n",
       "      <td>627.000000</td>\n",
       "      <td>29.000000</td>\n",
       "      <td>NaN</td>\n",
       "      <td>59.990002</td>\n",
       "      <td>0.0</td>\n",
       "    </tr>\n",
       "    <tr>\n",
       "      <th>75%</th>\n",
       "      <td>5.000000</td>\n",
       "      <td>4.000000</td>\n",
       "      <td>64.800003</td>\n",
       "      <td>247.399994</td>\n",
       "      <td>1.000000</td>\n",
       "      <td>45.000000</td>\n",
       "      <td>9779.000000</td>\n",
       "      <td>78207.000000</td>\n",
       "      <td>7.000000</td>\n",
       "      <td>39.279617</td>\n",
       "      <td>...</td>\n",
       "      <td>3.000000</td>\n",
       "      <td>299.950012</td>\n",
       "      <td>247.399994</td>\n",
       "      <td>64.800003</td>\n",
       "      <td>90008.000000</td>\n",
       "      <td>1004.000000</td>\n",
       "      <td>45.000000</td>\n",
       "      <td>NaN</td>\n",
       "      <td>199.990005</td>\n",
       "      <td>0.0</td>\n",
       "    </tr>\n",
       "    <tr>\n",
       "      <th>max</th>\n",
       "      <td>6.000000</td>\n",
       "      <td>4.000000</td>\n",
       "      <td>911.799988</td>\n",
       "      <td>1939.989990</td>\n",
       "      <td>1.000000</td>\n",
       "      <td>76.000000</td>\n",
       "      <td>20757.000000</td>\n",
       "      <td>99205.000000</td>\n",
       "      <td>12.000000</td>\n",
       "      <td>48.781933</td>\n",
       "      <td>...</td>\n",
       "      <td>5.000000</td>\n",
       "      <td>1999.989990</td>\n",
       "      <td>1939.989990</td>\n",
       "      <td>911.799988</td>\n",
       "      <td>99301.000000</td>\n",
       "      <td>1363.000000</td>\n",
       "      <td>76.000000</td>\n",
       "      <td>NaN</td>\n",
       "      <td>1999.989990</td>\n",
       "      <td>0.0</td>\n",
       "    </tr>\n",
       "  </tbody>\n",
       "</table>\n",
       "<p>8 rows × 29 columns</p>\n",
       "</div>"
      ],
      "text/plain": [
       "       Days for shipping (real)  Days for shipment (scheduled)  \\\n",
       "count             180519.000000                  180519.000000   \n",
       "mean                   3.497654                       2.931847   \n",
       "std                    1.623722                       1.374449   \n",
       "min                    0.000000                       0.000000   \n",
       "25%                    2.000000                       2.000000   \n",
       "50%                    3.000000                       4.000000   \n",
       "75%                    5.000000                       4.000000   \n",
       "max                    6.000000                       4.000000   \n",
       "\n",
       "       Benefit per order  Sales per customer  Late_delivery_risk  \\\n",
       "count      180519.000000       180519.000000       180519.000000   \n",
       "mean           21.974989          183.107609            0.548291   \n",
       "std           104.433526          120.043670            0.497664   \n",
       "min         -4274.979980            7.490000            0.000000   \n",
       "25%             7.000000          104.379997            0.000000   \n",
       "50%            31.520000          163.990005            1.000000   \n",
       "75%            64.800003          247.399994            1.000000   \n",
       "max           911.799988         1939.989990            1.000000   \n",
       "\n",
       "         Category Id    Customer Id  Customer Zipcode  Department Id  \\\n",
       "count  180519.000000  180519.000000     180516.000000  180519.000000   \n",
       "mean       31.851451    6691.379495      35921.126914       5.443460   \n",
       "std        15.640064    4162.918106      37542.461122       1.629246   \n",
       "min         2.000000       1.000000        603.000000       2.000000   \n",
       "25%        18.000000    3258.500000        725.000000       4.000000   \n",
       "50%        29.000000    6457.000000      19380.000000       5.000000   \n",
       "75%        45.000000    9779.000000      78207.000000       7.000000   \n",
       "max        76.000000   20757.000000      99205.000000      12.000000   \n",
       "\n",
       "            Latitude  ...  Order Item Quantity          Sales  \\\n",
       "count  180519.000000  ...        180519.000000  180519.000000   \n",
       "mean       29.719955  ...             2.127638     203.772096   \n",
       "std         9.813646  ...             1.453451     132.273077   \n",
       "min       -33.937553  ...             1.000000       9.990000   \n",
       "25%        18.265432  ...             1.000000     119.980003   \n",
       "50%        33.144863  ...             1.000000     199.919998   \n",
       "75%        39.279617  ...             3.000000     299.950012   \n",
       "max        48.781933  ...             5.000000    1999.989990   \n",
       "\n",
       "       Order Item Total  Order Profit Per Order  Order Zipcode  \\\n",
       "count     180519.000000           180519.000000   24840.000000   \n",
       "mean         183.107609               21.974989   55426.132327   \n",
       "std          120.043670              104.433526   31919.279101   \n",
       "min            7.490000            -4274.979980    1040.000000   \n",
       "25%          104.379997                7.000000   23464.000000   \n",
       "50%          163.990005               31.520000   59405.000000   \n",
       "75%          247.399994               64.800003   90008.000000   \n",
       "max         1939.989990              911.799988   99301.000000   \n",
       "\n",
       "       Product Card Id  Product Category Id  Product Description  \\\n",
       "count    180519.000000        180519.000000                  0.0   \n",
       "mean        692.509764            31.851451                  NaN   \n",
       "std         336.446807            15.640064                  NaN   \n",
       "min          19.000000             2.000000                  NaN   \n",
       "25%         403.000000            18.000000                  NaN   \n",
       "50%         627.000000            29.000000                  NaN   \n",
       "75%        1004.000000            45.000000                  NaN   \n",
       "max        1363.000000            76.000000                  NaN   \n",
       "\n",
       "       Product Price  Product Status  \n",
       "count  180519.000000        180519.0  \n",
       "mean      141.232550             0.0  \n",
       "std       139.732492             0.0  \n",
       "min         9.990000             0.0  \n",
       "25%        50.000000             0.0  \n",
       "50%        59.990002             0.0  \n",
       "75%       199.990005             0.0  \n",
       "max      1999.989990             0.0  \n",
       "\n",
       "[8 rows x 29 columns]"
      ]
     },
     "execution_count": 5,
     "metadata": {},
     "output_type": "execute_result"
    }
   ],
   "source": [
    "df.describe()"
   ]
  },
  {
   "cell_type": "markdown",
   "id": "05ed294d",
   "metadata": {},
   "source": [
    "### Checking Every Columns"
   ]
  },
  {
   "cell_type": "code",
   "execution_count": 6,
   "id": "e529cec9",
   "metadata": {},
   "outputs": [],
   "source": [
    "## df['column'].nunique() returns no. of unique values in that column.\n",
    "## df['column'].unique() returns all unique values as string."
   ]
  },
  {
   "cell_type": "code",
   "execution_count": 7,
   "id": "b781084f",
   "metadata": {},
   "outputs": [
    {
     "data": {
      "text/plain": [
       "Type                                  4\n",
       "Days for shipping (real)              7\n",
       "Days for shipment (scheduled)         4\n",
       "Benefit per order                 21998\n",
       "Sales per customer                 2927\n",
       "Delivery Status                       4\n",
       "Late_delivery_risk                    2\n",
       "Category Id                          51\n",
       "Category Name                        50\n",
       "Customer City                       563\n",
       "Customer Country                      2\n",
       "Customer Email                        1\n",
       "Customer Fname                      782\n",
       "Customer Id                       20652\n",
       "Customer Lname                     1109\n",
       "Customer Password                     1\n",
       "Customer Segment                      3\n",
       "Customer State                       46\n",
       "Customer Street                    7458\n",
       "Customer Zipcode                    995\n",
       "Department Id                        11\n",
       "Department Name                      11\n",
       "Latitude                          11250\n",
       "Longitude                          4487\n",
       "Market                                5\n",
       "Order City                         3597\n",
       "Order Country                       164\n",
       "Order Customer Id                 20652\n",
       "order date (DateOrders)           65752\n",
       "Order Id                          65752\n",
       "Order Item Cardprod Id              118\n",
       "Order Item Discount                1017\n",
       "Order Item Discount Rate             18\n",
       "Order Item Id                    180519\n",
       "Order Item Product Price             75\n",
       "Order Item Profit Ratio             162\n",
       "Order Item Quantity                   5\n",
       "Sales                               193\n",
       "Order Item Total                   2927\n",
       "Order Profit Per Order            21998\n",
       "Order Region                         23\n",
       "Order State                        1089\n",
       "Order Status                          9\n",
       "Order Zipcode                       609\n",
       "Product Card Id                     118\n",
       "Product Category Id                  51\n",
       "Product Description                   0\n",
       "Product Image                       118\n",
       "Product Name                        118\n",
       "Product Price                        75\n",
       "Product Status                        1\n",
       "shipping date (DateOrders)        63701\n",
       "Shipping Mode                         4\n",
       "dtype: int64"
      ]
     },
     "execution_count": 7,
     "metadata": {},
     "output_type": "execute_result"
    }
   ],
   "source": [
    "df.nunique()"
   ]
  },
  {
   "cell_type": "code",
   "execution_count": 8,
   "id": "ad89edab",
   "metadata": {},
   "outputs": [
    {
     "data": {
      "text/plain": [
       "4"
      ]
     },
     "execution_count": 8,
     "metadata": {},
     "output_type": "execute_result"
    }
   ],
   "source": [
    "df['Type'].nunique()"
   ]
  },
  {
   "cell_type": "code",
   "execution_count": 9,
   "id": "a831a8ea",
   "metadata": {},
   "outputs": [
    {
     "data": {
      "text/plain": [
       "array(['DEBIT', 'TRANSFER', 'CASH', 'PAYMENT'], dtype=object)"
      ]
     },
     "execution_count": 9,
     "metadata": {},
     "output_type": "execute_result"
    }
   ],
   "source": [
    "df['Type'].unique() # This field can be used for visualization"
   ]
  },
  {
   "cell_type": "code",
   "execution_count": 10,
   "id": "b87d50f2",
   "metadata": {},
   "outputs": [
    {
     "data": {
      "text/plain": [
       "7"
      ]
     },
     "execution_count": 10,
     "metadata": {},
     "output_type": "execute_result"
    }
   ],
   "source": [
    "df['Days for shipping (real)'].nunique()"
   ]
  },
  {
   "cell_type": "code",
   "execution_count": 11,
   "id": "fdf9badb",
   "metadata": {},
   "outputs": [
    {
     "data": {
      "text/plain": [
       "array([3, 5, 4, 2, 6, 0, 1], dtype=int64)"
      ]
     },
     "execution_count": 11,
     "metadata": {},
     "output_type": "execute_result"
    }
   ],
   "source": [
    "df['Days for shipping (real)'].unique() # This field can be used for visualization"
   ]
  },
  {
   "cell_type": "code",
   "execution_count": 12,
   "id": "17b5552d",
   "metadata": {},
   "outputs": [
    {
     "data": {
      "text/plain": [
       "4"
      ]
     },
     "execution_count": 12,
     "metadata": {},
     "output_type": "execute_result"
    }
   ],
   "source": [
    "df['Days for shipment (scheduled)'].nunique()"
   ]
  },
  {
   "cell_type": "code",
   "execution_count": 13,
   "id": "28696cd5",
   "metadata": {},
   "outputs": [
    {
     "data": {
      "text/plain": [
       "array([4, 1, 2, 0], dtype=int64)"
      ]
     },
     "execution_count": 13,
     "metadata": {},
     "output_type": "execute_result"
    }
   ],
   "source": [
    "df['Days for shipment (scheduled)'].unique() # This field can be used for visualization"
   ]
  },
  {
   "cell_type": "code",
   "execution_count": 14,
   "id": "79eca513",
   "metadata": {},
   "outputs": [
    {
     "data": {
      "text/plain": [
       "21998"
      ]
     },
     "execution_count": 14,
     "metadata": {},
     "output_type": "execute_result"
    }
   ],
   "source": [
    "df['Benefit per order'].nunique()"
   ]
  },
  {
   "cell_type": "code",
   "execution_count": 15,
   "id": "453977f7",
   "metadata": {},
   "outputs": [
    {
     "data": {
      "text/plain": [
       "2927"
      ]
     },
     "execution_count": 15,
     "metadata": {},
     "output_type": "execute_result"
    }
   ],
   "source": [
    "df['Sales per customer'].nunique()"
   ]
  },
  {
   "cell_type": "code",
   "execution_count": 16,
   "id": "5f5563c5",
   "metadata": {},
   "outputs": [
    {
     "data": {
      "text/plain": [
       "4"
      ]
     },
     "execution_count": 16,
     "metadata": {},
     "output_type": "execute_result"
    }
   ],
   "source": [
    "df['Delivery Status'].nunique() "
   ]
  },
  {
   "cell_type": "code",
   "execution_count": 17,
   "id": "ed86a1f2",
   "metadata": {},
   "outputs": [
    {
     "data": {
      "text/plain": [
       "array(['Advance shipping', 'Late delivery', 'Shipping on time',\n",
       "       'Shipping canceled'], dtype=object)"
      ]
     },
     "execution_count": 17,
     "metadata": {},
     "output_type": "execute_result"
    }
   ],
   "source": [
    "df['Delivery Status'].unique() # This field can be used for visualization"
   ]
  },
  {
   "cell_type": "code",
   "execution_count": 18,
   "id": "68d2cbce",
   "metadata": {},
   "outputs": [
    {
     "data": {
      "text/plain": [
       "2"
      ]
     },
     "execution_count": 18,
     "metadata": {},
     "output_type": "execute_result"
    }
   ],
   "source": [
    "df['Late_delivery_risk'].nunique() "
   ]
  },
  {
   "cell_type": "code",
   "execution_count": 19,
   "id": "f96ceb51",
   "metadata": {},
   "outputs": [
    {
     "data": {
      "text/plain": [
       "array([0, 1], dtype=int64)"
      ]
     },
     "execution_count": 19,
     "metadata": {},
     "output_type": "execute_result"
    }
   ],
   "source": [
    "df['Late_delivery_risk'].unique()"
   ]
  },
  {
   "cell_type": "code",
   "execution_count": 20,
   "id": "08236736",
   "metadata": {},
   "outputs": [],
   "source": [
    "Select = df[['Delivery Status', 'Late_delivery_risk']]"
   ]
  },
  {
   "cell_type": "markdown",
   "id": "3562759f",
   "metadata": {},
   "source": [
    "Whenever there is Late delivery in Delivery Status, Late_delivery_risk shows 1 (true). So we will remove Late_delivery_risk column"
   ]
  },
  {
   "cell_type": "code",
   "execution_count": 21,
   "id": "1e2239a1",
   "metadata": {
    "scrolled": true
   },
   "outputs": [
    {
     "data": {
      "text/html": [
       "<div>\n",
       "<style scoped>\n",
       "    .dataframe tbody tr th:only-of-type {\n",
       "        vertical-align: middle;\n",
       "    }\n",
       "\n",
       "    .dataframe tbody tr th {\n",
       "        vertical-align: top;\n",
       "    }\n",
       "\n",
       "    .dataframe thead th {\n",
       "        text-align: right;\n",
       "    }\n",
       "</style>\n",
       "<table border=\"1\" class=\"dataframe\">\n",
       "  <thead>\n",
       "    <tr style=\"text-align: right;\">\n",
       "      <th></th>\n",
       "      <th>Delivery Status</th>\n",
       "      <th>Late_delivery_risk</th>\n",
       "    </tr>\n",
       "  </thead>\n",
       "  <tbody>\n",
       "    <tr>\n",
       "      <th>0</th>\n",
       "      <td>Advance shipping</td>\n",
       "      <td>0</td>\n",
       "    </tr>\n",
       "    <tr>\n",
       "      <th>1</th>\n",
       "      <td>Late delivery</td>\n",
       "      <td>1</td>\n",
       "    </tr>\n",
       "    <tr>\n",
       "      <th>2</th>\n",
       "      <td>Shipping on time</td>\n",
       "      <td>0</td>\n",
       "    </tr>\n",
       "    <tr>\n",
       "      <th>3</th>\n",
       "      <td>Advance shipping</td>\n",
       "      <td>0</td>\n",
       "    </tr>\n",
       "    <tr>\n",
       "      <th>4</th>\n",
       "      <td>Advance shipping</td>\n",
       "      <td>0</td>\n",
       "    </tr>\n",
       "    <tr>\n",
       "      <th>...</th>\n",
       "      <td>...</td>\n",
       "      <td>...</td>\n",
       "    </tr>\n",
       "    <tr>\n",
       "      <th>180514</th>\n",
       "      <td>Shipping on time</td>\n",
       "      <td>0</td>\n",
       "    </tr>\n",
       "    <tr>\n",
       "      <th>180515</th>\n",
       "      <td>Late delivery</td>\n",
       "      <td>1</td>\n",
       "    </tr>\n",
       "    <tr>\n",
       "      <th>180516</th>\n",
       "      <td>Late delivery</td>\n",
       "      <td>1</td>\n",
       "    </tr>\n",
       "    <tr>\n",
       "      <th>180517</th>\n",
       "      <td>Advance shipping</td>\n",
       "      <td>0</td>\n",
       "    </tr>\n",
       "    <tr>\n",
       "      <th>180518</th>\n",
       "      <td>Shipping on time</td>\n",
       "      <td>0</td>\n",
       "    </tr>\n",
       "  </tbody>\n",
       "</table>\n",
       "<p>180519 rows × 2 columns</p>\n",
       "</div>"
      ],
      "text/plain": [
       "         Delivery Status  Late_delivery_risk\n",
       "0       Advance shipping                   0\n",
       "1          Late delivery                   1\n",
       "2       Shipping on time                   0\n",
       "3       Advance shipping                   0\n",
       "4       Advance shipping                   0\n",
       "...                  ...                 ...\n",
       "180514  Shipping on time                   0\n",
       "180515     Late delivery                   1\n",
       "180516     Late delivery                   1\n",
       "180517  Advance shipping                   0\n",
       "180518  Shipping on time                   0\n",
       "\n",
       "[180519 rows x 2 columns]"
      ]
     },
     "execution_count": 21,
     "metadata": {},
     "output_type": "execute_result"
    }
   ],
   "source": [
    "Select"
   ]
  },
  {
   "cell_type": "code",
   "execution_count": 22,
   "id": "2f42ed25",
   "metadata": {},
   "outputs": [
    {
     "data": {
      "text/plain": [
       "51"
      ]
     },
     "execution_count": 22,
     "metadata": {},
     "output_type": "execute_result"
    }
   ],
   "source": [
    "df['Category Id'].nunique()"
   ]
  },
  {
   "cell_type": "code",
   "execution_count": 23,
   "id": "7d2e1487",
   "metadata": {},
   "outputs": [
    {
     "data": {
      "text/plain": [
       "50"
      ]
     },
     "execution_count": 23,
     "metadata": {},
     "output_type": "execute_result"
    }
   ],
   "source": [
    "df['Category Name'].nunique()"
   ]
  },
  {
   "cell_type": "code",
   "execution_count": 24,
   "id": "6e864b24",
   "metadata": {
    "scrolled": true
   },
   "outputs": [
    {
     "data": {
      "text/plain": [
       "array(['Sporting Goods', 'Cleats', 'Shop By Sport', \"Women's Apparel\",\n",
       "       'Electronics', 'Boxing & MMA', 'Cardio Equipment', 'Trade-In',\n",
       "       \"Kids' Golf Clubs\", 'Hunting & Shooting', 'Baseball & Softball',\n",
       "       \"Men's Footwear\", 'Camping & Hiking', 'Consumer Electronics',\n",
       "       'Cameras ', 'Computers', 'Basketball', 'Soccer', \"Girls' Apparel\",\n",
       "       'Accessories', \"Women's Clothing\", 'Crafts', \"Men's Clothing\",\n",
       "       'Tennis & Racquet', 'Fitness Accessories', 'As Seen on  TV!',\n",
       "       'Golf Balls', 'Strength Training', \"Children's Clothing\",\n",
       "       'Lacrosse', 'Baby ', 'Fishing', 'Books ', 'DVDs', 'CDs ', 'Garden',\n",
       "       'Hockey', 'Pet Supplies', 'Health and Beauty', 'Music',\n",
       "       'Video Games', 'Golf Gloves', 'Golf Bags & Carts', 'Golf Shoes',\n",
       "       'Golf Apparel', \"Women's Golf Clubs\", \"Men's Golf Clubs\", 'Toys',\n",
       "       'Water Sports', 'Indoor/Outdoor Games'], dtype=object)"
      ]
     },
     "execution_count": 24,
     "metadata": {},
     "output_type": "execute_result"
    }
   ],
   "source": [
    "df['Category Name'].unique() # This field can be used for visualization"
   ]
  },
  {
   "cell_type": "code",
   "execution_count": 25,
   "id": "537b4190",
   "metadata": {},
   "outputs": [
    {
     "data": {
      "text/plain": [
       "20652"
      ]
     },
     "execution_count": 25,
     "metadata": {},
     "output_type": "execute_result"
    }
   ],
   "source": [
    "df['Customer Id'].nunique()"
   ]
  },
  {
   "cell_type": "code",
   "execution_count": 26,
   "id": "d2e8338e",
   "metadata": {},
   "outputs": [
    {
     "data": {
      "text/plain": [
       "563"
      ]
     },
     "execution_count": 26,
     "metadata": {},
     "output_type": "execute_result"
    }
   ],
   "source": [
    "df['Customer City'].nunique()"
   ]
  },
  {
   "cell_type": "code",
   "execution_count": 27,
   "id": "10ecf41b",
   "metadata": {},
   "outputs": [
    {
     "data": {
      "text/plain": [
       "2"
      ]
     },
     "execution_count": 27,
     "metadata": {},
     "output_type": "execute_result"
    }
   ],
   "source": [
    "df['Customer Country'].nunique()"
   ]
  },
  {
   "cell_type": "code",
   "execution_count": 28,
   "id": "55cfc1a8",
   "metadata": {},
   "outputs": [
    {
     "data": {
      "text/plain": [
       "array(['Puerto Rico', 'EE. UU.'], dtype=object)"
      ]
     },
     "execution_count": 28,
     "metadata": {},
     "output_type": "execute_result"
    }
   ],
   "source": [
    "df['Customer Country'].unique() # This field can be used for visualization"
   ]
  },
  {
   "cell_type": "code",
   "execution_count": 29,
   "id": "e6e2b76e",
   "metadata": {},
   "outputs": [
    {
     "data": {
      "text/plain": [
       "3"
      ]
     },
     "execution_count": 29,
     "metadata": {},
     "output_type": "execute_result"
    }
   ],
   "source": [
    "df['Customer Segment'].nunique()"
   ]
  },
  {
   "cell_type": "code",
   "execution_count": 30,
   "id": "7b4ff61a",
   "metadata": {},
   "outputs": [
    {
     "data": {
      "text/plain": [
       "array(['Consumer', 'Home Office', 'Corporate'], dtype=object)"
      ]
     },
     "execution_count": 30,
     "metadata": {},
     "output_type": "execute_result"
    }
   ],
   "source": [
    "df['Customer Segment'].unique() # This field can be used for visualization"
   ]
  },
  {
   "cell_type": "code",
   "execution_count": 31,
   "id": "608831ce",
   "metadata": {},
   "outputs": [
    {
     "data": {
      "text/plain": [
       "46"
      ]
     },
     "execution_count": 31,
     "metadata": {},
     "output_type": "execute_result"
    }
   ],
   "source": [
    "df['Customer State'].nunique()"
   ]
  },
  {
   "cell_type": "code",
   "execution_count": 32,
   "id": "0524d25d",
   "metadata": {},
   "outputs": [
    {
     "data": {
      "text/plain": [
       "11"
      ]
     },
     "execution_count": 32,
     "metadata": {},
     "output_type": "execute_result"
    }
   ],
   "source": [
    "df['Department Id'].nunique()"
   ]
  },
  {
   "cell_type": "code",
   "execution_count": 33,
   "id": "8d25223f",
   "metadata": {},
   "outputs": [
    {
     "data": {
      "text/plain": [
       "11"
      ]
     },
     "execution_count": 33,
     "metadata": {},
     "output_type": "execute_result"
    }
   ],
   "source": [
    "df['Department Name'].nunique()"
   ]
  },
  {
   "cell_type": "code",
   "execution_count": 34,
   "id": "f16ed034",
   "metadata": {},
   "outputs": [
    {
     "data": {
      "text/plain": [
       "array(['Fitness', 'Apparel', 'Golf', 'Footwear', 'Outdoors', 'Fan Shop',\n",
       "       'Technology', 'Book Shop', 'Discs Shop', 'Pet Shop',\n",
       "       'Health and Beauty '], dtype=object)"
      ]
     },
     "execution_count": 34,
     "metadata": {},
     "output_type": "execute_result"
    }
   ],
   "source": [
    "df['Department Name'].unique() # This field can be used for visualization"
   ]
  },
  {
   "cell_type": "code",
   "execution_count": 35,
   "id": "20cc248b",
   "metadata": {},
   "outputs": [
    {
     "data": {
      "text/plain": [
       "5"
      ]
     },
     "execution_count": 35,
     "metadata": {},
     "output_type": "execute_result"
    }
   ],
   "source": [
    "df['Market'].nunique()"
   ]
  },
  {
   "cell_type": "code",
   "execution_count": 36,
   "id": "16596ea7",
   "metadata": {},
   "outputs": [
    {
     "data": {
      "text/plain": [
       "array(['Pacific Asia', 'USCA', 'Africa', 'Europe', 'LATAM'], dtype=object)"
      ]
     },
     "execution_count": 36,
     "metadata": {},
     "output_type": "execute_result"
    }
   ],
   "source": [
    "df['Market'].unique() # This field can be used for visualization"
   ]
  },
  {
   "cell_type": "code",
   "execution_count": 37,
   "id": "a8db02db",
   "metadata": {},
   "outputs": [
    {
     "data": {
      "text/plain": [
       "3597"
      ]
     },
     "execution_count": 37,
     "metadata": {},
     "output_type": "execute_result"
    }
   ],
   "source": [
    "df['Order City'].nunique()"
   ]
  },
  {
   "cell_type": "code",
   "execution_count": 38,
   "id": "d25de40e",
   "metadata": {},
   "outputs": [
    {
     "data": {
      "text/plain": [
       "164"
      ]
     },
     "execution_count": 38,
     "metadata": {},
     "output_type": "execute_result"
    }
   ],
   "source": [
    "df['Order Country'].nunique() # This field can be used for visualization"
   ]
  },
  {
   "cell_type": "code",
   "execution_count": 39,
   "id": "31b6d522",
   "metadata": {},
   "outputs": [
    {
     "data": {
      "text/plain": [
       "65752"
      ]
     },
     "execution_count": 39,
     "metadata": {},
     "output_type": "execute_result"
    }
   ],
   "source": [
    "df['order date (DateOrders)'].nunique() # Conversion ahead # This field can be used for visualization"
   ]
  },
  {
   "cell_type": "code",
   "execution_count": 40,
   "id": "ea0b001c",
   "metadata": {},
   "outputs": [
    {
     "data": {
      "text/plain": [
       "5"
      ]
     },
     "execution_count": 40,
     "metadata": {},
     "output_type": "execute_result"
    }
   ],
   "source": [
    "df['Order Item Quantity'].nunique()"
   ]
  },
  {
   "cell_type": "code",
   "execution_count": 41,
   "id": "a85e2dab",
   "metadata": {},
   "outputs": [
    {
     "data": {
      "text/plain": [
       "array([1, 2, 3, 5, 4], dtype=int64)"
      ]
     },
     "execution_count": 41,
     "metadata": {},
     "output_type": "execute_result"
    }
   ],
   "source": [
    "df['Order Item Quantity'].unique() # This field can be used for visualization"
   ]
  },
  {
   "cell_type": "code",
   "execution_count": 42,
   "id": "9789b8b9",
   "metadata": {},
   "outputs": [
    {
     "data": {
      "text/plain": [
       "193"
      ]
     },
     "execution_count": 42,
     "metadata": {},
     "output_type": "execute_result"
    }
   ],
   "source": [
    "df['Sales'].nunique()"
   ]
  },
  {
   "cell_type": "code",
   "execution_count": 43,
   "id": "56b4b2ef",
   "metadata": {},
   "outputs": [
    {
     "data": {
      "text/plain": [
       "23"
      ]
     },
     "execution_count": 43,
     "metadata": {},
     "output_type": "execute_result"
    }
   ],
   "source": [
    "df['Order Region'].nunique() "
   ]
  },
  {
   "cell_type": "code",
   "execution_count": 44,
   "id": "e2f8f0d3",
   "metadata": {},
   "outputs": [
    {
     "data": {
      "text/plain": [
       "array(['Southeast Asia', 'South Asia', 'Oceania', 'Eastern Asia',\n",
       "       'West Asia', 'West of USA ', 'US Center ', 'West Africa',\n",
       "       'Central Africa', 'North Africa', 'Western Europe',\n",
       "       'Northern Europe', 'Central America', 'Caribbean', 'South America',\n",
       "       'East Africa', 'Southern Europe', 'East of USA', 'Canada',\n",
       "       'Southern Africa', 'Central Asia', 'Eastern Europe',\n",
       "       'South of  USA '], dtype=object)"
      ]
     },
     "execution_count": 44,
     "metadata": {},
     "output_type": "execute_result"
    }
   ],
   "source": [
    "df['Order Region'].unique() # This field can be used for visualization"
   ]
  },
  {
   "cell_type": "code",
   "execution_count": 45,
   "id": "d118b6ca",
   "metadata": {},
   "outputs": [
    {
     "data": {
      "text/plain": [
       "1089"
      ]
     },
     "execution_count": 45,
     "metadata": {},
     "output_type": "execute_result"
    }
   ],
   "source": [
    "df['Order State'].nunique()"
   ]
  },
  {
   "cell_type": "code",
   "execution_count": 46,
   "id": "e3d97a56",
   "metadata": {},
   "outputs": [
    {
     "data": {
      "text/plain": [
       "9"
      ]
     },
     "execution_count": 46,
     "metadata": {},
     "output_type": "execute_result"
    }
   ],
   "source": [
    "df['Order Status'].nunique() "
   ]
  },
  {
   "cell_type": "code",
   "execution_count": 47,
   "id": "5526778f",
   "metadata": {},
   "outputs": [
    {
     "data": {
      "text/plain": [
       "array(['COMPLETE', 'PENDING', 'CLOSED', 'PENDING_PAYMENT', 'CANCELED',\n",
       "       'PROCESSING', 'SUSPECTED_FRAUD', 'ON_HOLD', 'PAYMENT_REVIEW'],\n",
       "      dtype=object)"
      ]
     },
     "execution_count": 47,
     "metadata": {},
     "output_type": "execute_result"
    }
   ],
   "source": [
    "df['Order Status'].unique() # This field can be used for visualization"
   ]
  },
  {
   "cell_type": "code",
   "execution_count": 48,
   "id": "e1c2ab23",
   "metadata": {},
   "outputs": [
    {
     "data": {
      "text/plain": [
       "118"
      ]
     },
     "execution_count": 48,
     "metadata": {},
     "output_type": "execute_result"
    }
   ],
   "source": [
    "df['Product Name'].nunique()"
   ]
  },
  {
   "cell_type": "code",
   "execution_count": 49,
   "id": "6babfb22",
   "metadata": {},
   "outputs": [
    {
     "data": {
      "text/plain": [
       "75"
      ]
     },
     "execution_count": 49,
     "metadata": {},
     "output_type": "execute_result"
    }
   ],
   "source": [
    "df['Product Price'].nunique()"
   ]
  },
  {
   "cell_type": "code",
   "execution_count": 50,
   "id": "8d169259",
   "metadata": {},
   "outputs": [
    {
     "data": {
      "text/plain": [
       "1"
      ]
     },
     "execution_count": 50,
     "metadata": {},
     "output_type": "execute_result"
    }
   ],
   "source": [
    "df['Product Status'].nunique() # Remove this column."
   ]
  },
  {
   "cell_type": "code",
   "execution_count": 51,
   "id": "780ab652",
   "metadata": {},
   "outputs": [
    {
     "data": {
      "text/plain": [
       "63701"
      ]
     },
     "execution_count": 51,
     "metadata": {},
     "output_type": "execute_result"
    }
   ],
   "source": [
    "df['shipping date (DateOrders)'].nunique()"
   ]
  },
  {
   "cell_type": "code",
   "execution_count": 52,
   "id": "db535800",
   "metadata": {},
   "outputs": [
    {
     "data": {
      "text/plain": [
       "4"
      ]
     },
     "execution_count": 52,
     "metadata": {},
     "output_type": "execute_result"
    }
   ],
   "source": [
    "df['Shipping Mode'].nunique() "
   ]
  },
  {
   "cell_type": "code",
   "execution_count": 53,
   "id": "e87561da",
   "metadata": {},
   "outputs": [
    {
     "data": {
      "text/plain": [
       "array(['Standard Class', 'First Class', 'Second Class', 'Same Day'],\n",
       "      dtype=object)"
      ]
     },
     "execution_count": 53,
     "metadata": {},
     "output_type": "execute_result"
    }
   ],
   "source": [
    "df['Shipping Mode'].unique() # This field can be used for visualization"
   ]
  },
  {
   "cell_type": "code",
   "execution_count": 54,
   "id": "7806c29e",
   "metadata": {},
   "outputs": [
    {
     "data": {
      "text/plain": [
       "<bound method IndexOpsMixin.nunique of 0            DEBIT\n",
       "1         TRANSFER\n",
       "2             CASH\n",
       "3            DEBIT\n",
       "4          PAYMENT\n",
       "            ...   \n",
       "180514        CASH\n",
       "180515       DEBIT\n",
       "180516    TRANSFER\n",
       "180517     PAYMENT\n",
       "180518     PAYMENT\n",
       "Name: Type, Length: 180519, dtype: object>"
      ]
     },
     "execution_count": 54,
     "metadata": {},
     "output_type": "execute_result"
    }
   ],
   "source": [
    "df['Type'].nunique"
   ]
  },
  {
   "cell_type": "code",
   "execution_count": 55,
   "id": "0bdc0d3d",
   "metadata": {},
   "outputs": [],
   "source": [
    "### Review the df once again"
   ]
  },
  {
   "cell_type": "code",
   "execution_count": 56,
   "id": "7f924de7",
   "metadata": {},
   "outputs": [
    {
     "data": {
      "text/html": [
       "<div>\n",
       "<style scoped>\n",
       "    .dataframe tbody tr th:only-of-type {\n",
       "        vertical-align: middle;\n",
       "    }\n",
       "\n",
       "    .dataframe tbody tr th {\n",
       "        vertical-align: top;\n",
       "    }\n",
       "\n",
       "    .dataframe thead th {\n",
       "        text-align: right;\n",
       "    }\n",
       "</style>\n",
       "<table border=\"1\" class=\"dataframe\">\n",
       "  <thead>\n",
       "    <tr style=\"text-align: right;\">\n",
       "      <th></th>\n",
       "      <th>Type</th>\n",
       "      <th>Days for shipping (real)</th>\n",
       "      <th>Days for shipment (scheduled)</th>\n",
       "      <th>Benefit per order</th>\n",
       "      <th>Sales per customer</th>\n",
       "      <th>Delivery Status</th>\n",
       "      <th>Late_delivery_risk</th>\n",
       "      <th>Category Id</th>\n",
       "      <th>Category Name</th>\n",
       "      <th>Customer City</th>\n",
       "      <th>...</th>\n",
       "      <th>Order Zipcode</th>\n",
       "      <th>Product Card Id</th>\n",
       "      <th>Product Category Id</th>\n",
       "      <th>Product Description</th>\n",
       "      <th>Product Image</th>\n",
       "      <th>Product Name</th>\n",
       "      <th>Product Price</th>\n",
       "      <th>Product Status</th>\n",
       "      <th>shipping date (DateOrders)</th>\n",
       "      <th>Shipping Mode</th>\n",
       "    </tr>\n",
       "  </thead>\n",
       "  <tbody>\n",
       "    <tr>\n",
       "      <th>0</th>\n",
       "      <td>DEBIT</td>\n",
       "      <td>3</td>\n",
       "      <td>4</td>\n",
       "      <td>91.250000</td>\n",
       "      <td>314.640015</td>\n",
       "      <td>Advance shipping</td>\n",
       "      <td>0</td>\n",
       "      <td>73</td>\n",
       "      <td>Sporting Goods</td>\n",
       "      <td>Caguas</td>\n",
       "      <td>...</td>\n",
       "      <td>NaN</td>\n",
       "      <td>1360</td>\n",
       "      <td>73</td>\n",
       "      <td>NaN</td>\n",
       "      <td>http://images.acmesports.sports/Smart+watch</td>\n",
       "      <td>Smart watch</td>\n",
       "      <td>327.750000</td>\n",
       "      <td>0</td>\n",
       "      <td>02-03-2018 22:56</td>\n",
       "      <td>Standard Class</td>\n",
       "    </tr>\n",
       "    <tr>\n",
       "      <th>1</th>\n",
       "      <td>TRANSFER</td>\n",
       "      <td>5</td>\n",
       "      <td>4</td>\n",
       "      <td>-249.089996</td>\n",
       "      <td>311.359985</td>\n",
       "      <td>Late delivery</td>\n",
       "      <td>1</td>\n",
       "      <td>73</td>\n",
       "      <td>Sporting Goods</td>\n",
       "      <td>Caguas</td>\n",
       "      <td>...</td>\n",
       "      <td>NaN</td>\n",
       "      <td>1360</td>\n",
       "      <td>73</td>\n",
       "      <td>NaN</td>\n",
       "      <td>http://images.acmesports.sports/Smart+watch</td>\n",
       "      <td>Smart watch</td>\n",
       "      <td>327.750000</td>\n",
       "      <td>0</td>\n",
       "      <td>1/18/2018 12:27</td>\n",
       "      <td>Standard Class</td>\n",
       "    </tr>\n",
       "    <tr>\n",
       "      <th>2</th>\n",
       "      <td>CASH</td>\n",
       "      <td>4</td>\n",
       "      <td>4</td>\n",
       "      <td>-247.779999</td>\n",
       "      <td>309.720001</td>\n",
       "      <td>Shipping on time</td>\n",
       "      <td>0</td>\n",
       "      <td>73</td>\n",
       "      <td>Sporting Goods</td>\n",
       "      <td>San Jose</td>\n",
       "      <td>...</td>\n",
       "      <td>NaN</td>\n",
       "      <td>1360</td>\n",
       "      <td>73</td>\n",
       "      <td>NaN</td>\n",
       "      <td>http://images.acmesports.sports/Smart+watch</td>\n",
       "      <td>Smart watch</td>\n",
       "      <td>327.750000</td>\n",
       "      <td>0</td>\n",
       "      <td>1/17/2018 12:06</td>\n",
       "      <td>Standard Class</td>\n",
       "    </tr>\n",
       "    <tr>\n",
       "      <th>3</th>\n",
       "      <td>DEBIT</td>\n",
       "      <td>3</td>\n",
       "      <td>4</td>\n",
       "      <td>22.860001</td>\n",
       "      <td>304.809998</td>\n",
       "      <td>Advance shipping</td>\n",
       "      <td>0</td>\n",
       "      <td>73</td>\n",
       "      <td>Sporting Goods</td>\n",
       "      <td>Los Angeles</td>\n",
       "      <td>...</td>\n",
       "      <td>NaN</td>\n",
       "      <td>1360</td>\n",
       "      <td>73</td>\n",
       "      <td>NaN</td>\n",
       "      <td>http://images.acmesports.sports/Smart+watch</td>\n",
       "      <td>Smart watch</td>\n",
       "      <td>327.750000</td>\n",
       "      <td>0</td>\n",
       "      <td>1/16/2018 11:45</td>\n",
       "      <td>Standard Class</td>\n",
       "    </tr>\n",
       "    <tr>\n",
       "      <th>4</th>\n",
       "      <td>PAYMENT</td>\n",
       "      <td>2</td>\n",
       "      <td>4</td>\n",
       "      <td>134.210007</td>\n",
       "      <td>298.250000</td>\n",
       "      <td>Advance shipping</td>\n",
       "      <td>0</td>\n",
       "      <td>73</td>\n",
       "      <td>Sporting Goods</td>\n",
       "      <td>Caguas</td>\n",
       "      <td>...</td>\n",
       "      <td>NaN</td>\n",
       "      <td>1360</td>\n",
       "      <td>73</td>\n",
       "      <td>NaN</td>\n",
       "      <td>http://images.acmesports.sports/Smart+watch</td>\n",
       "      <td>Smart watch</td>\n",
       "      <td>327.750000</td>\n",
       "      <td>0</td>\n",
       "      <td>1/15/2018 11:24</td>\n",
       "      <td>Standard Class</td>\n",
       "    </tr>\n",
       "    <tr>\n",
       "      <th>...</th>\n",
       "      <td>...</td>\n",
       "      <td>...</td>\n",
       "      <td>...</td>\n",
       "      <td>...</td>\n",
       "      <td>...</td>\n",
       "      <td>...</td>\n",
       "      <td>...</td>\n",
       "      <td>...</td>\n",
       "      <td>...</td>\n",
       "      <td>...</td>\n",
       "      <td>...</td>\n",
       "      <td>...</td>\n",
       "      <td>...</td>\n",
       "      <td>...</td>\n",
       "      <td>...</td>\n",
       "      <td>...</td>\n",
       "      <td>...</td>\n",
       "      <td>...</td>\n",
       "      <td>...</td>\n",
       "      <td>...</td>\n",
       "      <td>...</td>\n",
       "    </tr>\n",
       "    <tr>\n",
       "      <th>180514</th>\n",
       "      <td>CASH</td>\n",
       "      <td>4</td>\n",
       "      <td>4</td>\n",
       "      <td>40.000000</td>\n",
       "      <td>399.980011</td>\n",
       "      <td>Shipping on time</td>\n",
       "      <td>0</td>\n",
       "      <td>45</td>\n",
       "      <td>Fishing</td>\n",
       "      <td>Brooklyn</td>\n",
       "      <td>...</td>\n",
       "      <td>NaN</td>\n",
       "      <td>1004</td>\n",
       "      <td>45</td>\n",
       "      <td>NaN</td>\n",
       "      <td>http://images.acmesports.sports/Field+%26+Stre...</td>\n",
       "      <td>Field &amp; Stream Sportsman 16 Gun Fire Safe</td>\n",
       "      <td>399.980011</td>\n",
       "      <td>0</td>\n",
       "      <td>1/20/2016 3:40</td>\n",
       "      <td>Standard Class</td>\n",
       "    </tr>\n",
       "    <tr>\n",
       "      <th>180515</th>\n",
       "      <td>DEBIT</td>\n",
       "      <td>3</td>\n",
       "      <td>2</td>\n",
       "      <td>-613.770019</td>\n",
       "      <td>395.980011</td>\n",
       "      <td>Late delivery</td>\n",
       "      <td>1</td>\n",
       "      <td>45</td>\n",
       "      <td>Fishing</td>\n",
       "      <td>Bakersfield</td>\n",
       "      <td>...</td>\n",
       "      <td>NaN</td>\n",
       "      <td>1004</td>\n",
       "      <td>45</td>\n",
       "      <td>NaN</td>\n",
       "      <td>http://images.acmesports.sports/Field+%26+Stre...</td>\n",
       "      <td>Field &amp; Stream Sportsman 16 Gun Fire Safe</td>\n",
       "      <td>399.980011</td>\n",
       "      <td>0</td>\n",
       "      <td>1/19/2016 1:34</td>\n",
       "      <td>Second Class</td>\n",
       "    </tr>\n",
       "    <tr>\n",
       "      <th>180516</th>\n",
       "      <td>TRANSFER</td>\n",
       "      <td>5</td>\n",
       "      <td>4</td>\n",
       "      <td>141.110001</td>\n",
       "      <td>391.980011</td>\n",
       "      <td>Late delivery</td>\n",
       "      <td>1</td>\n",
       "      <td>45</td>\n",
       "      <td>Fishing</td>\n",
       "      <td>Bristol</td>\n",
       "      <td>...</td>\n",
       "      <td>NaN</td>\n",
       "      <td>1004</td>\n",
       "      <td>45</td>\n",
       "      <td>NaN</td>\n",
       "      <td>http://images.acmesports.sports/Field+%26+Stre...</td>\n",
       "      <td>Field &amp; Stream Sportsman 16 Gun Fire Safe</td>\n",
       "      <td>399.980011</td>\n",
       "      <td>0</td>\n",
       "      <td>1/20/2016 21:00</td>\n",
       "      <td>Standard Class</td>\n",
       "    </tr>\n",
       "    <tr>\n",
       "      <th>180517</th>\n",
       "      <td>PAYMENT</td>\n",
       "      <td>3</td>\n",
       "      <td>4</td>\n",
       "      <td>186.229996</td>\n",
       "      <td>387.980011</td>\n",
       "      <td>Advance shipping</td>\n",
       "      <td>0</td>\n",
       "      <td>45</td>\n",
       "      <td>Fishing</td>\n",
       "      <td>Caguas</td>\n",
       "      <td>...</td>\n",
       "      <td>NaN</td>\n",
       "      <td>1004</td>\n",
       "      <td>45</td>\n",
       "      <td>NaN</td>\n",
       "      <td>http://images.acmesports.sports/Field+%26+Stre...</td>\n",
       "      <td>Field &amp; Stream Sportsman 16 Gun Fire Safe</td>\n",
       "      <td>399.980011</td>\n",
       "      <td>0</td>\n",
       "      <td>1/18/2016 20:18</td>\n",
       "      <td>Standard Class</td>\n",
       "    </tr>\n",
       "    <tr>\n",
       "      <th>180518</th>\n",
       "      <td>PAYMENT</td>\n",
       "      <td>4</td>\n",
       "      <td>4</td>\n",
       "      <td>168.949997</td>\n",
       "      <td>383.980011</td>\n",
       "      <td>Shipping on time</td>\n",
       "      <td>0</td>\n",
       "      <td>45</td>\n",
       "      <td>Fishing</td>\n",
       "      <td>Caguas</td>\n",
       "      <td>...</td>\n",
       "      <td>NaN</td>\n",
       "      <td>1004</td>\n",
       "      <td>45</td>\n",
       "      <td>NaN</td>\n",
       "      <td>http://images.acmesports.sports/Field+%26+Stre...</td>\n",
       "      <td>Field &amp; Stream Sportsman 16 Gun Fire Safe</td>\n",
       "      <td>399.980011</td>\n",
       "      <td>0</td>\n",
       "      <td>1/19/2016 18:54</td>\n",
       "      <td>Standard Class</td>\n",
       "    </tr>\n",
       "  </tbody>\n",
       "</table>\n",
       "<p>180519 rows × 53 columns</p>\n",
       "</div>"
      ],
      "text/plain": [
       "            Type  Days for shipping (real)  Days for shipment (scheduled)  \\\n",
       "0          DEBIT                         3                              4   \n",
       "1       TRANSFER                         5                              4   \n",
       "2           CASH                         4                              4   \n",
       "3          DEBIT                         3                              4   \n",
       "4        PAYMENT                         2                              4   \n",
       "...          ...                       ...                            ...   \n",
       "180514      CASH                         4                              4   \n",
       "180515     DEBIT                         3                              2   \n",
       "180516  TRANSFER                         5                              4   \n",
       "180517   PAYMENT                         3                              4   \n",
       "180518   PAYMENT                         4                              4   \n",
       "\n",
       "        Benefit per order  Sales per customer   Delivery Status  \\\n",
       "0               91.250000          314.640015  Advance shipping   \n",
       "1             -249.089996          311.359985     Late delivery   \n",
       "2             -247.779999          309.720001  Shipping on time   \n",
       "3               22.860001          304.809998  Advance shipping   \n",
       "4              134.210007          298.250000  Advance shipping   \n",
       "...                   ...                 ...               ...   \n",
       "180514          40.000000          399.980011  Shipping on time   \n",
       "180515        -613.770019          395.980011     Late delivery   \n",
       "180516         141.110001          391.980011     Late delivery   \n",
       "180517         186.229996          387.980011  Advance shipping   \n",
       "180518         168.949997          383.980011  Shipping on time   \n",
       "\n",
       "        Late_delivery_risk  Category Id   Category Name Customer City  ...  \\\n",
       "0                        0           73  Sporting Goods        Caguas  ...   \n",
       "1                        1           73  Sporting Goods        Caguas  ...   \n",
       "2                        0           73  Sporting Goods      San Jose  ...   \n",
       "3                        0           73  Sporting Goods   Los Angeles  ...   \n",
       "4                        0           73  Sporting Goods        Caguas  ...   \n",
       "...                    ...          ...             ...           ...  ...   \n",
       "180514                   0           45         Fishing      Brooklyn  ...   \n",
       "180515                   1           45         Fishing   Bakersfield  ...   \n",
       "180516                   1           45         Fishing       Bristol  ...   \n",
       "180517                   0           45         Fishing        Caguas  ...   \n",
       "180518                   0           45         Fishing        Caguas  ...   \n",
       "\n",
       "       Order Zipcode Product Card Id Product Category Id  Product Description  \\\n",
       "0                NaN            1360                  73                  NaN   \n",
       "1                NaN            1360                  73                  NaN   \n",
       "2                NaN            1360                  73                  NaN   \n",
       "3                NaN            1360                  73                  NaN   \n",
       "4                NaN            1360                  73                  NaN   \n",
       "...              ...             ...                 ...                  ...   \n",
       "180514           NaN            1004                  45                  NaN   \n",
       "180515           NaN            1004                  45                  NaN   \n",
       "180516           NaN            1004                  45                  NaN   \n",
       "180517           NaN            1004                  45                  NaN   \n",
       "180518           NaN            1004                  45                  NaN   \n",
       "\n",
       "                                            Product Image  \\\n",
       "0            http://images.acmesports.sports/Smart+watch    \n",
       "1            http://images.acmesports.sports/Smart+watch    \n",
       "2            http://images.acmesports.sports/Smart+watch    \n",
       "3            http://images.acmesports.sports/Smart+watch    \n",
       "4            http://images.acmesports.sports/Smart+watch    \n",
       "...                                                   ...   \n",
       "180514  http://images.acmesports.sports/Field+%26+Stre...   \n",
       "180515  http://images.acmesports.sports/Field+%26+Stre...   \n",
       "180516  http://images.acmesports.sports/Field+%26+Stre...   \n",
       "180517  http://images.acmesports.sports/Field+%26+Stre...   \n",
       "180518  http://images.acmesports.sports/Field+%26+Stre...   \n",
       "\n",
       "                                     Product Name Product Price  \\\n",
       "0                                    Smart watch     327.750000   \n",
       "1                                    Smart watch     327.750000   \n",
       "2                                    Smart watch     327.750000   \n",
       "3                                    Smart watch     327.750000   \n",
       "4                                    Smart watch     327.750000   \n",
       "...                                           ...           ...   \n",
       "180514  Field & Stream Sportsman 16 Gun Fire Safe    399.980011   \n",
       "180515  Field & Stream Sportsman 16 Gun Fire Safe    399.980011   \n",
       "180516  Field & Stream Sportsman 16 Gun Fire Safe    399.980011   \n",
       "180517  Field & Stream Sportsman 16 Gun Fire Safe    399.980011   \n",
       "180518  Field & Stream Sportsman 16 Gun Fire Safe    399.980011   \n",
       "\n",
       "       Product Status shipping date (DateOrders)   Shipping Mode  \n",
       "0                   0           02-03-2018 22:56  Standard Class  \n",
       "1                   0            1/18/2018 12:27  Standard Class  \n",
       "2                   0            1/17/2018 12:06  Standard Class  \n",
       "3                   0            1/16/2018 11:45  Standard Class  \n",
       "4                   0            1/15/2018 11:24  Standard Class  \n",
       "...               ...                        ...             ...  \n",
       "180514              0             1/20/2016 3:40  Standard Class  \n",
       "180515              0             1/19/2016 1:34    Second Class  \n",
       "180516              0            1/20/2016 21:00  Standard Class  \n",
       "180517              0            1/18/2016 20:18  Standard Class  \n",
       "180518              0            1/19/2016 18:54  Standard Class  \n",
       "\n",
       "[180519 rows x 53 columns]"
      ]
     },
     "execution_count": 56,
     "metadata": {},
     "output_type": "execute_result"
    }
   ],
   "source": [
    "df"
   ]
  },
  {
   "cell_type": "markdown",
   "id": "45a6304b",
   "metadata": {},
   "source": [
    "### Exploratory Data Analysis (Before Preprocessing)"
   ]
  },
  {
   "cell_type": "code",
   "execution_count": 23,
   "id": "dcfb387d",
   "metadata": {
    "scrolled": true
   },
   "outputs": [
    {
     "name": "stderr",
     "output_type": "stream",
     "text": [
      "C:\\Users\\Aryan\\OneDrive\\Documents\\Machine_Learning\\heart-disease-project\\env\\lib\\site-packages\\ydata_profiling\\profile_report.py:363: UserWarning: Try running command: 'pip install --upgrade Pillow' to avoid ValueError\n",
      "  warnings.warn(\n"
     ]
    },
    {
     "data": {
      "application/vnd.jupyter.widget-view+json": {
       "model_id": "34d407d444ad4a2ea8dc0b754a4e655d",
       "version_major": 2,
       "version_minor": 0
      },
      "text/plain": [
       "Summarize dataset:   0%|          | 0/5 [00:00<?, ?it/s]"
      ]
     },
     "metadata": {},
     "output_type": "display_data"
    },
    {
     "data": {
      "application/vnd.jupyter.widget-view+json": {
       "model_id": "b492e98989fc44b9ad508c018f65cb0f",
       "version_major": 2,
       "version_minor": 0
      },
      "text/plain": [
       "Generate report structure:   0%|          | 0/1 [00:00<?, ?it/s]"
      ]
     },
     "metadata": {},
     "output_type": "display_data"
    },
    {
     "data": {
      "application/vnd.jupyter.widget-view+json": {
       "model_id": "de877e2ede0a4bc3b6c58ba2ba699e3e",
       "version_major": 2,
       "version_minor": 0
      },
      "text/plain": [
       "Render HTML:   0%|          | 0/1 [00:00<?, ?it/s]"
      ]
     },
     "metadata": {},
     "output_type": "display_data"
    },
    {
     "data": {
      "application/vnd.jupyter.widget-view+json": {
       "model_id": "c449b93bab404e3f968dc7592f6fef56",
       "version_major": 2,
       "version_minor": 0
      },
      "text/plain": [
       "Export report to file:   0%|          | 0/1 [00:00<?, ?it/s]"
      ]
     },
     "metadata": {},
     "output_type": "display_data"
    }
   ],
   "source": [
    "# Using Panda Profiling\n",
    "from ydata_profiling import ProfileReport\n",
    "\n",
    "profile = ProfileReport(df, title=\"Profiling Report\")\n",
    "profile.to_file(output_file='output1.html')"
   ]
  },
  {
   "cell_type": "code",
   "execution_count": 55,
   "id": "608968ab",
   "metadata": {},
   "outputs": [
    {
     "data": {
      "application/vnd.jupyter.widget-view+json": {
       "model_id": "b5c39c8974194e748c3cb796df842c16",
       "version_major": 2,
       "version_minor": 0
      },
      "text/plain": [
       "                                             |                                             | [  0%]   00:00 ->…"
      ]
     },
     "metadata": {},
     "output_type": "display_data"
    },
    {
     "name": "stdout",
     "output_type": "stream",
     "text": [
      "Report outputseetviz.html was generated! NOTEBOOK/COLAB USERS: the web browser MAY not pop up, regardless, the report IS saved in your notebook/colab files.\n"
     ]
    }
   ],
   "source": [
    "# Using Sweetviz Profiling\n",
    "import sweetviz as sv\n",
    "report = sv.analyze(df)\n",
    "report.show_html('outputseetviz.html')"
   ]
  },
  {
   "cell_type": "markdown",
   "id": "0188e325",
   "metadata": {},
   "source": [
    "Categorical Column (Dimension)\n",
    "* Type:  Type of transaction made\n",
    "* Delivery Status:  Delivery status of orders: Advance shipping , Late delivery , Shipping canceled , Shipping on time \n",
    "* Late_delivery_risk:  Categorical variable that indicates if sending is late (1), it is not late (0).\n",
    "* Category Name:  Description of the product category\n",
    "* Customer City:  City where the customer made the purchase\n",
    "* Customer Country:  Country where the customer made the purchase\n",
    "* Customer Segment:  Types of Customers: Consumer , Corporate , Home Office\n",
    "* Customer State:  State to which the store where the purchase is registered belongs\n",
    "* Department Name:  Department name of store\n",
    "* Market:  Market to where the order is delivered : Africa , Europe , LATAM , Pacific Asia , USCA\n",
    "* Order City:  Destination city of the order\n",
    "* Order Country:  Destination country of the order\n",
    "* Order Region:  Region of the world where the order is delivered :  Southeast Asia ,South Asia ,Oceania ,Eastern Asia, West Asia , West of USA , US Center , West Africa, Central Africa ,North Africa ,Western Europe ,Northern , Caribbean , South America ,East Africa ,Southern Europe , East of USA ,Canada ,Southern Africa , Central Asia ,  Europe , Central America, Eastern Europe , South of  USA \n",
    "* Order State:  State of the region where the order is delivered\n",
    "* Order Status:  Order Status : COMPLETE , PENDING , CLOSED , PENDING_PAYMENT ,CANCELED , PROCESSING ,SUSPECTED_FRAUD ,ON_HOLD ,PAYMENT_REVIEW\n",
    "* Product Name:  Product Name\n",
    "* Shipping Mode:  The following shipping modes are presented : Standard Class , First Class , Second Class , Same Day\n",
    "\n",
    "Numerical Column (Measure)\n",
    "* Days for shipping (real):  Actual shipping days of the purchased product\n",
    "* Days for shipment (scheduled):  Days of scheduled delivery of the purchased product\n",
    "* Benefit per order:  Earnings per order placed\n",
    "* Sales per customer:  Total sales per customer made per customer\n",
    "* Customer Id (Actually not that important but for visualization it is important)\n",
    "* Order Date:  Date on which the order is made\n",
    "* Order Item Discount:  Order item discount value\n",
    "* Order Item Product Price:  Price of products without discount\n",
    "* Order Item Quantity:  Number of products per order\n",
    "* Sales:  Value in sales\n",
    "* Order Item Total:  Total amount per order \n",
    "* Order Profit Per Order:  Order Profit Per Order\n",
    "* Product Price\n",
    "* Shipping Date:  Exact date and time of shipment\n",
    "\n",
    "Numerical Or Categorical Useless (but discrete like not usable)\n",
    "* Category Id\n",
    "* Customer Email\n",
    "* Customer Fname\n",
    "* Customer Lname\n",
    "* Customer Password \n",
    "* Customer Street  \n",
    "* Customer Zipcode\n",
    "* Department Id\n",
    "* Latitude\n",
    "* Longitude\n",
    "* Order Customer Id\n",
    "* Order Id\n",
    "* Order Item Cardprod Id\n",
    "* Order Item Discount Rate\n",
    "* Order Item Id\n",
    "* Order Item Profit Ratio\n",
    "* Product Image\n",
    "* Product Card Id \n",
    "* Product Category Id\n",
    "\n",
    "Drop these\n",
    "\n",
    "Export as .csv file with all columns\n",
    "\n",
    "Create new df based on usability for Modelling and export this also.\n"
   ]
  },
  {
   "cell_type": "code",
   "execution_count": 57,
   "id": "4392c8b9",
   "metadata": {},
   "outputs": [],
   "source": [
    "## Remove useless columns\n",
    "df = df.drop(columns=['Category Id', 'Customer Email','Customer Fname', 'Customer Lname', 'Customer Password', 'Customer Street', 'Customer Zipcode', 'Department Id', 'Latitude', 'Longitude', 'Order Customer Id','Order Id','Order Item Cardprod Id', 'Order Item Discount Rate', 'Order Item Id', 'Order Item Profit Ratio', 'Product Image','Product Card Id','Product Category Id'])"
   ]
  },
  {
   "cell_type": "markdown",
   "id": "928b7d0c",
   "metadata": {},
   "source": [
    "### Handling Missing Values:"
   ]
  },
  {
   "cell_type": "code",
   "execution_count": 58,
   "id": "e6218537",
   "metadata": {
    "scrolled": true
   },
   "outputs": [
    {
     "data": {
      "text/plain": [
       "Type                                  0\n",
       "Days for shipping (real)              0\n",
       "Days for shipment (scheduled)         0\n",
       "Benefit per order                     0\n",
       "Sales per customer                    0\n",
       "Delivery Status                       0\n",
       "Late_delivery_risk                    0\n",
       "Category Name                         0\n",
       "Customer City                         0\n",
       "Customer Country                      0\n",
       "Customer Id                           0\n",
       "Customer Segment                      0\n",
       "Customer State                        0\n",
       "Department Name                       0\n",
       "Market                                0\n",
       "Order City                            0\n",
       "Order Country                         0\n",
       "order date (DateOrders)               0\n",
       "Order Item Discount                   0\n",
       "Order Item Product Price              0\n",
       "Order Item Quantity                   0\n",
       "Sales                                 0\n",
       "Order Item Total                      0\n",
       "Order Profit Per Order                0\n",
       "Order Region                          0\n",
       "Order State                           0\n",
       "Order Status                          0\n",
       "Order Zipcode                    155679\n",
       "Product Description              180519\n",
       "Product Name                          0\n",
       "Product Price                         0\n",
       "Product Status                        0\n",
       "shipping date (DateOrders)            0\n",
       "Shipping Mode                         0\n",
       "dtype: int64"
      ]
     },
     "execution_count": 58,
     "metadata": {},
     "output_type": "execute_result"
    }
   ],
   "source": [
    "df.isnull().sum()"
   ]
  },
  {
   "cell_type": "code",
   "execution_count": 59,
   "id": "9e8b6e1e",
   "metadata": {},
   "outputs": [
    {
     "data": {
      "image/png": "[encoded data removed]",
      "text/plain": [
       "<Figure size 640x480 with 1 Axes>"
      ]
     },
     "metadata": {},
     "output_type": "display_data"
    }
   ],
   "source": [
    "sns.heatmap(df.isnull(), cbar=False, cmap='viridis')\n",
    "plt.title('Missing Values Heatmap')\n",
    "plt.show()"
   ]
  },
  {
   "cell_type": "code",
   "execution_count": 60,
   "id": "3bf41962",
   "metadata": {},
   "outputs": [],
   "source": [
    "df = df.drop(columns=['Product Description','Order Zipcode','Product Status'])"
   ]
  },
  {
   "cell_type": "code",
   "execution_count": 61,
   "id": "62febfec",
   "metadata": {
    "scrolled": true
   },
   "outputs": [
    {
     "data": {
      "text/html": [
       "<div>\n",
       "<style scoped>\n",
       "    .dataframe tbody tr th:only-of-type {\n",
       "        vertical-align: middle;\n",
       "    }\n",
       "\n",
       "    .dataframe tbody tr th {\n",
       "        vertical-align: top;\n",
       "    }\n",
       "\n",
       "    .dataframe thead th {\n",
       "        text-align: right;\n",
       "    }\n",
       "</style>\n",
       "<table border=\"1\" class=\"dataframe\">\n",
       "  <thead>\n",
       "    <tr style=\"text-align: right;\">\n",
       "      <th></th>\n",
       "      <th>Type</th>\n",
       "      <th>Days for shipping (real)</th>\n",
       "      <th>Days for shipment (scheduled)</th>\n",
       "      <th>Benefit per order</th>\n",
       "      <th>Sales per customer</th>\n",
       "      <th>Delivery Status</th>\n",
       "      <th>Late_delivery_risk</th>\n",
       "      <th>Category Name</th>\n",
       "      <th>Customer City</th>\n",
       "      <th>Customer Country</th>\n",
       "      <th>...</th>\n",
       "      <th>Sales</th>\n",
       "      <th>Order Item Total</th>\n",
       "      <th>Order Profit Per Order</th>\n",
       "      <th>Order Region</th>\n",
       "      <th>Order State</th>\n",
       "      <th>Order Status</th>\n",
       "      <th>Product Name</th>\n",
       "      <th>Product Price</th>\n",
       "      <th>shipping date (DateOrders)</th>\n",
       "      <th>Shipping Mode</th>\n",
       "    </tr>\n",
       "  </thead>\n",
       "  <tbody>\n",
       "    <tr>\n",
       "      <th>0</th>\n",
       "      <td>DEBIT</td>\n",
       "      <td>3</td>\n",
       "      <td>4</td>\n",
       "      <td>91.250000</td>\n",
       "      <td>314.640015</td>\n",
       "      <td>Advance shipping</td>\n",
       "      <td>0</td>\n",
       "      <td>Sporting Goods</td>\n",
       "      <td>Caguas</td>\n",
       "      <td>Puerto Rico</td>\n",
       "      <td>...</td>\n",
       "      <td>327.750000</td>\n",
       "      <td>314.640015</td>\n",
       "      <td>91.250000</td>\n",
       "      <td>Southeast Asia</td>\n",
       "      <td>Java Occidental</td>\n",
       "      <td>COMPLETE</td>\n",
       "      <td>Smart watch</td>\n",
       "      <td>327.750000</td>\n",
       "      <td>02-03-2018 22:56</td>\n",
       "      <td>Standard Class</td>\n",
       "    </tr>\n",
       "    <tr>\n",
       "      <th>1</th>\n",
       "      <td>TRANSFER</td>\n",
       "      <td>5</td>\n",
       "      <td>4</td>\n",
       "      <td>-249.089996</td>\n",
       "      <td>311.359985</td>\n",
       "      <td>Late delivery</td>\n",
       "      <td>1</td>\n",
       "      <td>Sporting Goods</td>\n",
       "      <td>Caguas</td>\n",
       "      <td>Puerto Rico</td>\n",
       "      <td>...</td>\n",
       "      <td>327.750000</td>\n",
       "      <td>311.359985</td>\n",
       "      <td>-249.089996</td>\n",
       "      <td>South Asia</td>\n",
       "      <td>Rajastán</td>\n",
       "      <td>PENDING</td>\n",
       "      <td>Smart watch</td>\n",
       "      <td>327.750000</td>\n",
       "      <td>1/18/2018 12:27</td>\n",
       "      <td>Standard Class</td>\n",
       "    </tr>\n",
       "    <tr>\n",
       "      <th>2</th>\n",
       "      <td>CASH</td>\n",
       "      <td>4</td>\n",
       "      <td>4</td>\n",
       "      <td>-247.779999</td>\n",
       "      <td>309.720001</td>\n",
       "      <td>Shipping on time</td>\n",
       "      <td>0</td>\n",
       "      <td>Sporting Goods</td>\n",
       "      <td>San Jose</td>\n",
       "      <td>EE. UU.</td>\n",
       "      <td>...</td>\n",
       "      <td>327.750000</td>\n",
       "      <td>309.720001</td>\n",
       "      <td>-247.779999</td>\n",
       "      <td>South Asia</td>\n",
       "      <td>Rajastán</td>\n",
       "      <td>CLOSED</td>\n",
       "      <td>Smart watch</td>\n",
       "      <td>327.750000</td>\n",
       "      <td>1/17/2018 12:06</td>\n",
       "      <td>Standard Class</td>\n",
       "    </tr>\n",
       "    <tr>\n",
       "      <th>3</th>\n",
       "      <td>DEBIT</td>\n",
       "      <td>3</td>\n",
       "      <td>4</td>\n",
       "      <td>22.860001</td>\n",
       "      <td>304.809998</td>\n",
       "      <td>Advance shipping</td>\n",
       "      <td>0</td>\n",
       "      <td>Sporting Goods</td>\n",
       "      <td>Los Angeles</td>\n",
       "      <td>EE. UU.</td>\n",
       "      <td>...</td>\n",
       "      <td>327.750000</td>\n",
       "      <td>304.809998</td>\n",
       "      <td>22.860001</td>\n",
       "      <td>Oceania</td>\n",
       "      <td>Queensland</td>\n",
       "      <td>COMPLETE</td>\n",
       "      <td>Smart watch</td>\n",
       "      <td>327.750000</td>\n",
       "      <td>1/16/2018 11:45</td>\n",
       "      <td>Standard Class</td>\n",
       "    </tr>\n",
       "    <tr>\n",
       "      <th>4</th>\n",
       "      <td>PAYMENT</td>\n",
       "      <td>2</td>\n",
       "      <td>4</td>\n",
       "      <td>134.210007</td>\n",
       "      <td>298.250000</td>\n",
       "      <td>Advance shipping</td>\n",
       "      <td>0</td>\n",
       "      <td>Sporting Goods</td>\n",
       "      <td>Caguas</td>\n",
       "      <td>Puerto Rico</td>\n",
       "      <td>...</td>\n",
       "      <td>327.750000</td>\n",
       "      <td>298.250000</td>\n",
       "      <td>134.210007</td>\n",
       "      <td>Oceania</td>\n",
       "      <td>Queensland</td>\n",
       "      <td>PENDING_PAYMENT</td>\n",
       "      <td>Smart watch</td>\n",
       "      <td>327.750000</td>\n",
       "      <td>1/15/2018 11:24</td>\n",
       "      <td>Standard Class</td>\n",
       "    </tr>\n",
       "    <tr>\n",
       "      <th>...</th>\n",
       "      <td>...</td>\n",
       "      <td>...</td>\n",
       "      <td>...</td>\n",
       "      <td>...</td>\n",
       "      <td>...</td>\n",
       "      <td>...</td>\n",
       "      <td>...</td>\n",
       "      <td>...</td>\n",
       "      <td>...</td>\n",
       "      <td>...</td>\n",
       "      <td>...</td>\n",
       "      <td>...</td>\n",
       "      <td>...</td>\n",
       "      <td>...</td>\n",
       "      <td>...</td>\n",
       "      <td>...</td>\n",
       "      <td>...</td>\n",
       "      <td>...</td>\n",
       "      <td>...</td>\n",
       "      <td>...</td>\n",
       "      <td>...</td>\n",
       "    </tr>\n",
       "    <tr>\n",
       "      <th>180514</th>\n",
       "      <td>CASH</td>\n",
       "      <td>4</td>\n",
       "      <td>4</td>\n",
       "      <td>40.000000</td>\n",
       "      <td>399.980011</td>\n",
       "      <td>Shipping on time</td>\n",
       "      <td>0</td>\n",
       "      <td>Fishing</td>\n",
       "      <td>Brooklyn</td>\n",
       "      <td>EE. UU.</td>\n",
       "      <td>...</td>\n",
       "      <td>399.980011</td>\n",
       "      <td>399.980011</td>\n",
       "      <td>40.000000</td>\n",
       "      <td>Eastern Asia</td>\n",
       "      <td>Shanghái</td>\n",
       "      <td>CLOSED</td>\n",
       "      <td>Field &amp; Stream Sportsman 16 Gun Fire Safe</td>\n",
       "      <td>399.980011</td>\n",
       "      <td>1/20/2016 3:40</td>\n",
       "      <td>Standard Class</td>\n",
       "    </tr>\n",
       "    <tr>\n",
       "      <th>180515</th>\n",
       "      <td>DEBIT</td>\n",
       "      <td>3</td>\n",
       "      <td>2</td>\n",
       "      <td>-613.770019</td>\n",
       "      <td>395.980011</td>\n",
       "      <td>Late delivery</td>\n",
       "      <td>1</td>\n",
       "      <td>Fishing</td>\n",
       "      <td>Bakersfield</td>\n",
       "      <td>EE. UU.</td>\n",
       "      <td>...</td>\n",
       "      <td>399.980011</td>\n",
       "      <td>395.980011</td>\n",
       "      <td>-613.770019</td>\n",
       "      <td>Eastern Asia</td>\n",
       "      <td>Osaka</td>\n",
       "      <td>COMPLETE</td>\n",
       "      <td>Field &amp; Stream Sportsman 16 Gun Fire Safe</td>\n",
       "      <td>399.980011</td>\n",
       "      <td>1/19/2016 1:34</td>\n",
       "      <td>Second Class</td>\n",
       "    </tr>\n",
       "    <tr>\n",
       "      <th>180516</th>\n",
       "      <td>TRANSFER</td>\n",
       "      <td>5</td>\n",
       "      <td>4</td>\n",
       "      <td>141.110001</td>\n",
       "      <td>391.980011</td>\n",
       "      <td>Late delivery</td>\n",
       "      <td>1</td>\n",
       "      <td>Fishing</td>\n",
       "      <td>Bristol</td>\n",
       "      <td>EE. UU.</td>\n",
       "      <td>...</td>\n",
       "      <td>399.980011</td>\n",
       "      <td>391.980011</td>\n",
       "      <td>141.110001</td>\n",
       "      <td>Oceania</td>\n",
       "      <td>Australia del Sur</td>\n",
       "      <td>PENDING</td>\n",
       "      <td>Field &amp; Stream Sportsman 16 Gun Fire Safe</td>\n",
       "      <td>399.980011</td>\n",
       "      <td>1/20/2016 21:00</td>\n",
       "      <td>Standard Class</td>\n",
       "    </tr>\n",
       "    <tr>\n",
       "      <th>180517</th>\n",
       "      <td>PAYMENT</td>\n",
       "      <td>3</td>\n",
       "      <td>4</td>\n",
       "      <td>186.229996</td>\n",
       "      <td>387.980011</td>\n",
       "      <td>Advance shipping</td>\n",
       "      <td>0</td>\n",
       "      <td>Fishing</td>\n",
       "      <td>Caguas</td>\n",
       "      <td>Puerto Rico</td>\n",
       "      <td>...</td>\n",
       "      <td>399.980011</td>\n",
       "      <td>387.980011</td>\n",
       "      <td>186.229996</td>\n",
       "      <td>Oceania</td>\n",
       "      <td>Australia del Sur</td>\n",
       "      <td>PENDING_PAYMENT</td>\n",
       "      <td>Field &amp; Stream Sportsman 16 Gun Fire Safe</td>\n",
       "      <td>399.980011</td>\n",
       "      <td>1/18/2016 20:18</td>\n",
       "      <td>Standard Class</td>\n",
       "    </tr>\n",
       "    <tr>\n",
       "      <th>180518</th>\n",
       "      <td>PAYMENT</td>\n",
       "      <td>4</td>\n",
       "      <td>4</td>\n",
       "      <td>168.949997</td>\n",
       "      <td>383.980011</td>\n",
       "      <td>Shipping on time</td>\n",
       "      <td>0</td>\n",
       "      <td>Fishing</td>\n",
       "      <td>Caguas</td>\n",
       "      <td>Puerto Rico</td>\n",
       "      <td>...</td>\n",
       "      <td>399.980011</td>\n",
       "      <td>383.980011</td>\n",
       "      <td>168.949997</td>\n",
       "      <td>South Asia</td>\n",
       "      <td>Tamil Nadu</td>\n",
       "      <td>PENDING_PAYMENT</td>\n",
       "      <td>Field &amp; Stream Sportsman 16 Gun Fire Safe</td>\n",
       "      <td>399.980011</td>\n",
       "      <td>1/19/2016 18:54</td>\n",
       "      <td>Standard Class</td>\n",
       "    </tr>\n",
       "  </tbody>\n",
       "</table>\n",
       "<p>180519 rows × 31 columns</p>\n",
       "</div>"
      ],
      "text/plain": [
       "            Type  Days for shipping (real)  Days for shipment (scheduled)  \\\n",
       "0          DEBIT                         3                              4   \n",
       "1       TRANSFER                         5                              4   \n",
       "2           CASH                         4                              4   \n",
       "3          DEBIT                         3                              4   \n",
       "4        PAYMENT                         2                              4   \n",
       "...          ...                       ...                            ...   \n",
       "180514      CASH                         4                              4   \n",
       "180515     DEBIT                         3                              2   \n",
       "180516  TRANSFER                         5                              4   \n",
       "180517   PAYMENT                         3                              4   \n",
       "180518   PAYMENT                         4                              4   \n",
       "\n",
       "        Benefit per order  Sales per customer   Delivery Status  \\\n",
       "0               91.250000          314.640015  Advance shipping   \n",
       "1             -249.089996          311.359985     Late delivery   \n",
       "2             -247.779999          309.720001  Shipping on time   \n",
       "3               22.860001          304.809998  Advance shipping   \n",
       "4              134.210007          298.250000  Advance shipping   \n",
       "...                   ...                 ...               ...   \n",
       "180514          40.000000          399.980011  Shipping on time   \n",
       "180515        -613.770019          395.980011     Late delivery   \n",
       "180516         141.110001          391.980011     Late delivery   \n",
       "180517         186.229996          387.980011  Advance shipping   \n",
       "180518         168.949997          383.980011  Shipping on time   \n",
       "\n",
       "        Late_delivery_risk   Category Name Customer City Customer Country  \\\n",
       "0                        0  Sporting Goods        Caguas      Puerto Rico   \n",
       "1                        1  Sporting Goods        Caguas      Puerto Rico   \n",
       "2                        0  Sporting Goods      San Jose          EE. UU.   \n",
       "3                        0  Sporting Goods   Los Angeles          EE. UU.   \n",
       "4                        0  Sporting Goods        Caguas      Puerto Rico   \n",
       "...                    ...             ...           ...              ...   \n",
       "180514                   0         Fishing      Brooklyn          EE. UU.   \n",
       "180515                   1         Fishing   Bakersfield          EE. UU.   \n",
       "180516                   1         Fishing       Bristol          EE. UU.   \n",
       "180517                   0         Fishing        Caguas      Puerto Rico   \n",
       "180518                   0         Fishing        Caguas      Puerto Rico   \n",
       "\n",
       "        ...       Sales Order Item Total Order Profit Per Order  \\\n",
       "0       ...  327.750000       314.640015              91.250000   \n",
       "1       ...  327.750000       311.359985            -249.089996   \n",
       "2       ...  327.750000       309.720001            -247.779999   \n",
       "3       ...  327.750000       304.809998              22.860001   \n",
       "4       ...  327.750000       298.250000             134.210007   \n",
       "...     ...         ...              ...                    ...   \n",
       "180514  ...  399.980011       399.980011              40.000000   \n",
       "180515  ...  399.980011       395.980011            -613.770019   \n",
       "180516  ...  399.980011       391.980011             141.110001   \n",
       "180517  ...  399.980011       387.980011             186.229996   \n",
       "180518  ...  399.980011       383.980011             168.949997   \n",
       "\n",
       "          Order Region        Order State     Order Status  \\\n",
       "0       Southeast Asia    Java Occidental         COMPLETE   \n",
       "1           South Asia           Rajastán          PENDING   \n",
       "2           South Asia           Rajastán           CLOSED   \n",
       "3              Oceania         Queensland         COMPLETE   \n",
       "4              Oceania         Queensland  PENDING_PAYMENT   \n",
       "...                ...                ...              ...   \n",
       "180514    Eastern Asia           Shanghái           CLOSED   \n",
       "180515    Eastern Asia              Osaka         COMPLETE   \n",
       "180516         Oceania  Australia del Sur          PENDING   \n",
       "180517         Oceania  Australia del Sur  PENDING_PAYMENT   \n",
       "180518      South Asia         Tamil Nadu  PENDING_PAYMENT   \n",
       "\n",
       "                                     Product Name Product Price  \\\n",
       "0                                    Smart watch     327.750000   \n",
       "1                                    Smart watch     327.750000   \n",
       "2                                    Smart watch     327.750000   \n",
       "3                                    Smart watch     327.750000   \n",
       "4                                    Smart watch     327.750000   \n",
       "...                                           ...           ...   \n",
       "180514  Field & Stream Sportsman 16 Gun Fire Safe    399.980011   \n",
       "180515  Field & Stream Sportsman 16 Gun Fire Safe    399.980011   \n",
       "180516  Field & Stream Sportsman 16 Gun Fire Safe    399.980011   \n",
       "180517  Field & Stream Sportsman 16 Gun Fire Safe    399.980011   \n",
       "180518  Field & Stream Sportsman 16 Gun Fire Safe    399.980011   \n",
       "\n",
       "        shipping date (DateOrders)   Shipping Mode  \n",
       "0                 02-03-2018 22:56  Standard Class  \n",
       "1                  1/18/2018 12:27  Standard Class  \n",
       "2                  1/17/2018 12:06  Standard Class  \n",
       "3                  1/16/2018 11:45  Standard Class  \n",
       "4                  1/15/2018 11:24  Standard Class  \n",
       "...                            ...             ...  \n",
       "180514              1/20/2016 3:40  Standard Class  \n",
       "180515              1/19/2016 1:34    Second Class  \n",
       "180516             1/20/2016 21:00  Standard Class  \n",
       "180517             1/18/2016 20:18  Standard Class  \n",
       "180518             1/19/2016 18:54  Standard Class  \n",
       "\n",
       "[180519 rows x 31 columns]"
      ]
     },
     "execution_count": 61,
     "metadata": {},
     "output_type": "execute_result"
    }
   ],
   "source": [
    "df"
   ]
  },
  {
   "cell_type": "code",
   "execution_count": 62,
   "id": "900f3574",
   "metadata": {},
   "outputs": [
    {
     "data": {
      "image/png": "[encoded data removed]",
      "text/plain": [
       "<Figure size 640x480 with 1 Axes>"
      ]
     },
     "metadata": {},
     "output_type": "display_data"
    }
   ],
   "source": [
    "sns.heatmap(df.isnull(), cbar=False, cmap='viridis')\n",
    "plt.title('Missing Values Heatmap')\n",
    "plt.show()"
   ]
  },
  {
   "cell_type": "markdown",
   "id": "4090d768",
   "metadata": {},
   "source": [
    "### Creating a new column named 'Order Date'\n",
    "As the column order date contains date-time format so converting into date format will be useful for time series analysis."
   ]
  },
  {
   "cell_type": "markdown",
   "id": "4c63474f",
   "metadata": {},
   "source": [
    "On checking order date(Date Order) column we got to know that format of date is mixed. Like in same column date is in dd/mm/yyyy along with mm/dd/yyyy, to add more complexiety it also had time :(\n",
    "\n",
    "Similarly do the same to Shipping Date"
   ]
  },
  {
   "cell_type": "code",
   "execution_count": 139,
   "id": "4c3ea59d",
   "metadata": {},
   "outputs": [],
   "source": [
    "# Convert 'DateOrders' to datetime, allowing for mixed formats\n",
    "df['Date Orders'] = pd.to_datetime(df['order date (DateOrders)'], format='mixed')\n",
    "df['Date Ship'] = pd.to_datetime(df['shipping date (DateOrders)'], format='mixed')\n",
    "\n",
    "#df['datetime_column'] = df['date_column'].apply(lambda x: x.to_pydatetime())\n",
    "\n",
    "# Extract the date part and create a new column 'OrderDate'\n",
    "df['Order Date'] = df['Date Orders'].dt.date\n",
    "df['Shipping Date'] = df['Date Ship'].dt.date\n",
    "\n",
    "# Format as 'dd/mm/yyyy'\n",
    "df['Date Orders'] = df['Date Orders'].dt.strftime('%d/%m/%Y')\n",
    "df['Date Ship'] = df['Date Ship'].dt.strftime('%d/%m/%Y')"
   ]
  },
  {
   "cell_type": "code",
   "execution_count": 290,
   "id": "a71703ab",
   "metadata": {},
   "outputs": [],
   "source": [
    "# Convert 'DateOrders' to datetime, allowing for mixed formats\n",
    "df['Date Orders'] = pd.to_datetime(df['order date (DateOrders)'], errors='coerce')\n",
    "df['Date Ship'] = pd.to_datetime(df['shipping date (DateOrders)'], errors='coerce')\n",
    "\n",
    "# Format as 'dd/mm/yyyy' directly without extracting the date part\n",
    "df['Date Orders'] = df['Date Orders'].dt.strftime('%d/%m/%Y')\n",
    "df['Date Ship'] = df['Date Ship'].dt.strftime('%d/%m/%Y')"
   ]
  },
  {
   "cell_type": "code",
   "execution_count": 312,
   "id": "f27e016d",
   "metadata": {},
   "outputs": [],
   "source": [
    "# Convert 'Date Orders' to numerical format as timestamps\n",
    "df['Date Orders Numeric'] = pd.to_datetime(df['order date (DateOrders)'], errors='coerce').astype('int64') // 10**9\n",
    "df['Date Ship Numeric'] = pd.to_datetime(df['shipping date (DateOrders)'], errors='coerce').astype('int64') // 10**9"
   ]
  },
  {
   "cell_type": "code",
   "execution_count": 63,
   "id": "a3b9d70f",
   "metadata": {},
   "outputs": [],
   "source": [
    "# Remove the original 'order date(DateOrders)' column.\n",
    "#df = df.drop(columns=['order date (DateOrders)','shipping date (DateOrders)','Date Ship', 'Date Orders'])\n",
    "df = df.drop(columns=['order date (DateOrders)','shipping date (DateOrders)'])"
   ]
  },
  {
   "cell_type": "code",
   "execution_count": 63,
   "id": "dd798b1f",
   "metadata": {},
   "outputs": [
    {
     "data": {
      "text/html": [
       "<div>\n",
       "<style scoped>\n",
       "    .dataframe tbody tr th:only-of-type {\n",
       "        vertical-align: middle;\n",
       "    }\n",
       "\n",
       "    .dataframe tbody tr th {\n",
       "        vertical-align: top;\n",
       "    }\n",
       "\n",
       "    .dataframe thead th {\n",
       "        text-align: right;\n",
       "    }\n",
       "</style>\n",
       "<table border=\"1\" class=\"dataframe\">\n",
       "  <thead>\n",
       "    <tr style=\"text-align: right;\">\n",
       "      <th></th>\n",
       "      <th>Type</th>\n",
       "      <th>Days for shipping (real)</th>\n",
       "      <th>Days for shipment (scheduled)</th>\n",
       "      <th>Benefit per order</th>\n",
       "      <th>Sales per customer</th>\n",
       "      <th>Delivery Status</th>\n",
       "      <th>Late_delivery_risk</th>\n",
       "      <th>Category Name</th>\n",
       "      <th>Customer City</th>\n",
       "      <th>Customer Country</th>\n",
       "      <th>...</th>\n",
       "      <th>Sales</th>\n",
       "      <th>Order Item Total</th>\n",
       "      <th>Order Profit Per Order</th>\n",
       "      <th>Order Region</th>\n",
       "      <th>Order State</th>\n",
       "      <th>Order Status</th>\n",
       "      <th>Product Name</th>\n",
       "      <th>Product Price</th>\n",
       "      <th>shipping date (DateOrders)</th>\n",
       "      <th>Shipping Mode</th>\n",
       "    </tr>\n",
       "  </thead>\n",
       "  <tbody>\n",
       "    <tr>\n",
       "      <th>0</th>\n",
       "      <td>DEBIT</td>\n",
       "      <td>3</td>\n",
       "      <td>4</td>\n",
       "      <td>91.250000</td>\n",
       "      <td>314.640015</td>\n",
       "      <td>Advance shipping</td>\n",
       "      <td>0</td>\n",
       "      <td>Sporting Goods</td>\n",
       "      <td>Caguas</td>\n",
       "      <td>Puerto Rico</td>\n",
       "      <td>...</td>\n",
       "      <td>327.75</td>\n",
       "      <td>314.640015</td>\n",
       "      <td>91.250000</td>\n",
       "      <td>Southeast Asia</td>\n",
       "      <td>Java Occidental</td>\n",
       "      <td>COMPLETE</td>\n",
       "      <td>Smart watch</td>\n",
       "      <td>327.75</td>\n",
       "      <td>02-03-2018 22:56</td>\n",
       "      <td>Standard Class</td>\n",
       "    </tr>\n",
       "    <tr>\n",
       "      <th>1</th>\n",
       "      <td>TRANSFER</td>\n",
       "      <td>5</td>\n",
       "      <td>4</td>\n",
       "      <td>-249.089996</td>\n",
       "      <td>311.359985</td>\n",
       "      <td>Late delivery</td>\n",
       "      <td>1</td>\n",
       "      <td>Sporting Goods</td>\n",
       "      <td>Caguas</td>\n",
       "      <td>Puerto Rico</td>\n",
       "      <td>...</td>\n",
       "      <td>327.75</td>\n",
       "      <td>311.359985</td>\n",
       "      <td>-249.089996</td>\n",
       "      <td>South Asia</td>\n",
       "      <td>Rajastán</td>\n",
       "      <td>PENDING</td>\n",
       "      <td>Smart watch</td>\n",
       "      <td>327.75</td>\n",
       "      <td>1/18/2018 12:27</td>\n",
       "      <td>Standard Class</td>\n",
       "    </tr>\n",
       "    <tr>\n",
       "      <th>2</th>\n",
       "      <td>CASH</td>\n",
       "      <td>4</td>\n",
       "      <td>4</td>\n",
       "      <td>-247.779999</td>\n",
       "      <td>309.720001</td>\n",
       "      <td>Shipping on time</td>\n",
       "      <td>0</td>\n",
       "      <td>Sporting Goods</td>\n",
       "      <td>San Jose</td>\n",
       "      <td>EE. UU.</td>\n",
       "      <td>...</td>\n",
       "      <td>327.75</td>\n",
       "      <td>309.720001</td>\n",
       "      <td>-247.779999</td>\n",
       "      <td>South Asia</td>\n",
       "      <td>Rajastán</td>\n",
       "      <td>CLOSED</td>\n",
       "      <td>Smart watch</td>\n",
       "      <td>327.75</td>\n",
       "      <td>1/17/2018 12:06</td>\n",
       "      <td>Standard Class</td>\n",
       "    </tr>\n",
       "    <tr>\n",
       "      <th>3</th>\n",
       "      <td>DEBIT</td>\n",
       "      <td>3</td>\n",
       "      <td>4</td>\n",
       "      <td>22.860001</td>\n",
       "      <td>304.809998</td>\n",
       "      <td>Advance shipping</td>\n",
       "      <td>0</td>\n",
       "      <td>Sporting Goods</td>\n",
       "      <td>Los Angeles</td>\n",
       "      <td>EE. UU.</td>\n",
       "      <td>...</td>\n",
       "      <td>327.75</td>\n",
       "      <td>304.809998</td>\n",
       "      <td>22.860001</td>\n",
       "      <td>Oceania</td>\n",
       "      <td>Queensland</td>\n",
       "      <td>COMPLETE</td>\n",
       "      <td>Smart watch</td>\n",
       "      <td>327.75</td>\n",
       "      <td>1/16/2018 11:45</td>\n",
       "      <td>Standard Class</td>\n",
       "    </tr>\n",
       "    <tr>\n",
       "      <th>4</th>\n",
       "      <td>PAYMENT</td>\n",
       "      <td>2</td>\n",
       "      <td>4</td>\n",
       "      <td>134.210007</td>\n",
       "      <td>298.250000</td>\n",
       "      <td>Advance shipping</td>\n",
       "      <td>0</td>\n",
       "      <td>Sporting Goods</td>\n",
       "      <td>Caguas</td>\n",
       "      <td>Puerto Rico</td>\n",
       "      <td>...</td>\n",
       "      <td>327.75</td>\n",
       "      <td>298.250000</td>\n",
       "      <td>134.210007</td>\n",
       "      <td>Oceania</td>\n",
       "      <td>Queensland</td>\n",
       "      <td>PENDING_PAYMENT</td>\n",
       "      <td>Smart watch</td>\n",
       "      <td>327.75</td>\n",
       "      <td>1/15/2018 11:24</td>\n",
       "      <td>Standard Class</td>\n",
       "    </tr>\n",
       "  </tbody>\n",
       "</table>\n",
       "<p>5 rows × 31 columns</p>\n",
       "</div>"
      ],
      "text/plain": [
       "       Type  Days for shipping (real)  Days for shipment (scheduled)  \\\n",
       "0     DEBIT                         3                              4   \n",
       "1  TRANSFER                         5                              4   \n",
       "2      CASH                         4                              4   \n",
       "3     DEBIT                         3                              4   \n",
       "4   PAYMENT                         2                              4   \n",
       "\n",
       "   Benefit per order  Sales per customer   Delivery Status  \\\n",
       "0          91.250000          314.640015  Advance shipping   \n",
       "1        -249.089996          311.359985     Late delivery   \n",
       "2        -247.779999          309.720001  Shipping on time   \n",
       "3          22.860001          304.809998  Advance shipping   \n",
       "4         134.210007          298.250000  Advance shipping   \n",
       "\n",
       "   Late_delivery_risk   Category Name Customer City Customer Country  ...  \\\n",
       "0                   0  Sporting Goods        Caguas      Puerto Rico  ...   \n",
       "1                   1  Sporting Goods        Caguas      Puerto Rico  ...   \n",
       "2                   0  Sporting Goods      San Jose          EE. UU.  ...   \n",
       "3                   0  Sporting Goods   Los Angeles          EE. UU.  ...   \n",
       "4                   0  Sporting Goods        Caguas      Puerto Rico  ...   \n",
       "\n",
       "    Sales Order Item Total Order Profit Per Order    Order Region  \\\n",
       "0  327.75       314.640015              91.250000  Southeast Asia   \n",
       "1  327.75       311.359985            -249.089996      South Asia   \n",
       "2  327.75       309.720001            -247.779999      South Asia   \n",
       "3  327.75       304.809998              22.860001         Oceania   \n",
       "4  327.75       298.250000             134.210007         Oceania   \n",
       "\n",
       "       Order State     Order Status  Product Name Product Price  \\\n",
       "0  Java Occidental         COMPLETE  Smart watch         327.75   \n",
       "1         Rajastán          PENDING  Smart watch         327.75   \n",
       "2         Rajastán           CLOSED  Smart watch         327.75   \n",
       "3       Queensland         COMPLETE  Smart watch         327.75   \n",
       "4       Queensland  PENDING_PAYMENT  Smart watch         327.75   \n",
       "\n",
       "   shipping date (DateOrders)   Shipping Mode  \n",
       "0            02-03-2018 22:56  Standard Class  \n",
       "1             1/18/2018 12:27  Standard Class  \n",
       "2             1/17/2018 12:06  Standard Class  \n",
       "3             1/16/2018 11:45  Standard Class  \n",
       "4             1/15/2018 11:24  Standard Class  \n",
       "\n",
       "[5 rows x 31 columns]"
      ]
     },
     "execution_count": 63,
     "metadata": {},
     "output_type": "execute_result"
    }
   ],
   "source": [
    "# Reviewing df again\n",
    "df.head()"
   ]
  },
  {
   "cell_type": "code",
   "execution_count": 64,
   "id": "091456fb",
   "metadata": {},
   "outputs": [],
   "source": [
    "## Outliers "
   ]
  },
  {
   "cell_type": "code",
   "execution_count": 65,
   "id": "0a3c2603",
   "metadata": {},
   "outputs": [
    {
     "data": {
      "text/html": [
       "<div>\n",
       "<style scoped>\n",
       "    .dataframe tbody tr th:only-of-type {\n",
       "        vertical-align: middle;\n",
       "    }\n",
       "\n",
       "    .dataframe tbody tr th {\n",
       "        vertical-align: top;\n",
       "    }\n",
       "\n",
       "    .dataframe thead th {\n",
       "        text-align: right;\n",
       "    }\n",
       "</style>\n",
       "<table border=\"1\" class=\"dataframe\">\n",
       "  <thead>\n",
       "    <tr style=\"text-align: right;\">\n",
       "      <th></th>\n",
       "      <th>Days for shipping (real)</th>\n",
       "      <th>Days for shipment (scheduled)</th>\n",
       "      <th>Benefit per order</th>\n",
       "      <th>Sales per customer</th>\n",
       "      <th>Late_delivery_risk</th>\n",
       "      <th>Customer Id</th>\n",
       "      <th>Order Item Discount</th>\n",
       "      <th>Order Item Product Price</th>\n",
       "      <th>Order Item Quantity</th>\n",
       "      <th>Sales</th>\n",
       "      <th>Order Item Total</th>\n",
       "      <th>Order Profit Per Order</th>\n",
       "      <th>Product Price</th>\n",
       "    </tr>\n",
       "  </thead>\n",
       "  <tbody>\n",
       "    <tr>\n",
       "      <th>count</th>\n",
       "      <td>180519.000000</td>\n",
       "      <td>180519.000000</td>\n",
       "      <td>180519.000000</td>\n",
       "      <td>180519.000000</td>\n",
       "      <td>180519.000000</td>\n",
       "      <td>180519.000000</td>\n",
       "      <td>180519.000000</td>\n",
       "      <td>180519.000000</td>\n",
       "      <td>180519.000000</td>\n",
       "      <td>180519.000000</td>\n",
       "      <td>180519.000000</td>\n",
       "      <td>180519.000000</td>\n",
       "      <td>180519.000000</td>\n",
       "    </tr>\n",
       "    <tr>\n",
       "      <th>mean</th>\n",
       "      <td>3.497654</td>\n",
       "      <td>2.931847</td>\n",
       "      <td>21.974989</td>\n",
       "      <td>183.107609</td>\n",
       "      <td>0.548291</td>\n",
       "      <td>6691.379495</td>\n",
       "      <td>20.664741</td>\n",
       "      <td>141.232550</td>\n",
       "      <td>2.127638</td>\n",
       "      <td>203.772096</td>\n",
       "      <td>183.107609</td>\n",
       "      <td>21.974989</td>\n",
       "      <td>141.232550</td>\n",
       "    </tr>\n",
       "    <tr>\n",
       "      <th>std</th>\n",
       "      <td>1.623722</td>\n",
       "      <td>1.374449</td>\n",
       "      <td>104.433526</td>\n",
       "      <td>120.043670</td>\n",
       "      <td>0.497664</td>\n",
       "      <td>4162.918106</td>\n",
       "      <td>21.800901</td>\n",
       "      <td>139.732492</td>\n",
       "      <td>1.453451</td>\n",
       "      <td>132.273077</td>\n",
       "      <td>120.043670</td>\n",
       "      <td>104.433526</td>\n",
       "      <td>139.732492</td>\n",
       "    </tr>\n",
       "    <tr>\n",
       "      <th>min</th>\n",
       "      <td>0.000000</td>\n",
       "      <td>0.000000</td>\n",
       "      <td>-4274.979980</td>\n",
       "      <td>7.490000</td>\n",
       "      <td>0.000000</td>\n",
       "      <td>1.000000</td>\n",
       "      <td>0.000000</td>\n",
       "      <td>9.990000</td>\n",
       "      <td>1.000000</td>\n",
       "      <td>9.990000</td>\n",
       "      <td>7.490000</td>\n",
       "      <td>-4274.979980</td>\n",
       "      <td>9.990000</td>\n",
       "    </tr>\n",
       "    <tr>\n",
       "      <th>25%</th>\n",
       "      <td>2.000000</td>\n",
       "      <td>2.000000</td>\n",
       "      <td>7.000000</td>\n",
       "      <td>104.379997</td>\n",
       "      <td>0.000000</td>\n",
       "      <td>3258.500000</td>\n",
       "      <td>5.400000</td>\n",
       "      <td>50.000000</td>\n",
       "      <td>1.000000</td>\n",
       "      <td>119.980003</td>\n",
       "      <td>104.379997</td>\n",
       "      <td>7.000000</td>\n",
       "      <td>50.000000</td>\n",
       "    </tr>\n",
       "    <tr>\n",
       "      <th>50%</th>\n",
       "      <td>3.000000</td>\n",
       "      <td>4.000000</td>\n",
       "      <td>31.520000</td>\n",
       "      <td>163.990005</td>\n",
       "      <td>1.000000</td>\n",
       "      <td>6457.000000</td>\n",
       "      <td>14.000000</td>\n",
       "      <td>59.990002</td>\n",
       "      <td>1.000000</td>\n",
       "      <td>199.919998</td>\n",
       "      <td>163.990005</td>\n",
       "      <td>31.520000</td>\n",
       "      <td>59.990002</td>\n",
       "    </tr>\n",
       "    <tr>\n",
       "      <th>75%</th>\n",
       "      <td>5.000000</td>\n",
       "      <td>4.000000</td>\n",
       "      <td>64.800003</td>\n",
       "      <td>247.399994</td>\n",
       "      <td>1.000000</td>\n",
       "      <td>9779.000000</td>\n",
       "      <td>29.990000</td>\n",
       "      <td>199.990005</td>\n",
       "      <td>3.000000</td>\n",
       "      <td>299.950012</td>\n",
       "      <td>247.399994</td>\n",
       "      <td>64.800003</td>\n",
       "      <td>199.990005</td>\n",
       "    </tr>\n",
       "    <tr>\n",
       "      <th>max</th>\n",
       "      <td>6.000000</td>\n",
       "      <td>4.000000</td>\n",
       "      <td>911.799988</td>\n",
       "      <td>1939.989990</td>\n",
       "      <td>1.000000</td>\n",
       "      <td>20757.000000</td>\n",
       "      <td>500.000000</td>\n",
       "      <td>1999.989990</td>\n",
       "      <td>5.000000</td>\n",
       "      <td>1999.989990</td>\n",
       "      <td>1939.989990</td>\n",
       "      <td>911.799988</td>\n",
       "      <td>1999.989990</td>\n",
       "    </tr>\n",
       "  </tbody>\n",
       "</table>\n",
       "</div>"
      ],
      "text/plain": [
       "       Days for shipping (real)  Days for shipment (scheduled)  \\\n",
       "count             180519.000000                  180519.000000   \n",
       "mean                   3.497654                       2.931847   \n",
       "std                    1.623722                       1.374449   \n",
       "min                    0.000000                       0.000000   \n",
       "25%                    2.000000                       2.000000   \n",
       "50%                    3.000000                       4.000000   \n",
       "75%                    5.000000                       4.000000   \n",
       "max                    6.000000                       4.000000   \n",
       "\n",
       "       Benefit per order  Sales per customer  Late_delivery_risk  \\\n",
       "count      180519.000000       180519.000000       180519.000000   \n",
       "mean           21.974989          183.107609            0.548291   \n",
       "std           104.433526          120.043670            0.497664   \n",
       "min         -4274.979980            7.490000            0.000000   \n",
       "25%             7.000000          104.379997            0.000000   \n",
       "50%            31.520000          163.990005            1.000000   \n",
       "75%            64.800003          247.399994            1.000000   \n",
       "max           911.799988         1939.989990            1.000000   \n",
       "\n",
       "         Customer Id  Order Item Discount  Order Item Product Price  \\\n",
       "count  180519.000000        180519.000000             180519.000000   \n",
       "mean     6691.379495            20.664741                141.232550   \n",
       "std      4162.918106            21.800901                139.732492   \n",
       "min         1.000000             0.000000                  9.990000   \n",
       "25%      3258.500000             5.400000                 50.000000   \n",
       "50%      6457.000000            14.000000                 59.990002   \n",
       "75%      9779.000000            29.990000                199.990005   \n",
       "max     20757.000000           500.000000               1999.989990   \n",
       "\n",
       "       Order Item Quantity          Sales  Order Item Total  \\\n",
       "count        180519.000000  180519.000000     180519.000000   \n",
       "mean              2.127638     203.772096        183.107609   \n",
       "std               1.453451     132.273077        120.043670   \n",
       "min               1.000000       9.990000          7.490000   \n",
       "25%               1.000000     119.980003        104.379997   \n",
       "50%               1.000000     199.919998        163.990005   \n",
       "75%               3.000000     299.950012        247.399994   \n",
       "max               5.000000    1999.989990       1939.989990   \n",
       "\n",
       "       Order Profit Per Order  Product Price  \n",
       "count           180519.000000  180519.000000  \n",
       "mean                21.974989     141.232550  \n",
       "std                104.433526     139.732492  \n",
       "min              -4274.979980       9.990000  \n",
       "25%                  7.000000      50.000000  \n",
       "50%                 31.520000      59.990002  \n",
       "75%                 64.800003     199.990005  \n",
       "max                911.799988    1999.989990  "
      ]
     },
     "execution_count": 65,
     "metadata": {},
     "output_type": "execute_result"
    }
   ],
   "source": [
    "df.describe()"
   ]
  },
  {
   "cell_type": "code",
   "execution_count": 66,
   "id": "7190d950",
   "metadata": {},
   "outputs": [],
   "source": [
    "original_df=df.copy()"
   ]
  },
  {
   "cell_type": "code",
   "execution_count": 74,
   "id": "33966a0d",
   "metadata": {},
   "outputs": [],
   "source": [
    "original_df = df.to_csv(\"final_df.csv\", index=False)"
   ]
  },
  {
   "cell_type": "code",
   "execution_count": 75,
   "id": "988fcc05",
   "metadata": {},
   "outputs": [],
   "source": [
    "### IQR Method"
   ]
  },
  {
   "cell_type": "code",
   "execution_count": 76,
   "id": "b5c61554",
   "metadata": {},
   "outputs": [],
   "source": [
    "# Function to remove outliers based on IQR method\n",
    "def remove_outliers_iqr(df, columns):\n",
    "    df_no_outliers = df.copy()\n",
    "    for column in columns:\n",
    "        # Calculate Q1 (25th percentile) and Q3 (75th percentile)\n",
    "        Q1 = df_no_outliers[column].quantile(0.25)\n",
    "        Q3 = df_no_outliers[column].quantile(0.75)\n",
    "        IQR = Q3 - Q1\n",
    "\n",
    "        # Define the lower and upper bounds for outliers\n",
    "        lower_bound = Q1 - 1.5 * IQR\n",
    "        upper_bound = Q3 + 1.5 * IQR\n",
    "\n",
    "        # Remove outliers for the current column\n",
    "        df_no_outliers = df_no_outliers[(df_no_outliers[column] >= lower_bound) & (df_no_outliers[column] <= upper_bound)]\n",
    "\n",
    "    return df_no_outliers\n",
    "\n",
    "# Columns to check for outliers\n",
    "columns_to_check = ['Benefit per order', 'Sales per customer', 'Order Item Discount', 'Order Item Product Price', 'Sales', 'Order Item Total', 'Order Profit Per Order', 'Product Price']\n",
    "\n",
    "# Remove outliers from the DataFrame\n",
    "df = remove_outliers_iqr(df, columns_to_check)\n"
   ]
  },
  {
   "cell_type": "code",
   "execution_count": 77,
   "id": "fce06076",
   "metadata": {},
   "outputs": [
    {
     "data": {
      "text/html": [
       "<div>\n",
       "<style scoped>\n",
       "    .dataframe tbody tr th:only-of-type {\n",
       "        vertical-align: middle;\n",
       "    }\n",
       "\n",
       "    .dataframe tbody tr th {\n",
       "        vertical-align: top;\n",
       "    }\n",
       "\n",
       "    .dataframe thead th {\n",
       "        text-align: right;\n",
       "    }\n",
       "</style>\n",
       "<table border=\"1\" class=\"dataframe\">\n",
       "  <thead>\n",
       "    <tr style=\"text-align: right;\">\n",
       "      <th></th>\n",
       "      <th>Days for shipping (real)</th>\n",
       "      <th>Days for shipment (scheduled)</th>\n",
       "      <th>Benefit per order</th>\n",
       "      <th>Sales per customer</th>\n",
       "      <th>Late_delivery_risk</th>\n",
       "      <th>Customer Id</th>\n",
       "      <th>Order Item Discount</th>\n",
       "      <th>Order Item Product Price</th>\n",
       "      <th>Order Item Quantity</th>\n",
       "      <th>Sales</th>\n",
       "      <th>Order Item Total</th>\n",
       "      <th>Order Profit Per Order</th>\n",
       "      <th>Product Price</th>\n",
       "    </tr>\n",
       "  </thead>\n",
       "  <tbody>\n",
       "    <tr>\n",
       "      <th>count</th>\n",
       "      <td>126079.000000</td>\n",
       "      <td>126079.000000</td>\n",
       "      <td>126079.000000</td>\n",
       "      <td>126079.000000</td>\n",
       "      <td>126079.000000</td>\n",
       "      <td>126079.000000</td>\n",
       "      <td>126079.000000</td>\n",
       "      <td>126079.000000</td>\n",
       "      <td>126079.000000</td>\n",
       "      <td>126079.000000</td>\n",
       "      <td>126079.000000</td>\n",
       "      <td>126079.000000</td>\n",
       "      <td>126079.000000</td>\n",
       "    </tr>\n",
       "    <tr>\n",
       "      <th>mean</th>\n",
       "      <td>3.497759</td>\n",
       "      <td>2.930044</td>\n",
       "      <td>31.608891</td>\n",
       "      <td>132.407640</td>\n",
       "      <td>0.548228</td>\n",
       "      <td>6557.305309</td>\n",
       "      <td>14.781839</td>\n",
       "      <td>83.329405</td>\n",
       "      <td>2.268490</td>\n",
       "      <td>147.189317</td>\n",
       "      <td>132.407640</td>\n",
       "      <td>31.608891</td>\n",
       "      <td>83.329405</td>\n",
       "    </tr>\n",
       "    <tr>\n",
       "      <th>std</th>\n",
       "      <td>1.625113</td>\n",
       "      <td>1.375550</td>\n",
       "      <td>32.194877</td>\n",
       "      <td>63.465626</td>\n",
       "      <td>0.497671</td>\n",
       "      <td>4059.583383</td>\n",
       "      <td>13.042924</td>\n",
       "      <td>54.526666</td>\n",
       "      <td>1.437312</td>\n",
       "      <td>69.237358</td>\n",
       "      <td>63.465626</td>\n",
       "      <td>32.194877</td>\n",
       "      <td>54.526666</td>\n",
       "    </tr>\n",
       "    <tr>\n",
       "      <th>min</th>\n",
       "      <td>0.000000</td>\n",
       "      <td>0.000000</td>\n",
       "      <td>-56.060001</td>\n",
       "      <td>7.490000</td>\n",
       "      <td>0.000000</td>\n",
       "      <td>2.000000</td>\n",
       "      <td>0.000000</td>\n",
       "      <td>9.990000</td>\n",
       "      <td>1.000000</td>\n",
       "      <td>9.990000</td>\n",
       "      <td>7.490000</td>\n",
       "      <td>-56.060001</td>\n",
       "      <td>9.990000</td>\n",
       "    </tr>\n",
       "    <tr>\n",
       "      <th>25%</th>\n",
       "      <td>2.000000</td>\n",
       "      <td>2.000000</td>\n",
       "      <td>10.560000</td>\n",
       "      <td>88.000000</td>\n",
       "      <td>0.000000</td>\n",
       "      <td>3208.000000</td>\n",
       "      <td>4.400000</td>\n",
       "      <td>49.980000</td>\n",
       "      <td>1.000000</td>\n",
       "      <td>99.989998</td>\n",
       "      <td>88.000000</td>\n",
       "      <td>10.560000</td>\n",
       "      <td>49.980000</td>\n",
       "    </tr>\n",
       "    <tr>\n",
       "      <th>50%</th>\n",
       "      <td>3.000000</td>\n",
       "      <td>4.000000</td>\n",
       "      <td>29.120001</td>\n",
       "      <td>124.790001</td>\n",
       "      <td>1.000000</td>\n",
       "      <td>6352.000000</td>\n",
       "      <td>10.800000</td>\n",
       "      <td>59.990002</td>\n",
       "      <td>2.000000</td>\n",
       "      <td>129.990005</td>\n",
       "      <td>124.790001</td>\n",
       "      <td>29.120001</td>\n",
       "      <td>59.990002</td>\n",
       "    </tr>\n",
       "    <tr>\n",
       "      <th>75%</th>\n",
       "      <td>5.000000</td>\n",
       "      <td>4.000000</td>\n",
       "      <td>53.150002</td>\n",
       "      <td>179.979996</td>\n",
       "      <td>1.000000</td>\n",
       "      <td>9633.000000</td>\n",
       "      <td>22.490000</td>\n",
       "      <td>129.990005</td>\n",
       "      <td>3.000000</td>\n",
       "      <td>199.990005</td>\n",
       "      <td>179.979996</td>\n",
       "      <td>53.150002</td>\n",
       "      <td>129.990005</td>\n",
       "    </tr>\n",
       "    <tr>\n",
       "      <th>max</th>\n",
       "      <td>6.000000</td>\n",
       "      <td>4.000000</td>\n",
       "      <td>119.510002</td>\n",
       "      <td>318.500000</td>\n",
       "      <td>1.000000</td>\n",
       "      <td>20757.000000</td>\n",
       "      <td>60.000000</td>\n",
       "      <td>249.990005</td>\n",
       "      <td>5.000000</td>\n",
       "      <td>325.000000</td>\n",
       "      <td>318.500000</td>\n",
       "      <td>119.510002</td>\n",
       "      <td>249.990005</td>\n",
       "    </tr>\n",
       "  </tbody>\n",
       "</table>\n",
       "</div>"
      ],
      "text/plain": [
       "       Days for shipping (real)  Days for shipment (scheduled)  \\\n",
       "count             126079.000000                  126079.000000   \n",
       "mean                   3.497759                       2.930044   \n",
       "std                    1.625113                       1.375550   \n",
       "min                    0.000000                       0.000000   \n",
       "25%                    2.000000                       2.000000   \n",
       "50%                    3.000000                       4.000000   \n",
       "75%                    5.000000                       4.000000   \n",
       "max                    6.000000                       4.000000   \n",
       "\n",
       "       Benefit per order  Sales per customer  Late_delivery_risk  \\\n",
       "count      126079.000000       126079.000000       126079.000000   \n",
       "mean           31.608891          132.407640            0.548228   \n",
       "std            32.194877           63.465626            0.497671   \n",
       "min           -56.060001            7.490000            0.000000   \n",
       "25%            10.560000           88.000000            0.000000   \n",
       "50%            29.120001          124.790001            1.000000   \n",
       "75%            53.150002          179.979996            1.000000   \n",
       "max           119.510002          318.500000            1.000000   \n",
       "\n",
       "         Customer Id  Order Item Discount  Order Item Product Price  \\\n",
       "count  126079.000000        126079.000000             126079.000000   \n",
       "mean     6557.305309            14.781839                 83.329405   \n",
       "std      4059.583383            13.042924                 54.526666   \n",
       "min         2.000000             0.000000                  9.990000   \n",
       "25%      3208.000000             4.400000                 49.980000   \n",
       "50%      6352.000000            10.800000                 59.990002   \n",
       "75%      9633.000000            22.490000                129.990005   \n",
       "max     20757.000000            60.000000                249.990005   \n",
       "\n",
       "       Order Item Quantity          Sales  Order Item Total  \\\n",
       "count        126079.000000  126079.000000     126079.000000   \n",
       "mean              2.268490     147.189317        132.407640   \n",
       "std               1.437312      69.237358         63.465626   \n",
       "min               1.000000       9.990000          7.490000   \n",
       "25%               1.000000      99.989998         88.000000   \n",
       "50%               2.000000     129.990005        124.790001   \n",
       "75%               3.000000     199.990005        179.979996   \n",
       "max               5.000000     325.000000        318.500000   \n",
       "\n",
       "       Order Profit Per Order  Product Price  \n",
       "count           126079.000000  126079.000000  \n",
       "mean                31.608891      83.329405  \n",
       "std                 32.194877      54.526666  \n",
       "min                -56.060001       9.990000  \n",
       "25%                 10.560000      49.980000  \n",
       "50%                 29.120001      59.990002  \n",
       "75%                 53.150002     129.990005  \n",
       "max                119.510002     249.990005  "
      ]
     },
     "execution_count": 77,
     "metadata": {},
     "output_type": "execute_result"
    }
   ],
   "source": [
    "df.describe()"
   ]
  },
  {
   "cell_type": "code",
   "execution_count": 78,
   "id": "8e337cea",
   "metadata": {},
   "outputs": [],
   "source": [
    "df_no_outliers = df.copy()"
   ]
  },
  {
   "cell_type": "code",
   "execution_count": 79,
   "id": "99b5de7d",
   "metadata": {},
   "outputs": [
    {
     "data": {
      "text/html": [
       "<div>\n",
       "<style scoped>\n",
       "    .dataframe tbody tr th:only-of-type {\n",
       "        vertical-align: middle;\n",
       "    }\n",
       "\n",
       "    .dataframe tbody tr th {\n",
       "        vertical-align: top;\n",
       "    }\n",
       "\n",
       "    .dataframe thead th {\n",
       "        text-align: right;\n",
       "    }\n",
       "</style>\n",
       "<table border=\"1\" class=\"dataframe\">\n",
       "  <thead>\n",
       "    <tr style=\"text-align: right;\">\n",
       "      <th></th>\n",
       "      <th>Type</th>\n",
       "      <th>Days for shipping (real)</th>\n",
       "      <th>Days for shipment (scheduled)</th>\n",
       "      <th>Benefit per order</th>\n",
       "      <th>Sales per customer</th>\n",
       "      <th>Delivery Status</th>\n",
       "      <th>Late_delivery_risk</th>\n",
       "      <th>Category Name</th>\n",
       "      <th>Customer City</th>\n",
       "      <th>Customer Country</th>\n",
       "      <th>...</th>\n",
       "      <th>Sales</th>\n",
       "      <th>Order Item Total</th>\n",
       "      <th>Order Profit Per Order</th>\n",
       "      <th>Order Region</th>\n",
       "      <th>Order State</th>\n",
       "      <th>Order Status</th>\n",
       "      <th>Product Name</th>\n",
       "      <th>Product Price</th>\n",
       "      <th>shipping date (DateOrders)</th>\n",
       "      <th>Shipping Mode</th>\n",
       "    </tr>\n",
       "  </thead>\n",
       "  <tbody>\n",
       "    <tr>\n",
       "      <th>48</th>\n",
       "      <td>PAYMENT</td>\n",
       "      <td>5</td>\n",
       "      <td>2</td>\n",
       "      <td>-30.750000</td>\n",
       "      <td>115.180000</td>\n",
       "      <td>Late delivery</td>\n",
       "      <td>1</td>\n",
       "      <td>Cleats</td>\n",
       "      <td>Bayamon</td>\n",
       "      <td>Puerto Rico</td>\n",
       "      <td>...</td>\n",
       "      <td>119.980003</td>\n",
       "      <td>115.180000</td>\n",
       "      <td>-30.750000</td>\n",
       "      <td>South Asia</td>\n",
       "      <td>Uttar Pradesh</td>\n",
       "      <td>PENDING_PAYMENT</td>\n",
       "      <td>Perfect Fitness Perfect Rip Deck</td>\n",
       "      <td>59.990002</td>\n",
       "      <td>2/29/2016 13:57</td>\n",
       "      <td>Second Class</td>\n",
       "    </tr>\n",
       "    <tr>\n",
       "      <th>50</th>\n",
       "      <td>PAYMENT</td>\n",
       "      <td>6</td>\n",
       "      <td>2</td>\n",
       "      <td>33.599998</td>\n",
       "      <td>96.000000</td>\n",
       "      <td>Late delivery</td>\n",
       "      <td>1</td>\n",
       "      <td>Women's Apparel</td>\n",
       "      <td>Caguas</td>\n",
       "      <td>Puerto Rico</td>\n",
       "      <td>...</td>\n",
       "      <td>100.000000</td>\n",
       "      <td>96.000000</td>\n",
       "      <td>33.599998</td>\n",
       "      <td>Oceania</td>\n",
       "      <td>Australia del Sur</td>\n",
       "      <td>PENDING_PAYMENT</td>\n",
       "      <td>Nike Men's Dri-FIT Victory Golf Polo</td>\n",
       "      <td>50.000000</td>\n",
       "      <td>04-05-2016 04:37</td>\n",
       "      <td>Second Class</td>\n",
       "    </tr>\n",
       "    <tr>\n",
       "      <th>51</th>\n",
       "      <td>PAYMENT</td>\n",
       "      <td>2</td>\n",
       "      <td>2</td>\n",
       "      <td>24.690001</td>\n",
       "      <td>75.980003</td>\n",
       "      <td>Shipping on time</td>\n",
       "      <td>0</td>\n",
       "      <td>Shop By Sport</td>\n",
       "      <td>Caguas</td>\n",
       "      <td>Puerto Rico</td>\n",
       "      <td>...</td>\n",
       "      <td>79.980003</td>\n",
       "      <td>75.980003</td>\n",
       "      <td>24.690001</td>\n",
       "      <td>West Asia</td>\n",
       "      <td>Estambul</td>\n",
       "      <td>PENDING_PAYMENT</td>\n",
       "      <td>Under Armour Girls' Toddler Spine Surge Runni</td>\n",
       "      <td>39.990002</td>\n",
       "      <td>11-01-2016 01:31</td>\n",
       "      <td>Second Class</td>\n",
       "    </tr>\n",
       "    <tr>\n",
       "      <th>52</th>\n",
       "      <td>PAYMENT</td>\n",
       "      <td>3</td>\n",
       "      <td>2</td>\n",
       "      <td>9.100000</td>\n",
       "      <td>91.000000</td>\n",
       "      <td>Late delivery</td>\n",
       "      <td>1</td>\n",
       "      <td>Women's Apparel</td>\n",
       "      <td>Caguas</td>\n",
       "      <td>Puerto Rico</td>\n",
       "      <td>...</td>\n",
       "      <td>100.000000</td>\n",
       "      <td>91.000000</td>\n",
       "      <td>9.100000</td>\n",
       "      <td>Eastern Asia</td>\n",
       "      <td>Ulán Bator</td>\n",
       "      <td>PENDING_PAYMENT</td>\n",
       "      <td>Nike Men's Dri-FIT Victory Golf Polo</td>\n",
       "      <td>50.000000</td>\n",
       "      <td>12-01-2016 01:18</td>\n",
       "      <td>Second Class</td>\n",
       "    </tr>\n",
       "    <tr>\n",
       "      <th>53</th>\n",
       "      <td>PAYMENT</td>\n",
       "      <td>5</td>\n",
       "      <td>2</td>\n",
       "      <td>-21.750000</td>\n",
       "      <td>87.000000</td>\n",
       "      <td>Late delivery</td>\n",
       "      <td>1</td>\n",
       "      <td>Women's Apparel</td>\n",
       "      <td>Caguas</td>\n",
       "      <td>Puerto Rico</td>\n",
       "      <td>...</td>\n",
       "      <td>100.000000</td>\n",
       "      <td>87.000000</td>\n",
       "      <td>-21.750000</td>\n",
       "      <td>West Asia</td>\n",
       "      <td>Estambul</td>\n",
       "      <td>PENDING_PAYMENT</td>\n",
       "      <td>Nike Men's Dri-FIT Victory Golf Polo</td>\n",
       "      <td>50.000000</td>\n",
       "      <td>01-05-2017 15:47</td>\n",
       "      <td>Second Class</td>\n",
       "    </tr>\n",
       "  </tbody>\n",
       "</table>\n",
       "<p>5 rows × 31 columns</p>\n",
       "</div>"
      ],
      "text/plain": [
       "       Type  Days for shipping (real)  Days for shipment (scheduled)  \\\n",
       "48  PAYMENT                         5                              2   \n",
       "50  PAYMENT                         6                              2   \n",
       "51  PAYMENT                         2                              2   \n",
       "52  PAYMENT                         3                              2   \n",
       "53  PAYMENT                         5                              2   \n",
       "\n",
       "    Benefit per order  Sales per customer   Delivery Status  \\\n",
       "48         -30.750000          115.180000     Late delivery   \n",
       "50          33.599998           96.000000     Late delivery   \n",
       "51          24.690001           75.980003  Shipping on time   \n",
       "52           9.100000           91.000000     Late delivery   \n",
       "53         -21.750000           87.000000     Late delivery   \n",
       "\n",
       "    Late_delivery_risk    Category Name Customer City Customer Country  ...  \\\n",
       "48                   1           Cleats       Bayamon      Puerto Rico  ...   \n",
       "50                   1  Women's Apparel        Caguas      Puerto Rico  ...   \n",
       "51                   0    Shop By Sport        Caguas      Puerto Rico  ...   \n",
       "52                   1  Women's Apparel        Caguas      Puerto Rico  ...   \n",
       "53                   1  Women's Apparel        Caguas      Puerto Rico  ...   \n",
       "\n",
       "         Sales Order Item Total Order Profit Per Order  Order Region  \\\n",
       "48  119.980003       115.180000             -30.750000    South Asia   \n",
       "50  100.000000        96.000000              33.599998       Oceania   \n",
       "51   79.980003        75.980003              24.690001     West Asia   \n",
       "52  100.000000        91.000000               9.100000  Eastern Asia   \n",
       "53  100.000000        87.000000             -21.750000     West Asia   \n",
       "\n",
       "          Order State     Order Status  \\\n",
       "48      Uttar Pradesh  PENDING_PAYMENT   \n",
       "50  Australia del Sur  PENDING_PAYMENT   \n",
       "51           Estambul  PENDING_PAYMENT   \n",
       "52         Ulán Bator  PENDING_PAYMENT   \n",
       "53           Estambul  PENDING_PAYMENT   \n",
       "\n",
       "                                     Product Name Product Price  \\\n",
       "48               Perfect Fitness Perfect Rip Deck     59.990002   \n",
       "50           Nike Men's Dri-FIT Victory Golf Polo     50.000000   \n",
       "51  Under Armour Girls' Toddler Spine Surge Runni     39.990002   \n",
       "52           Nike Men's Dri-FIT Victory Golf Polo     50.000000   \n",
       "53           Nike Men's Dri-FIT Victory Golf Polo     50.000000   \n",
       "\n",
       "    shipping date (DateOrders)  Shipping Mode  \n",
       "48             2/29/2016 13:57   Second Class  \n",
       "50            04-05-2016 04:37   Second Class  \n",
       "51            11-01-2016 01:31   Second Class  \n",
       "52            12-01-2016 01:18   Second Class  \n",
       "53            01-05-2017 15:47   Second Class  \n",
       "\n",
       "[5 rows x 31 columns]"
      ]
     },
     "execution_count": 79,
     "metadata": {},
     "output_type": "execute_result"
    }
   ],
   "source": [
    "df.head()"
   ]
  },
  {
   "cell_type": "markdown",
   "id": "54f03a91",
   "metadata": {},
   "source": [
    "### Exploratory Data Analysis (After Preprocessing)"
   ]
  },
  {
   "cell_type": "code",
   "execution_count": 321,
   "id": "980012a2",
   "metadata": {},
   "outputs": [
    {
     "name": "stderr",
     "output_type": "stream",
     "text": [
      "C:\\Users\\Aryan\\OneDrive\\Documents\\Machine_Learning\\heart-disease-project\\env\\lib\\site-packages\\ydata_profiling\\profile_report.py:363: UserWarning: Try running command: 'pip install --upgrade Pillow' to avoid ValueError\n",
      "  warnings.warn(\n"
     ]
    },
    {
     "data": {
      "application/vnd.jupyter.widget-view+json": {
       "model_id": "d42e50796313463ab520030622dfcb65",
       "version_major": 2,
       "version_minor": 0
      },
      "text/plain": [
       "Summarize dataset:   0%|          | 0/5 [00:00<?, ?it/s]"
      ]
     },
     "metadata": {},
     "output_type": "display_data"
    },
    {
     "data": {
      "application/vnd.jupyter.widget-view+json": {
       "model_id": "6b3a4d1d97334ccbacdc6c058fdabff9",
       "version_major": 2,
       "version_minor": 0
      },
      "text/plain": [
       "Generate report structure:   0%|          | 0/1 [00:00<?, ?it/s]"
      ]
     },
     "metadata": {},
     "output_type": "display_data"
    },
    {
     "data": {
      "application/vnd.jupyter.widget-view+json": {
       "model_id": "38bcc8aafcc5499ebe8a118ae7a00d44",
       "version_major": 2,
       "version_minor": 0
      },
      "text/plain": [
       "Render HTML:   0%|          | 0/1 [00:00<?, ?it/s]"
      ]
     },
     "metadata": {},
     "output_type": "display_data"
    },
    {
     "data": {
      "application/vnd.jupyter.widget-view+json": {
       "model_id": "2fe4e77920284bbbb6183758504c3109",
       "version_major": 2,
       "version_minor": 0
      },
      "text/plain": [
       "Export report to file:   0%|          | 0/1 [00:00<?, ?it/s]"
      ]
     },
     "metadata": {},
     "output_type": "display_data"
    }
   ],
   "source": [
    "# Using Panda Profiling\n",
    "from ydata_profiling import ProfileReport\n",
    "\n",
    "profile = ProfileReport(df, title=\"Profiling Report\")\n",
    "profile.to_file(output_file='outputafterprocessing and outlier.html')\n"
   ]
  },
  {
   "cell_type": "code",
   "execution_count": 80,
   "id": "62abc683",
   "metadata": {},
   "outputs": [
    {
     "name": "stdout",
     "output_type": "stream",
     "text": [
      "<class 'pandas.core.frame.DataFrame'>\n",
      "Index: 126079 entries, 48 to 179629\n",
      "Data columns (total 31 columns):\n",
      " #   Column                         Non-Null Count   Dtype  \n",
      "---  ------                         --------------   -----  \n",
      " 0   Type                           126079 non-null  object \n",
      " 1   Days for shipping (real)       126079 non-null  int64  \n",
      " 2   Days for shipment (scheduled)  126079 non-null  int64  \n",
      " 3   Benefit per order              126079 non-null  float64\n",
      " 4   Sales per customer             126079 non-null  float64\n",
      " 5   Delivery Status                126079 non-null  object \n",
      " 6   Late_delivery_risk             126079 non-null  int64  \n",
      " 7   Category Name                  126079 non-null  object \n",
      " 8   Customer City                  126079 non-null  object \n",
      " 9   Customer Country               126079 non-null  object \n",
      " 10  Customer Id                    126079 non-null  int64  \n",
      " 11  Customer Segment               126079 non-null  object \n",
      " 12  Customer State                 126079 non-null  object \n",
      " 13  Department Name                126079 non-null  object \n",
      " 14  Market                         126079 non-null  object \n",
      " 15  Order City                     126079 non-null  object \n",
      " 16  Order Country                  126079 non-null  object \n",
      " 17  order date (DateOrders)        126079 non-null  object \n",
      " 18  Order Item Discount            126079 non-null  float64\n",
      " 19  Order Item Product Price       126079 non-null  float64\n",
      " 20  Order Item Quantity            126079 non-null  int64  \n",
      " 21  Sales                          126079 non-null  float64\n",
      " 22  Order Item Total               126079 non-null  float64\n",
      " 23  Order Profit Per Order         126079 non-null  float64\n",
      " 24  Order Region                   126079 non-null  object \n",
      " 25  Order State                    126079 non-null  object \n",
      " 26  Order Status                   126079 non-null  object \n",
      " 27  Product Name                   126079 non-null  object \n",
      " 28  Product Price                  126079 non-null  float64\n",
      " 29  shipping date (DateOrders)     126079 non-null  object \n",
      " 30  Shipping Mode                  126079 non-null  object \n",
      "dtypes: float64(8), int64(5), object(18)\n",
      "memory usage: 30.8+ MB\n"
     ]
    }
   ],
   "source": [
    "df.info()"
   ]
  },
  {
   "cell_type": "code",
   "execution_count": 327,
   "id": "aada3127",
   "metadata": {},
   "outputs": [
    {
     "name": "stderr",
     "output_type": "stream",
     "text": [
      "C:\\Users\\Aryan\\OneDrive\\Documents\\Machine_Learning\\heart-disease-project\\env\\lib\\site-packages\\ydata_profiling\\profile_report.py:363: UserWarning: Try running command: 'pip install --upgrade Pillow' to avoid ValueError\n",
      "  warnings.warn(\n"
     ]
    },
    {
     "data": {
      "application/vnd.jupyter.widget-view+json": {
       "model_id": "24b7553f449e4e298f5c882088e71de7",
       "version_major": 2,
       "version_minor": 0
      },
      "text/plain": [
       "Summarize dataset:   0%|          | 0/5 [00:00<?, ?it/s]"
      ]
     },
     "metadata": {},
     "output_type": "display_data"
    },
    {
     "data": {
      "application/vnd.jupyter.widget-view+json": {
       "model_id": "439856cbdd8344b1a065a7b1e21dce1e",
       "version_major": 2,
       "version_minor": 0
      },
      "text/plain": [
       "Generate report structure:   0%|          | 0/1 [00:00<?, ?it/s]"
      ]
     },
     "metadata": {},
     "output_type": "display_data"
    },
    {
     "data": {
      "application/vnd.jupyter.widget-view+json": {
       "model_id": "79b7e334efb04b91bfce00959e88afee",
       "version_major": 2,
       "version_minor": 0
      },
      "text/plain": [
       "Render HTML:   0%|          | 0/1 [00:00<?, ?it/s]"
      ]
     },
     "metadata": {},
     "output_type": "display_data"
    },
    {
     "data": {
      "application/vnd.jupyter.widget-view+json": {
       "model_id": "b7ff845dc869413995e567334e7c8d61",
       "version_major": 2,
       "version_minor": 0
      },
      "text/plain": [
       "Export report to file:   0%|          | 0/1 [00:00<?, ?it/s]"
      ]
     },
     "metadata": {},
     "output_type": "display_data"
    }
   ],
   "source": [
    "# Using Panda Profiling\n",
    "from ydata_profiling import ProfileReport\n",
    "\n",
    "profile = ProfileReport(df, title=\"Profiling Report\")\n",
    "profile.to_file(output_file='outputafterprocessingfinal.html')"
   ]
  },
  {
   "cell_type": "markdown",
   "id": "0f9625e8",
   "metadata": {},
   "source": [
    "# Machine Learning Modelling\n",
    "## Demand Forecasting\n",
    "**Model Type:** Regression\n",
    "\n",
    "**Target Label (y_pred):** Order Item Quantity (units sold)\n",
    "\n",
    "**Goal:** Predict future demand for products.\n",
    "\n",
    "**Key Features:**\n",
    "* Category Name\n",
    "* Order Item Product Price\n",
    "* Product Price\n",
    "* Sales\n",
    "* Sales per customer\n",
    "* Order Item Total\n",
    "\n",
    "\n",
    "\n",
    "**Questions Solved:** \n",
    "* How many units of a product should we stock in the future?\n",
    "\n",
    "* When is the peak demand period for specific products?\n",
    "\n",
    "* What are the trends in customer demand across different regions?\n",
    "\n",
    "* How will demand fluctuate based on seasons or holidays?\n",
    "\n",
    "\n",
    "**Potential Models:**\n",
    "* Linear Regression\n",
    "\n",
    "* Random Forest Regression\n",
    "\n",
    "* ARIMA / SARIMA (for time series)\n",
    "\n",
    "* LSTM (Long Short-Term Memory for advanced time series)\n",
    "\n",
    "\n",
    "We will be using `Random Forest Regression`"
   ]
  },
  {
   "cell_type": "markdown",
   "id": "ba680d3e",
   "metadata": {},
   "source": [
    "## Random Forest Regression"
   ]
  },
  {
   "cell_type": "code",
   "execution_count": 81,
   "id": "cbbb9a58",
   "metadata": {},
   "outputs": [],
   "source": [
    "# Importing model libraries\n",
    "from sklearn.model_selection import train_test_split\n",
    "from sklearn.model_selection import GridSearchCV\n",
    "from sklearn.preprocessing import OneHotEncoder\n",
    "from sklearn.ensemble import RandomForestRegressor\n",
    "from sklearn.metrics import mean_squared_error, mean_absolute_error, r2_score\n",
    "from sklearn.compose import ColumnTransformer\n",
    "from sklearn.pipeline import Pipeline"
   ]
  },
  {
   "cell_type": "code",
   "execution_count": 82,
   "id": "66996a31",
   "metadata": {},
   "outputs": [],
   "source": [
    "# Select the features and target\n",
    "features = ['Category Name', 'Order Item Product Price', 'Product Price', 'Sales', 'Sales per customer', 'Order Item Total']\n",
    "target = 'Order Item Quantity'\n",
    "\n",
    "X = df[features]\n",
    "y = df[target]"
   ]
  },
  {
   "cell_type": "code",
   "execution_count": 83,
   "id": "02aa5ea5",
   "metadata": {},
   "outputs": [],
   "source": [
    "# Handling categorical features with OneHotEncoding\n",
    "categorical_features = ['Category Name']\n",
    "numerical_features = ['Order Item Product Price', 'Product Price', 'Sales', 'Sales per customer', 'Order Item Total']"
   ]
  },
  {
   "cell_type": "code",
   "execution_count": 84,
   "id": "bfeebbc7",
   "metadata": {},
   "outputs": [],
   "source": [
    "# Splitting data into training and testing sets\n",
    "X_train, X_test, y_train, y_test = train_test_split(X, y, test_size=0.2, random_state=42)"
   ]
  },
  {
   "cell_type": "code",
   "execution_count": 85,
   "id": "22136125",
   "metadata": {},
   "outputs": [],
   "source": [
    "# Building preprocessing pipeline for encoding\n",
    "preprocessor = ColumnTransformer(\n",
    "    transformers=[\n",
    "        ('num', 'passthrough', numerical_features),  # Passing numerical columns as is\n",
    "        ('cat', OneHotEncoder(), categorical_features)  # Encoding categorical features\n",
    "    ])"
   ]
  },
  {
   "cell_type": "code",
   "execution_count": 86,
   "id": "8970bb7e",
   "metadata": {},
   "outputs": [],
   "source": [
    "# Define the model\n",
    "rf = RandomForestRegressor(random_state=42)"
   ]
  },
  {
   "cell_type": "code",
   "execution_count": 87,
   "id": "3a21a29f",
   "metadata": {},
   "outputs": [],
   "source": [
    "# Creating a pipeline to combine preprocessing with modeling\n",
    "pipeline1 = Pipeline(steps=[('preprocessor', preprocessor), ('regressor', rf)])"
   ]
  },
  {
   "cell_type": "code",
   "execution_count": 89,
   "id": "06e24221",
   "metadata": {},
   "outputs": [],
   "source": [
    "# Hyperparameter tuning with GridSearchCV\n",
    "param_grid = {\n",
    "    'regressor__n_estimators': [100, 200, 300],\n",
    "    'regressor__max_depth': [10, 20, 30, None],\n",
    "    'regressor__min_samples_split': [2, 5, 10],\n",
    "    'regressor__min_samples_leaf': [1, 2, 4],\n",
    "    'regressor__bootstrap': [True, False]\n",
    "}\n",
    "grid_search = GridSearchCV(pipeline1, param_grid, cv=5, n_jobs=-1, verbose=2, scoring='neg_mean_squared_error')"
   ]
  },
  {
   "cell_type": "code",
   "execution_count": 90,
   "id": "1ae065a9",
   "metadata": {},
   "outputs": [
    {
     "name": "stdout",
     "output_type": "stream",
     "text": [
      "Fitting 5 folds for each of 216 candidates, totalling 1080 fits\n",
      "CPU times: total: 48.8 s\n",
      "Wall time: 1h 41min 33s\n"
     ]
    },
    {
     "data": {
      "text/html": [
       "<style>#sk-container-id-1 {color: black;}#sk-container-id-1 pre{padding: 0;}#sk-container-id-1 div.sk-toggleable {background-color: white;}#sk-container-id-1 label.sk-toggleable__label {cursor: pointer;display: block;width: 100%;margin-bottom: 0;padding: 0.3em;box-sizing: border-box;text-align: center;}#sk-container-id-1 label.sk-toggleable__label-arrow:before {content: \"▸\";float: left;margin-right: 0.25em;color: #696969;}#sk-container-id-1 label.sk-toggleable__label-arrow:hover:before {color: black;}#sk-container-id-1 div.sk-estimator:hover label.sk-toggleable__label-arrow:before {color: black;}#sk-container-id-1 div.sk-toggleable__content {max-height: 0;max-width: 0;overflow: hidden;text-align: left;background-color: #f0f8ff;}#sk-container-id-1 div.sk-toggleable__content pre {margin: 0.2em;color: black;border-radius: 0.25em;background-color: #f0f8ff;}#sk-container-id-1 input.sk-toggleable__control:checked~div.sk-toggleable__content {max-height: 200px;max-width: 100%;overflow: auto;}#sk-container-id-1 input.sk-toggleable__control:checked~label.sk-toggleable__label-arrow:before {content: \"▾\";}#sk-container-id-1 div.sk-estimator input.sk-toggleable__control:checked~label.sk-toggleable__label {background-color: #d4ebff;}#sk-container-id-1 div.sk-label input.sk-toggleable__control:checked~label.sk-toggleable__label {background-color: #d4ebff;}#sk-container-id-1 input.sk-hidden--visually {border: 0;clip: rect(1px 1px 1px 1px);clip: rect(1px, 1px, 1px, 1px);height: 1px;margin: -1px;overflow: hidden;padding: 0;position: absolute;width: 1px;}#sk-container-id-1 div.sk-estimator {font-family: monospace;background-color: #f0f8ff;border: 1px dotted black;border-radius: 0.25em;box-sizing: border-box;margin-bottom: 0.5em;}#sk-container-id-1 div.sk-estimator:hover {background-color: #d4ebff;}#sk-container-id-1 div.sk-parallel-item::after {content: \"\";width: 100%;border-bottom: 1px solid gray;flex-grow: 1;}#sk-container-id-1 div.sk-label:hover label.sk-toggleable__label {background-color: #d4ebff;}#sk-container-id-1 div.sk-serial::before {content: \"\";position: absolute;border-left: 1px solid gray;box-sizing: border-box;top: 0;bottom: 0;left: 50%;z-index: 0;}#sk-container-id-1 div.sk-serial {display: flex;flex-direction: column;align-items: center;background-color: white;padding-right: 0.2em;padding-left: 0.2em;position: relative;}#sk-container-id-1 div.sk-item {position: relative;z-index: 1;}#sk-container-id-1 div.sk-parallel {display: flex;align-items: stretch;justify-content: center;background-color: white;position: relative;}#sk-container-id-1 div.sk-item::before, #sk-container-id-1 div.sk-parallel-item::before {content: \"\";position: absolute;border-left: 1px solid gray;box-sizing: border-box;top: 0;bottom: 0;left: 50%;z-index: -1;}#sk-container-id-1 div.sk-parallel-item {display: flex;flex-direction: column;z-index: 1;position: relative;background-color: white;}#sk-container-id-1 div.sk-parallel-item:first-child::after {align-self: flex-end;width: 50%;}#sk-container-id-1 div.sk-parallel-item:last-child::after {align-self: flex-start;width: 50%;}#sk-container-id-1 div.sk-parallel-item:only-child::after {width: 0;}#sk-container-id-1 div.sk-dashed-wrapped {border: 1px dashed gray;margin: 0 0.4em 0.5em 0.4em;box-sizing: border-box;padding-bottom: 0.4em;background-color: white;}#sk-container-id-1 div.sk-label label {font-family: monospace;font-weight: bold;display: inline-block;line-height: 1.2em;}#sk-container-id-1 div.sk-label-container {text-align: center;}#sk-container-id-1 div.sk-container {/* jupyter's `normalize.less` sets `[hidden] { display: none; }` but bootstrap.min.css set `[hidden] { display: none !important; }` so we also need the `!important` here to be able to override the default hidden behavior on the sphinx rendered scikit-learn.org. See: https://github.com/scikit-learn/scikit-learn/issues/21755 */display: inline-block !important;position: relative;}#sk-container-id-1 div.sk-text-repr-fallback {display: none;}</style><div id=\"sk-container-id-1\" class=\"sk-top-container\"><div class=\"sk-text-repr-fallback\"><pre>GridSearchCV(cv=5,\n",
       "             estimator=Pipeline(steps=[(&#x27;preprocessor&#x27;,\n",
       "                                        ColumnTransformer(transformers=[(&#x27;num&#x27;,\n",
       "                                                                         &#x27;passthrough&#x27;,\n",
       "                                                                         [&#x27;Order &#x27;\n",
       "                                                                          &#x27;Item &#x27;\n",
       "                                                                          &#x27;Product &#x27;\n",
       "                                                                          &#x27;Price&#x27;,\n",
       "                                                                          &#x27;Product &#x27;\n",
       "                                                                          &#x27;Price&#x27;,\n",
       "                                                                          &#x27;Sales&#x27;,\n",
       "                                                                          &#x27;Sales &#x27;\n",
       "                                                                          &#x27;per &#x27;\n",
       "                                                                          &#x27;customer&#x27;,\n",
       "                                                                          &#x27;Order &#x27;\n",
       "                                                                          &#x27;Item &#x27;\n",
       "                                                                          &#x27;Total&#x27;]),\n",
       "                                                                        (&#x27;cat&#x27;,\n",
       "                                                                         OneHotEncoder(),\n",
       "                                                                         [&#x27;Category &#x27;\n",
       "                                                                          &#x27;Name&#x27;])])),\n",
       "                                       (&#x27;regressor&#x27;,\n",
       "                                        RandomForestRegressor(random_state=42))]),\n",
       "             n_jobs=-1,\n",
       "             param_grid={&#x27;regressor__bootstrap&#x27;: [True, False],\n",
       "                         &#x27;regressor__max_depth&#x27;: [10, 20, 30, None],\n",
       "                         &#x27;regressor__min_samples_leaf&#x27;: [1, 2, 4],\n",
       "                         &#x27;regressor__min_samples_split&#x27;: [2, 5, 10],\n",
       "                         &#x27;regressor__n_estimators&#x27;: [100, 200, 300]},\n",
       "             scoring=&#x27;neg_mean_squared_error&#x27;, verbose=2)</pre><b>In a Jupyter environment, please rerun this cell to show the HTML representation or trust the notebook. <br />On GitHub, the HTML representation is unable to render, please try loading this page with nbviewer.org.</b></div><div class=\"sk-container\" hidden><div class=\"sk-item sk-dashed-wrapped\"><div class=\"sk-label-container\"><div class=\"sk-label sk-toggleable\"><input class=\"sk-toggleable__control sk-hidden--visually\" id=\"sk-estimator-id-1\" type=\"checkbox\" ><label for=\"sk-estimator-id-1\" class=\"sk-toggleable__label sk-toggleable__label-arrow\">GridSearchCV</label><div class=\"sk-toggleable__content\"><pre>GridSearchCV(cv=5,\n",
       "             estimator=Pipeline(steps=[(&#x27;preprocessor&#x27;,\n",
       "                                        ColumnTransformer(transformers=[(&#x27;num&#x27;,\n",
       "                                                                         &#x27;passthrough&#x27;,\n",
       "                                                                         [&#x27;Order &#x27;\n",
       "                                                                          &#x27;Item &#x27;\n",
       "                                                                          &#x27;Product &#x27;\n",
       "                                                                          &#x27;Price&#x27;,\n",
       "                                                                          &#x27;Product &#x27;\n",
       "                                                                          &#x27;Price&#x27;,\n",
       "                                                                          &#x27;Sales&#x27;,\n",
       "                                                                          &#x27;Sales &#x27;\n",
       "                                                                          &#x27;per &#x27;\n",
       "                                                                          &#x27;customer&#x27;,\n",
       "                                                                          &#x27;Order &#x27;\n",
       "                                                                          &#x27;Item &#x27;\n",
       "                                                                          &#x27;Total&#x27;]),\n",
       "                                                                        (&#x27;cat&#x27;,\n",
       "                                                                         OneHotEncoder(),\n",
       "                                                                         [&#x27;Category &#x27;\n",
       "                                                                          &#x27;Name&#x27;])])),\n",
       "                                       (&#x27;regressor&#x27;,\n",
       "                                        RandomForestRegressor(random_state=42))]),\n",
       "             n_jobs=-1,\n",
       "             param_grid={&#x27;regressor__bootstrap&#x27;: [True, False],\n",
       "                         &#x27;regressor__max_depth&#x27;: [10, 20, 30, None],\n",
       "                         &#x27;regressor__min_samples_leaf&#x27;: [1, 2, 4],\n",
       "                         &#x27;regressor__min_samples_split&#x27;: [2, 5, 10],\n",
       "                         &#x27;regressor__n_estimators&#x27;: [100, 200, 300]},\n",
       "             scoring=&#x27;neg_mean_squared_error&#x27;, verbose=2)</pre></div></div></div><div class=\"sk-parallel\"><div class=\"sk-parallel-item\"><div class=\"sk-item\"><div class=\"sk-label-container\"><div class=\"sk-label sk-toggleable\"><input class=\"sk-toggleable__control sk-hidden--visually\" id=\"sk-estimator-id-2\" type=\"checkbox\" ><label for=\"sk-estimator-id-2\" class=\"sk-toggleable__label sk-toggleable__label-arrow\">estimator: Pipeline</label><div class=\"sk-toggleable__content\"><pre>Pipeline(steps=[(&#x27;preprocessor&#x27;,\n",
       "                 ColumnTransformer(transformers=[(&#x27;num&#x27;, &#x27;passthrough&#x27;,\n",
       "                                                  [&#x27;Order Item Product Price&#x27;,\n",
       "                                                   &#x27;Product Price&#x27;, &#x27;Sales&#x27;,\n",
       "                                                   &#x27;Sales per customer&#x27;,\n",
       "                                                   &#x27;Order Item Total&#x27;]),\n",
       "                                                 (&#x27;cat&#x27;, OneHotEncoder(),\n",
       "                                                  [&#x27;Category Name&#x27;])])),\n",
       "                (&#x27;regressor&#x27;, RandomForestRegressor(random_state=42))])</pre></div></div></div><div class=\"sk-serial\"><div class=\"sk-item\"><div class=\"sk-serial\"><div class=\"sk-item sk-dashed-wrapped\"><div class=\"sk-label-container\"><div class=\"sk-label sk-toggleable\"><input class=\"sk-toggleable__control sk-hidden--visually\" id=\"sk-estimator-id-3\" type=\"checkbox\" ><label for=\"sk-estimator-id-3\" class=\"sk-toggleable__label sk-toggleable__label-arrow\">preprocessor: ColumnTransformer</label><div class=\"sk-toggleable__content\"><pre>ColumnTransformer(transformers=[(&#x27;num&#x27;, &#x27;passthrough&#x27;,\n",
       "                                 [&#x27;Order Item Product Price&#x27;, &#x27;Product Price&#x27;,\n",
       "                                  &#x27;Sales&#x27;, &#x27;Sales per customer&#x27;,\n",
       "                                  &#x27;Order Item Total&#x27;]),\n",
       "                                (&#x27;cat&#x27;, OneHotEncoder(), [&#x27;Category Name&#x27;])])</pre></div></div></div><div class=\"sk-parallel\"><div class=\"sk-parallel-item\"><div class=\"sk-item\"><div class=\"sk-label-container\"><div class=\"sk-label sk-toggleable\"><input class=\"sk-toggleable__control sk-hidden--visually\" id=\"sk-estimator-id-4\" type=\"checkbox\" ><label for=\"sk-estimator-id-4\" class=\"sk-toggleable__label sk-toggleable__label-arrow\">num</label><div class=\"sk-toggleable__content\"><pre>[&#x27;Order Item Product Price&#x27;, &#x27;Product Price&#x27;, &#x27;Sales&#x27;, &#x27;Sales per customer&#x27;, &#x27;Order Item Total&#x27;]</pre></div></div></div><div class=\"sk-serial\"><div class=\"sk-item\"><div class=\"sk-estimator sk-toggleable\"><input class=\"sk-toggleable__control sk-hidden--visually\" id=\"sk-estimator-id-5\" type=\"checkbox\" ><label for=\"sk-estimator-id-5\" class=\"sk-toggleable__label sk-toggleable__label-arrow\">passthrough</label><div class=\"sk-toggleable__content\"><pre>passthrough</pre></div></div></div></div></div></div><div class=\"sk-parallel-item\"><div class=\"sk-item\"><div class=\"sk-label-container\"><div class=\"sk-label sk-toggleable\"><input class=\"sk-toggleable__control sk-hidden--visually\" id=\"sk-estimator-id-6\" type=\"checkbox\" ><label for=\"sk-estimator-id-6\" class=\"sk-toggleable__label sk-toggleable__label-arrow\">cat</label><div class=\"sk-toggleable__content\"><pre>[&#x27;Category Name&#x27;]</pre></div></div></div><div class=\"sk-serial\"><div class=\"sk-item\"><div class=\"sk-estimator sk-toggleable\"><input class=\"sk-toggleable__control sk-hidden--visually\" id=\"sk-estimator-id-7\" type=\"checkbox\" ><label for=\"sk-estimator-id-7\" class=\"sk-toggleable__label sk-toggleable__label-arrow\">OneHotEncoder</label><div class=\"sk-toggleable__content\"><pre>OneHotEncoder()</pre></div></div></div></div></div></div></div></div><div class=\"sk-item\"><div class=\"sk-estimator sk-toggleable\"><input class=\"sk-toggleable__control sk-hidden--visually\" id=\"sk-estimator-id-8\" type=\"checkbox\" ><label for=\"sk-estimator-id-8\" class=\"sk-toggleable__label sk-toggleable__label-arrow\">RandomForestRegressor</label><div class=\"sk-toggleable__content\"><pre>RandomForestRegressor(random_state=42)</pre></div></div></div></div></div></div></div></div></div></div></div></div>"
      ],
      "text/plain": [
       "GridSearchCV(cv=5,\n",
       "             estimator=Pipeline(steps=[('preprocessor',\n",
       "                                        ColumnTransformer(transformers=[('num',\n",
       "                                                                         'passthrough',\n",
       "                                                                         ['Order '\n",
       "                                                                          'Item '\n",
       "                                                                          'Product '\n",
       "                                                                          'Price',\n",
       "                                                                          'Product '\n",
       "                                                                          'Price',\n",
       "                                                                          'Sales',\n",
       "                                                                          'Sales '\n",
       "                                                                          'per '\n",
       "                                                                          'customer',\n",
       "                                                                          'Order '\n",
       "                                                                          'Item '\n",
       "                                                                          'Total']),\n",
       "                                                                        ('cat',\n",
       "                                                                         OneHotEncoder(),\n",
       "                                                                         ['Category '\n",
       "                                                                          'Name'])])),\n",
       "                                       ('regressor',\n",
       "                                        RandomForestRegressor(random_state=42))]),\n",
       "             n_jobs=-1,\n",
       "             param_grid={'regressor__bootstrap': [True, False],\n",
       "                         'regressor__max_depth': [10, 20, 30, None],\n",
       "                         'regressor__min_samples_leaf': [1, 2, 4],\n",
       "                         'regressor__min_samples_split': [2, 5, 10],\n",
       "                         'regressor__n_estimators': [100, 200, 300]},\n",
       "             scoring='neg_mean_squared_error', verbose=2)"
      ]
     },
     "execution_count": 90,
     "metadata": {},
     "output_type": "execute_result"
    }
   ],
   "source": [
    "%%time\n",
    "# Fit the model\n",
    "grid_search.fit(X_train, y_train)"
   ]
  },
  {
   "cell_type": "code",
   "execution_count": 91,
   "id": "bf96c441",
   "metadata": {},
   "outputs": [
    {
     "name": "stdout",
     "output_type": "stream",
     "text": [
      "Best Parameters:  {'regressor__bootstrap': True, 'regressor__max_depth': 20, 'regressor__min_samples_leaf': 1, 'regressor__min_samples_split': 2, 'regressor__n_estimators': 100}\n"
     ]
    }
   ],
   "source": [
    "# Best parameters from GridSearchCV\n",
    "print(\"Best Parameters: \", grid_search.best_params_)"
   ]
  },
  {
   "cell_type": "code",
   "execution_count": 92,
   "id": "ca917f4c",
   "metadata": {},
   "outputs": [],
   "source": [
    "# Making predictions on test data\n",
    "y_pred = grid_search.best_estimator_.predict(X_test)"
   ]
  },
  {
   "cell_type": "code",
   "execution_count": 93,
   "id": "657f7c8d",
   "metadata": {},
   "outputs": [
    {
     "name": "stdout",
     "output_type": "stream",
     "text": [
      "Mean Squared Error:  4.255234771573601e-06\n",
      "Mean Absolute Error:  2.1018401015228417e-05\n",
      "R-squared:  0.9999979436211135\n"
     ]
    }
   ],
   "source": [
    "# Model evaluation\n",
    "mse = mean_squared_error(y_test, y_pred)\n",
    "mae = mean_absolute_error(y_test, y_pred)\n",
    "r2 = r2_score(y_test, y_pred)\n",
    "\n",
    "print(\"Mean Squared Error: \", mse)\n",
    "print(\"Mean Absolute Error: \", mae)\n",
    "print(\"R-squared: \", r2)"
   ]
  },
  {
   "cell_type": "code",
   "execution_count": 94,
   "id": "986474fd",
   "metadata": {},
   "outputs": [],
   "source": [
    "# Feature Importance extraction\n",
    "best_model = grid_search.best_estimator_.named_steps['regressor']\n",
    "feature_importances = best_model.feature_importances_"
   ]
  },
  {
   "cell_type": "code",
   "execution_count": 97,
   "id": "a1fc2856",
   "metadata": {},
   "outputs": [],
   "source": [
    "# Get feature names after OneHotEncoding\n",
    "encoded_feature_names = grid_search.best_estimator_.named_steps['preprocessor'].transformers_[1][1].get_feature_names_out(categorical_features)\n",
    "all_feature_names = list(numerical_features) + list(encoded_feature_names)"
   ]
  },
  {
   "cell_type": "code",
   "execution_count": 98,
   "id": "af1ea0b6",
   "metadata": {},
   "outputs": [
    {
     "name": "stdout",
     "output_type": "stream",
     "text": [
      "                               Feature    Importance\n",
      "2                                Sales  7.012868e-01\n",
      "1                        Product Price  1.489657e-01\n",
      "0             Order Item Product Price  1.432457e-01\n",
      "12      Category Name_Cardio Equipment  2.622091e-03\n",
      "3                   Sales per customer  1.825595e-03\n",
      "4                     Order Item Total  1.639575e-03\n",
      "22            Category Name_Golf Shoes  1.713571e-04\n",
      "20            Category Name_Golf Balls  8.075380e-05\n",
      "21           Category Name_Golf Gloves  7.902979e-05\n",
      "17        Category Name_Girls' Apparel  4.472491e-05\n",
      "24    Category Name_Hunting & Shooting  2.097584e-05\n",
      "23                Category Name_Hockey  1.117976e-05\n",
      "10          Category Name_Boxing & MMA  2.486764e-06\n",
      "6        Category Name_As Seen on  TV!  2.167123e-06\n",
      "42    Category Name_Women's Golf Clubs  1.664217e-06\n",
      "27              Category Name_Lacrosse  2.724307e-07\n",
      "33                Category Name_Soccer  0.000000e+00\n",
      "31          Category Name_Pet Supplies  0.000000e+00\n",
      "32         Category Name_Shop By Sport  0.000000e+00\n",
      "34     Category Name_Strength Training  0.000000e+00\n",
      "29        Category Name_Men's Footwear  0.000000e+00\n",
      "35      Category Name_Tennis & Racquet  0.000000e+00\n",
      "36                  Category Name_Toys  0.000000e+00\n",
      "37              Category Name_Trade-In  0.000000e+00\n",
      "38           Category Name_Video Games  0.000000e+00\n",
      "39          Category Name_Water Sports  0.000000e+00\n",
      "40       Category Name_Women's Apparel  0.000000e+00\n",
      "41      Category Name_Women's Clothing  0.000000e+00\n",
      "30      Category Name_Men's Golf Clubs  0.000000e+00\n",
      "9                 Category Name_Books   0.000000e+00\n",
      "28        Category Name_Men's Clothing  0.000000e+00\n",
      "25  Category Name_Indoor/Outdoor Games  0.000000e+00\n",
      "5            Category Name_Accessories  0.000000e+00\n",
      "7                  Category Name_Baby   0.000000e+00\n",
      "19     Category Name_Golf Bags & Carts  0.000000e+00\n",
      "18          Category Name_Golf Apparel  0.000000e+00\n",
      "16   Category Name_Fitness Accessories  0.000000e+00\n",
      "15           Category Name_Electronics  0.000000e+00\n",
      "14                  Category Name_DVDs  0.000000e+00\n",
      "13                Category Name_Cleats  0.000000e+00\n",
      "8    Category Name_Baseball & Softball  0.000000e+00\n",
      "11                  Category Name_CDs   0.000000e+00\n",
      "26      Category Name_Kids' Golf Clubs  0.000000e+00\n"
     ]
    }
   ],
   "source": [
    "# Creating a DataFrame for better visualization of feature importances\n",
    "importances_df = pd.DataFrame({'Feature': all_feature_names, 'Importance': feature_importances})\n",
    "\n",
    "# Sort by importance\n",
    "importances_df = importances_df.sort_values(by='Importance', ascending=False)\n",
    "\n",
    "# Display feature importances\n",
    "print(importances_df)"
   ]
  },
  {
   "cell_type": "code",
   "execution_count": 99,
   "id": "2913b30c",
   "metadata": {},
   "outputs": [
    {
     "data": {
      "image/png": "[encoded data removed]",
      "text/plain": [
       "<Figure size 1000x600 with 1 Axes>"
      ]
     },
     "metadata": {},
     "output_type": "display_data"
    }
   ],
   "source": [
    "# Optionally, plot the feature importance for visualization\n",
    "import matplotlib.pyplot as plt\n",
    "plt.figure(figsize=(10, 6))\n",
    "plt.barh(importances_df['Feature'], importances_df['Importance'])\n",
    "plt.xlabel('Feature Importance')\n",
    "plt.ylabel('Features')\n",
    "plt.title('Feature Importance for Demand Forecasting Model')\n",
    "plt.gca().invert_yaxis()  # To have the most important feature on top\n",
    "plt.show()  "
   ]
  },
  {
   "cell_type": "code",
   "execution_count": 107,
   "id": "6c2677e2",
   "metadata": {},
   "outputs": [],
   "source": [
    "# New data point for prediction\n",
    "new_data = pd.DataFrame({\n",
    "    'Category Name': ['Electronics'],  \n",
    "    'Order Item Product Price': [100],\n",
    "    'Product Price': [100.0],  \n",
    "    'Sales': [500],  \n",
    "    'Sales per customer': [300], \n",
    "    'Order Item Total': [250.99]  \n",
    "})"
   ]
  },
  {
   "cell_type": "code",
   "execution_count": 108,
   "id": "fc2c206b",
   "metadata": {},
   "outputs": [
    {
     "name": "stdout",
     "output_type": "stream",
     "text": [
      "Predicted Order Item Quantity: [3.85]\n"
     ]
    }
   ],
   "source": [
    "# Using the trained model for prediction\n",
    "predicted_quantity = grid_search.best_estimator_.predict(new_data)\n",
    "\n",
    "# Displaying the predicted quantity (Order Item Quantity)\n",
    "print(\"Predicted Order Item Quantity:\", predicted_quantity)"
   ]
  },
  {
   "cell_type": "markdown",
   "id": "a72ea0cf",
   "metadata": {},
   "source": [
    "# Machine Learning Modelling\n",
    "## Delivery Time Prediction\n",
    "**Model Type:** Regression\n",
    "\n",
    "**Target Label (y_pred):** Days for shipping (real) (actual delivery days)\n",
    "    \n",
    "**Goal:** Predict the actual delivery time based on historical data.\n",
    "\n",
    "**Key Features:**\n",
    "* Days for shipment (scheduled)\n",
    "\n",
    "* Delivery Status\n",
    "\n",
    "* Shipping Mode\n",
    "\n",
    "**Questions Solved:** \n",
    "* What is the expected delivery time for a new order?\n",
    "\n",
    "* How can we optimise shipping times based on historical data?\n",
    "\n",
    "* What factors cause delays in shipments?\n",
    "\n",
    "* Can we predict which regions are prone to longer delivery times?\n",
    "\n",
    "\n",
    "**Potential Models:**\n",
    "* Linear Regression\n",
    "\n",
    "* Random Forest Regression\n",
    "\n",
    "* Gradient Boosting Regression\n",
    "\n",
    "* XGBoost\n",
    "\n",
    "\n",
    "We will be using `Random Forest Regression`"
   ]
  },
  {
   "cell_type": "code",
   "execution_count": 109,
   "id": "22697ba7",
   "metadata": {},
   "outputs": [],
   "source": [
    "# Importing libraries\n",
    "import pandas as pd\n",
    "from sklearn.model_selection import train_test_split, GridSearchCV\n",
    "from sklearn.preprocessing import OneHotEncoder\n",
    "from sklearn.ensemble import RandomForestRegressor\n",
    "from sklearn.metrics import mean_squared_error, mean_absolute_error, r2_score\n",
    "from sklearn.compose import ColumnTransformer\n",
    "from sklearn.pipeline import Pipeline"
   ]
  },
  {
   "cell_type": "code",
   "execution_count": 110,
   "id": "6110d772",
   "metadata": {},
   "outputs": [],
   "source": [
    "# Select the features and target\n",
    "features = ['Days for shipment (scheduled)', 'Delivery Status', 'Shipping Mode']\n",
    "target = 'Days for shipping (real)'  # Actual delivery days\n",
    "\n",
    "X = df[features]\n",
    "y = df[target]"
   ]
  },
  {
   "cell_type": "code",
   "execution_count": 111,
   "id": "86d29558",
   "metadata": {},
   "outputs": [],
   "source": [
    "# Handling categorical features with OneHotEncoding\n",
    "categorical_features = ['Delivery Status', 'Shipping Mode']\n",
    "numerical_features = ['Days for shipment (scheduled)']"
   ]
  },
  {
   "cell_type": "code",
   "execution_count": 112,
   "id": "2bd717be",
   "metadata": {},
   "outputs": [],
   "source": [
    "# Splitting data into training and testing sets\n",
    "X_train, X_test, y_train, y_test = train_test_split(X, y, test_size=0.2, random_state=42)"
   ]
  },
  {
   "cell_type": "code",
   "execution_count": 113,
   "id": "486a441e",
   "metadata": {},
   "outputs": [],
   "source": [
    "# Building preprocessing pipeline for encoding\n",
    "preprocessor = ColumnTransformer(\n",
    "    transformers=[\n",
    "        ('num', 'passthrough', numerical_features),  # Passing numerical columns as is\n",
    "        ('cat', OneHotEncoder(), categorical_features)  # Encoding categorical features\n",
    "    ])"
   ]
  },
  {
   "cell_type": "code",
   "execution_count": 114,
   "id": "6245ef47",
   "metadata": {},
   "outputs": [],
   "source": [
    "# Define the model\n",
    "rf = RandomForestRegressor(random_state=42)"
   ]
  },
  {
   "cell_type": "code",
   "execution_count": 115,
   "id": "e14a926c",
   "metadata": {},
   "outputs": [],
   "source": [
    "# Creating a pipeline to combine preprocessing with modeling\n",
    "pipeline2 = Pipeline(steps=[('preprocessor', preprocessor), ('regressor', rf)])"
   ]
  },
  {
   "cell_type": "code",
   "execution_count": 116,
   "id": "f9d16046",
   "metadata": {},
   "outputs": [],
   "source": [
    "# Hyperparameter tuning with GridSearchCV\n",
    "param_grid = {\n",
    "    'regressor__n_estimators': [100, 200, 300],\n",
    "    'regressor__max_depth': [10, 20, 30, None],\n",
    "    'regressor__min_samples_split': [2, 5, 10],\n",
    "    'regressor__min_samples_leaf': [1, 2, 4],\n",
    "    'regressor__bootstrap': [True, False]\n",
    "}"
   ]
  },
  {
   "cell_type": "code",
   "execution_count": 117,
   "id": "c3c5e44e",
   "metadata": {},
   "outputs": [],
   "source": [
    "grid_search = GridSearchCV(pipeline2, param_grid, cv=5, n_jobs=-1, verbose=2, scoring='neg_mean_squared_error')"
   ]
  },
  {
   "cell_type": "code",
   "execution_count": 118,
   "id": "58b5afb6",
   "metadata": {},
   "outputs": [
    {
     "name": "stdout",
     "output_type": "stream",
     "text": [
      "Fitting 5 folds for each of 216 candidates, totalling 1080 fits\n",
      "CPU times: total: 1min 17s\n",
      "Wall time: 38min 16s\n"
     ]
    },
    {
     "data": {
      "text/html": [
       "<style>#sk-container-id-2 {color: black;}#sk-container-id-2 pre{padding: 0;}#sk-container-id-2 div.sk-toggleable {background-color: white;}#sk-container-id-2 label.sk-toggleable__label {cursor: pointer;display: block;width: 100%;margin-bottom: 0;padding: 0.3em;box-sizing: border-box;text-align: center;}#sk-container-id-2 label.sk-toggleable__label-arrow:before {content: \"▸\";float: left;margin-right: 0.25em;color: #696969;}#sk-container-id-2 label.sk-toggleable__label-arrow:hover:before {color: black;}#sk-container-id-2 div.sk-estimator:hover label.sk-toggleable__label-arrow:before {color: black;}#sk-container-id-2 div.sk-toggleable__content {max-height: 0;max-width: 0;overflow: hidden;text-align: left;background-color: #f0f8ff;}#sk-container-id-2 div.sk-toggleable__content pre {margin: 0.2em;color: black;border-radius: 0.25em;background-color: #f0f8ff;}#sk-container-id-2 input.sk-toggleable__control:checked~div.sk-toggleable__content {max-height: 200px;max-width: 100%;overflow: auto;}#sk-container-id-2 input.sk-toggleable__control:checked~label.sk-toggleable__label-arrow:before {content: \"▾\";}#sk-container-id-2 div.sk-estimator input.sk-toggleable__control:checked~label.sk-toggleable__label {background-color: #d4ebff;}#sk-container-id-2 div.sk-label input.sk-toggleable__control:checked~label.sk-toggleable__label {background-color: #d4ebff;}#sk-container-id-2 input.sk-hidden--visually {border: 0;clip: rect(1px 1px 1px 1px);clip: rect(1px, 1px, 1px, 1px);height: 1px;margin: -1px;overflow: hidden;padding: 0;position: absolute;width: 1px;}#sk-container-id-2 div.sk-estimator {font-family: monospace;background-color: #f0f8ff;border: 1px dotted black;border-radius: 0.25em;box-sizing: border-box;margin-bottom: 0.5em;}#sk-container-id-2 div.sk-estimator:hover {background-color: #d4ebff;}#sk-container-id-2 div.sk-parallel-item::after {content: \"\";width: 100%;border-bottom: 1px solid gray;flex-grow: 1;}#sk-container-id-2 div.sk-label:hover label.sk-toggleable__label {background-color: #d4ebff;}#sk-container-id-2 div.sk-serial::before {content: \"\";position: absolute;border-left: 1px solid gray;box-sizing: border-box;top: 0;bottom: 0;left: 50%;z-index: 0;}#sk-container-id-2 div.sk-serial {display: flex;flex-direction: column;align-items: center;background-color: white;padding-right: 0.2em;padding-left: 0.2em;position: relative;}#sk-container-id-2 div.sk-item {position: relative;z-index: 1;}#sk-container-id-2 div.sk-parallel {display: flex;align-items: stretch;justify-content: center;background-color: white;position: relative;}#sk-container-id-2 div.sk-item::before, #sk-container-id-2 div.sk-parallel-item::before {content: \"\";position: absolute;border-left: 1px solid gray;box-sizing: border-box;top: 0;bottom: 0;left: 50%;z-index: -1;}#sk-container-id-2 div.sk-parallel-item {display: flex;flex-direction: column;z-index: 1;position: relative;background-color: white;}#sk-container-id-2 div.sk-parallel-item:first-child::after {align-self: flex-end;width: 50%;}#sk-container-id-2 div.sk-parallel-item:last-child::after {align-self: flex-start;width: 50%;}#sk-container-id-2 div.sk-parallel-item:only-child::after {width: 0;}#sk-container-id-2 div.sk-dashed-wrapped {border: 1px dashed gray;margin: 0 0.4em 0.5em 0.4em;box-sizing: border-box;padding-bottom: 0.4em;background-color: white;}#sk-container-id-2 div.sk-label label {font-family: monospace;font-weight: bold;display: inline-block;line-height: 1.2em;}#sk-container-id-2 div.sk-label-container {text-align: center;}#sk-container-id-2 div.sk-container {/* jupyter's `normalize.less` sets `[hidden] { display: none; }` but bootstrap.min.css set `[hidden] { display: none !important; }` so we also need the `!important` here to be able to override the default hidden behavior on the sphinx rendered scikit-learn.org. See: https://github.com/scikit-learn/scikit-learn/issues/21755 */display: inline-block !important;position: relative;}#sk-container-id-2 div.sk-text-repr-fallback {display: none;}</style><div id=\"sk-container-id-2\" class=\"sk-top-container\"><div class=\"sk-text-repr-fallback\"><pre>GridSearchCV(cv=5,\n",
       "             estimator=Pipeline(steps=[(&#x27;preprocessor&#x27;,\n",
       "                                        ColumnTransformer(transformers=[(&#x27;num&#x27;,\n",
       "                                                                         &#x27;passthrough&#x27;,\n",
       "                                                                         [&#x27;Days &#x27;\n",
       "                                                                          &#x27;for &#x27;\n",
       "                                                                          &#x27;shipment &#x27;\n",
       "                                                                          &#x27;(scheduled)&#x27;]),\n",
       "                                                                        (&#x27;cat&#x27;,\n",
       "                                                                         OneHotEncoder(),\n",
       "                                                                         [&#x27;Delivery &#x27;\n",
       "                                                                          &#x27;Status&#x27;,\n",
       "                                                                          &#x27;Shipping &#x27;\n",
       "                                                                          &#x27;Mode&#x27;])])),\n",
       "                                       (&#x27;regressor&#x27;,\n",
       "                                        RandomForestRegressor(random_state=42))]),\n",
       "             n_jobs=-1,\n",
       "             param_grid={&#x27;regressor__bootstrap&#x27;: [True, False],\n",
       "                         &#x27;regressor__max_depth&#x27;: [10, 20, 30, None],\n",
       "                         &#x27;regressor__min_samples_leaf&#x27;: [1, 2, 4],\n",
       "                         &#x27;regressor__min_samples_split&#x27;: [2, 5, 10],\n",
       "                         &#x27;regressor__n_estimators&#x27;: [100, 200, 300]},\n",
       "             scoring=&#x27;neg_mean_squared_error&#x27;, verbose=2)</pre><b>In a Jupyter environment, please rerun this cell to show the HTML representation or trust the notebook. <br />On GitHub, the HTML representation is unable to render, please try loading this page with nbviewer.org.</b></div><div class=\"sk-container\" hidden><div class=\"sk-item sk-dashed-wrapped\"><div class=\"sk-label-container\"><div class=\"sk-label sk-toggleable\"><input class=\"sk-toggleable__control sk-hidden--visually\" id=\"sk-estimator-id-9\" type=\"checkbox\" ><label for=\"sk-estimator-id-9\" class=\"sk-toggleable__label sk-toggleable__label-arrow\">GridSearchCV</label><div class=\"sk-toggleable__content\"><pre>GridSearchCV(cv=5,\n",
       "             estimator=Pipeline(steps=[(&#x27;preprocessor&#x27;,\n",
       "                                        ColumnTransformer(transformers=[(&#x27;num&#x27;,\n",
       "                                                                         &#x27;passthrough&#x27;,\n",
       "                                                                         [&#x27;Days &#x27;\n",
       "                                                                          &#x27;for &#x27;\n",
       "                                                                          &#x27;shipment &#x27;\n",
       "                                                                          &#x27;(scheduled)&#x27;]),\n",
       "                                                                        (&#x27;cat&#x27;,\n",
       "                                                                         OneHotEncoder(),\n",
       "                                                                         [&#x27;Delivery &#x27;\n",
       "                                                                          &#x27;Status&#x27;,\n",
       "                                                                          &#x27;Shipping &#x27;\n",
       "                                                                          &#x27;Mode&#x27;])])),\n",
       "                                       (&#x27;regressor&#x27;,\n",
       "                                        RandomForestRegressor(random_state=42))]),\n",
       "             n_jobs=-1,\n",
       "             param_grid={&#x27;regressor__bootstrap&#x27;: [True, False],\n",
       "                         &#x27;regressor__max_depth&#x27;: [10, 20, 30, None],\n",
       "                         &#x27;regressor__min_samples_leaf&#x27;: [1, 2, 4],\n",
       "                         &#x27;regressor__min_samples_split&#x27;: [2, 5, 10],\n",
       "                         &#x27;regressor__n_estimators&#x27;: [100, 200, 300]},\n",
       "             scoring=&#x27;neg_mean_squared_error&#x27;, verbose=2)</pre></div></div></div><div class=\"sk-parallel\"><div class=\"sk-parallel-item\"><div class=\"sk-item\"><div class=\"sk-label-container\"><div class=\"sk-label sk-toggleable\"><input class=\"sk-toggleable__control sk-hidden--visually\" id=\"sk-estimator-id-10\" type=\"checkbox\" ><label for=\"sk-estimator-id-10\" class=\"sk-toggleable__label sk-toggleable__label-arrow\">estimator: Pipeline</label><div class=\"sk-toggleable__content\"><pre>Pipeline(steps=[(&#x27;preprocessor&#x27;,\n",
       "                 ColumnTransformer(transformers=[(&#x27;num&#x27;, &#x27;passthrough&#x27;,\n",
       "                                                  [&#x27;Days for shipment &#x27;\n",
       "                                                   &#x27;(scheduled)&#x27;]),\n",
       "                                                 (&#x27;cat&#x27;, OneHotEncoder(),\n",
       "                                                  [&#x27;Delivery Status&#x27;,\n",
       "                                                   &#x27;Shipping Mode&#x27;])])),\n",
       "                (&#x27;regressor&#x27;, RandomForestRegressor(random_state=42))])</pre></div></div></div><div class=\"sk-serial\"><div class=\"sk-item\"><div class=\"sk-serial\"><div class=\"sk-item sk-dashed-wrapped\"><div class=\"sk-label-container\"><div class=\"sk-label sk-toggleable\"><input class=\"sk-toggleable__control sk-hidden--visually\" id=\"sk-estimator-id-11\" type=\"checkbox\" ><label for=\"sk-estimator-id-11\" class=\"sk-toggleable__label sk-toggleable__label-arrow\">preprocessor: ColumnTransformer</label><div class=\"sk-toggleable__content\"><pre>ColumnTransformer(transformers=[(&#x27;num&#x27;, &#x27;passthrough&#x27;,\n",
       "                                 [&#x27;Days for shipment (scheduled)&#x27;]),\n",
       "                                (&#x27;cat&#x27;, OneHotEncoder(),\n",
       "                                 [&#x27;Delivery Status&#x27;, &#x27;Shipping Mode&#x27;])])</pre></div></div></div><div class=\"sk-parallel\"><div class=\"sk-parallel-item\"><div class=\"sk-item\"><div class=\"sk-label-container\"><div class=\"sk-label sk-toggleable\"><input class=\"sk-toggleable__control sk-hidden--visually\" id=\"sk-estimator-id-12\" type=\"checkbox\" ><label for=\"sk-estimator-id-12\" class=\"sk-toggleable__label sk-toggleable__label-arrow\">num</label><div class=\"sk-toggleable__content\"><pre>[&#x27;Days for shipment (scheduled)&#x27;]</pre></div></div></div><div class=\"sk-serial\"><div class=\"sk-item\"><div class=\"sk-estimator sk-toggleable\"><input class=\"sk-toggleable__control sk-hidden--visually\" id=\"sk-estimator-id-13\" type=\"checkbox\" ><label for=\"sk-estimator-id-13\" class=\"sk-toggleable__label sk-toggleable__label-arrow\">passthrough</label><div class=\"sk-toggleable__content\"><pre>passthrough</pre></div></div></div></div></div></div><div class=\"sk-parallel-item\"><div class=\"sk-item\"><div class=\"sk-label-container\"><div class=\"sk-label sk-toggleable\"><input class=\"sk-toggleable__control sk-hidden--visually\" id=\"sk-estimator-id-14\" type=\"checkbox\" ><label for=\"sk-estimator-id-14\" class=\"sk-toggleable__label sk-toggleable__label-arrow\">cat</label><div class=\"sk-toggleable__content\"><pre>[&#x27;Delivery Status&#x27;, &#x27;Shipping Mode&#x27;]</pre></div></div></div><div class=\"sk-serial\"><div class=\"sk-item\"><div class=\"sk-estimator sk-toggleable\"><input class=\"sk-toggleable__control sk-hidden--visually\" id=\"sk-estimator-id-15\" type=\"checkbox\" ><label for=\"sk-estimator-id-15\" class=\"sk-toggleable__label sk-toggleable__label-arrow\">OneHotEncoder</label><div class=\"sk-toggleable__content\"><pre>OneHotEncoder()</pre></div></div></div></div></div></div></div></div><div class=\"sk-item\"><div class=\"sk-estimator sk-toggleable\"><input class=\"sk-toggleable__control sk-hidden--visually\" id=\"sk-estimator-id-16\" type=\"checkbox\" ><label for=\"sk-estimator-id-16\" class=\"sk-toggleable__label sk-toggleable__label-arrow\">RandomForestRegressor</label><div class=\"sk-toggleable__content\"><pre>RandomForestRegressor(random_state=42)</pre></div></div></div></div></div></div></div></div></div></div></div></div>"
      ],
      "text/plain": [
       "GridSearchCV(cv=5,\n",
       "             estimator=Pipeline(steps=[('preprocessor',\n",
       "                                        ColumnTransformer(transformers=[('num',\n",
       "                                                                         'passthrough',\n",
       "                                                                         ['Days '\n",
       "                                                                          'for '\n",
       "                                                                          'shipment '\n",
       "                                                                          '(scheduled)']),\n",
       "                                                                        ('cat',\n",
       "                                                                         OneHotEncoder(),\n",
       "                                                                         ['Delivery '\n",
       "                                                                          'Status',\n",
       "                                                                          'Shipping '\n",
       "                                                                          'Mode'])])),\n",
       "                                       ('regressor',\n",
       "                                        RandomForestRegressor(random_state=42))]),\n",
       "             n_jobs=-1,\n",
       "             param_grid={'regressor__bootstrap': [True, False],\n",
       "                         'regressor__max_depth': [10, 20, 30, None],\n",
       "                         'regressor__min_samples_leaf': [1, 2, 4],\n",
       "                         'regressor__min_samples_split': [2, 5, 10],\n",
       "                         'regressor__n_estimators': [100, 200, 300]},\n",
       "             scoring='neg_mean_squared_error', verbose=2)"
      ]
     },
     "execution_count": 118,
     "metadata": {},
     "output_type": "execute_result"
    }
   ],
   "source": [
    "%%time\n",
    "# Fit the model\n",
    "grid_search.fit(X_train, y_train)"
   ]
  },
  {
   "cell_type": "code",
   "execution_count": 119,
   "id": "92dac210",
   "metadata": {},
   "outputs": [
    {
     "name": "stdout",
     "output_type": "stream",
     "text": [
      "Best Parameters:  {'regressor__bootstrap': True, 'regressor__max_depth': 10, 'regressor__min_samples_leaf': 1, 'regressor__min_samples_split': 2, 'regressor__n_estimators': 200}\n"
     ]
    }
   ],
   "source": [
    "# Best parameters from GridSearchCV\n",
    "print(\"Best Parameters: \", grid_search.best_params_)\n"
   ]
  },
  {
   "cell_type": "code",
   "execution_count": 120,
   "id": "8499887d",
   "metadata": {},
   "outputs": [],
   "source": [
    "# Making predictions on test data\n",
    "y_pred = grid_search.best_estimator_.predict(X_test)"
   ]
  },
  {
   "cell_type": "code",
   "execution_count": 121,
   "id": "aced9930",
   "metadata": {},
   "outputs": [
    {
     "name": "stdout",
     "output_type": "stream",
     "text": [
      "Mean Squared Error:  0.37035454078537106\n",
      "Mean Absolute Error:  0.4212365223854794\n",
      "R-squared:  0.860233601984806\n"
     ]
    }
   ],
   "source": [
    "\n",
    "# Model evaluation\n",
    "mse = mean_squared_error(y_test, y_pred)\n",
    "mae = mean_absolute_error(y_test, y_pred)\n",
    "r2 = r2_score(y_test, y_pred)\n",
    "\n",
    "print(\"Mean Squared Error: \", mse)\n",
    "print(\"Mean Absolute Error: \", mae)\n",
    "print(\"R-squared: \", r2)\n"
   ]
  },
  {
   "cell_type": "code",
   "execution_count": 122,
   "id": "0dafa16d",
   "metadata": {},
   "outputs": [],
   "source": [
    "# Feature Importance extraction\n",
    "best_model = grid_search.best_estimator_.named_steps['regressor']\n",
    "feature_importances = best_model.feature_importances_"
   ]
  },
  {
   "cell_type": "code",
   "execution_count": 123,
   "id": "ba5d5768",
   "metadata": {},
   "outputs": [],
   "source": [
    "# Get feature names after OneHotEncoding\n",
    "encoded_feature_names = grid_search.best_estimator_.named_steps['preprocessor'].transformers_[1][1].get_feature_names_out(categorical_features)\n",
    "all_feature_names = list(numerical_features) + list(encoded_feature_names)"
   ]
  },
  {
   "cell_type": "code",
   "execution_count": 124,
   "id": "87575ad4",
   "metadata": {},
   "outputs": [],
   "source": [
    "# Creating a DataFrame for better visualization of feature importances\n",
    "importances_df = pd.DataFrame({'Feature': all_feature_names, 'Importance': feature_importances})"
   ]
  },
  {
   "cell_type": "code",
   "execution_count": 125,
   "id": "86a2aa33",
   "metadata": {},
   "outputs": [],
   "source": [
    "# Sort by importance\n",
    "importances_df = importances_df.sort_values(by='Importance', ascending=False)"
   ]
  },
  {
   "cell_type": "code",
   "execution_count": 126,
   "id": "6423f87f",
   "metadata": {},
   "outputs": [
    {
     "name": "stdout",
     "output_type": "stream",
     "text": [
      "                             Feature  Importance\n",
      "0      Days for shipment (scheduled)    0.463407\n",
      "2      Delivery Status_Late delivery    0.393977\n",
      "1   Delivery Status_Advance shipping    0.054119\n",
      "8       Shipping Mode_Standard Class    0.030804\n",
      "7         Shipping Mode_Second Class    0.022565\n",
      "6             Shipping Mode_Same Day    0.013729\n",
      "5          Shipping Mode_First Class    0.010251\n",
      "4   Delivery Status_Shipping on time    0.005697\n",
      "3  Delivery Status_Shipping canceled    0.005451\n"
     ]
    }
   ],
   "source": [
    "# Display feature importances\n",
    "print(importances_df)"
   ]
  },
  {
   "cell_type": "code",
   "execution_count": 127,
   "id": "939e9803",
   "metadata": {},
   "outputs": [
    {
     "data": {
      "image/png": "[encoded data removed]",
      "text/plain": [
       "<Figure size 1000x600 with 1 Axes>"
      ]
     },
     "metadata": {},
     "output_type": "display_data"
    }
   ],
   "source": [
    "#plot the feature importance for visualization\n",
    "import matplotlib.pyplot as plt\n",
    "plt.figure(figsize=(10, 6))\n",
    "plt.barh(importances_df['Feature'], importances_df['Importance'])\n",
    "plt.xlabel('Feature Importance')\n",
    "plt.ylabel('Features')\n",
    "plt.title('Feature Importance for Delivery Time Prediction Model')\n",
    "plt.gca().invert_yaxis()  # To have the most important feature on top\n",
    "plt.show()"
   ]
  },
  {
   "cell_type": "code",
   "execution_count": 136,
   "id": "5773a4fa",
   "metadata": {},
   "outputs": [],
   "source": [
    "# New data for prediction \n",
    "new_data = pd.DataFrame({\n",
    "    'Days for shipment (scheduled)': [5],  \n",
    "    'Delivery Status': ['Advance shipping'], \n",
    "    'Shipping Mode': ['First Class']  \n",
    "})"
   ]
  },
  {
   "cell_type": "code",
   "execution_count": 137,
   "id": "305a714d",
   "metadata": {},
   "outputs": [
    {
     "name": "stdout",
     "output_type": "stream",
     "text": [
      "Predicted Days for Shipping (Real): [2.49926071]\n"
     ]
    }
   ],
   "source": [
    "predicted_delivery_days = grid_search.best_estimator_.predict(new_data)\n",
    "\n",
    "# Displaying the predicted days for shipping (real)\n",
    "print(\"Predicted Days for Shipping (Real):\", predicted_delivery_days)"
   ]
  },
  {
   "cell_type": "markdown",
   "id": "e7c11a70",
   "metadata": {},
   "source": [
    "# Machine Learning Modelling\n",
    "## Late Delivery Risk Prediction\n",
    "**Model Type:** Classification\n",
    "\n",
    "**Target Label (y_pred):** Late_delivery_risk (0: on-time, 1: late)\n",
    "    \n",
    "**Goal:** Classify whether a delivery will be late or not.\n",
    "\n",
    "**Key Features:**\n",
    "* Days for shipping (real) and Days for shipment (scheduled)\n",
    "* Delivery Status\n",
    "* Shipping Mode\n",
    "* Order Status\n",
    "\n",
    "\n",
    "**Questions Solved:** \n",
    "* Will the current order be delivered late?\n",
    "* What are the key factors contributing to late deliveries?\n",
    "* How can we minimize the late delivery risk by adjusting shipping methods or order processing times?\n",
    "\n",
    "\n",
    "\n",
    "**Potential Models:**\n",
    "* Logistic Regression\n",
    "* Random Forest Classifier\n",
    "* XGBoost Classifier\n",
    "* Support Vector Machine (SVM)\n",
    "\n",
    "\n",
    "We will be using `Random Forest Classification`"
   ]
  },
  {
   "cell_type": "code",
   "execution_count": 158,
   "id": "6222c057",
   "metadata": {},
   "outputs": [],
   "source": [
    "# Importing libraries\n",
    "from sklearn.model_selection import train_test_split, GridSearchCV\n",
    "from sklearn.preprocessing import OneHotEncoder\n",
    "from sklearn.ensemble import RandomForestClassifier\n",
    "from sklearn.metrics import accuracy_score, classification_report, confusion_matrix\n",
    "from sklearn.compose import ColumnTransformer\n",
    "from sklearn.pipeline import Pipeline"
   ]
  },
  {
   "cell_type": "code",
   "execution_count": 159,
   "id": "89e9a7ef",
   "metadata": {},
   "outputs": [],
   "source": [
    "# Select the features and target (removing 'Delivery Status')\n",
    "features = ['Days for shipping (real)', 'Days for shipment (scheduled)', 'Shipping Mode', 'Order Status']\n",
    "target = 'Late_delivery_risk'  # Binary classification: 0 (on-time), 1 (late)\n",
    "\n",
    "X = df[features]\n",
    "y = df[target]"
   ]
  },
  {
   "cell_type": "code",
   "execution_count": 160,
   "id": "fecff3bb",
   "metadata": {},
   "outputs": [],
   "source": [
    "# Handling categorical features with OneHotEncoding \n",
    "categorical_features = ['Shipping Mode', 'Order Status']\n",
    "numerical_features = ['Days for shipping (real)', 'Days for shipment (scheduled)']"
   ]
  },
  {
   "cell_type": "code",
   "execution_count": 161,
   "id": "422c0132",
   "metadata": {},
   "outputs": [],
   "source": [
    "# Splitting data into training and testing sets\n",
    "X_train, X_test, y_train, y_test = train_test_split(X, y, test_size=0.2, random_state=42)"
   ]
  },
  {
   "cell_type": "code",
   "execution_count": 162,
   "id": "f04bf66a",
   "metadata": {},
   "outputs": [],
   "source": [
    "# Building preprocessing pipeline for encoding\n",
    "preprocessor = ColumnTransformer(\n",
    "    transformers=[\n",
    "        ('num', 'passthrough', numerical_features),  # Passing numerical columns as is\n",
    "        ('cat', OneHotEncoder(), categorical_features)  # Encoding categorical features\n",
    "    ])"
   ]
  },
  {
   "cell_type": "code",
   "execution_count": 163,
   "id": "f7d7ad54",
   "metadata": {},
   "outputs": [],
   "source": [
    "# Define the model\n",
    "rf = RandomForestClassifier(random_state=42)"
   ]
  },
  {
   "cell_type": "code",
   "execution_count": 164,
   "id": "7fd0b29a",
   "metadata": {},
   "outputs": [],
   "source": [
    "# Creating a pipeline to combine preprocessing with modeling\n",
    "pipeline3 = Pipeline(steps=[('preprocessor', preprocessor), ('classifier', rf)])"
   ]
  },
  {
   "cell_type": "code",
   "execution_count": 167,
   "id": "e535a140",
   "metadata": {},
   "outputs": [],
   "source": [
    "# Hyperparameter tuning with GridSearchCV\n",
    "param_grid = {\n",
    "    'classifier__n_estimators': [100, 200, 300],\n",
    "    'classifier__max_depth': [10, 20, 30, None],\n",
    "    'classifier__min_samples_split': [2, 5, 10],\n",
    "    'classifier__min_samples_leaf': [1, 2, 4],\n",
    "    'classifier__bootstrap': [True, False]\n",
    "}\n",
    "\n",
    "grid_search = GridSearchCV(pipeline3, param_grid, cv=5, n_jobs=-1, verbose=2, scoring='accuracy')"
   ]
  },
  {
   "cell_type": "code",
   "execution_count": 168,
   "id": "b45b035b",
   "metadata": {},
   "outputs": [
    {
     "name": "stdout",
     "output_type": "stream",
     "text": [
      "Fitting 5 folds for each of 216 candidates, totalling 1080 fits\n",
      "CPU times: total: 58 s\n",
      "Wall time: 29min 51s\n"
     ]
    },
    {
     "data": {
      "text/html": [
       "<style>#sk-container-id-3 {color: black;}#sk-container-id-3 pre{padding: 0;}#sk-container-id-3 div.sk-toggleable {background-color: white;}#sk-container-id-3 label.sk-toggleable__label {cursor: pointer;display: block;width: 100%;margin-bottom: 0;padding: 0.3em;box-sizing: border-box;text-align: center;}#sk-container-id-3 label.sk-toggleable__label-arrow:before {content: \"▸\";float: left;margin-right: 0.25em;color: #696969;}#sk-container-id-3 label.sk-toggleable__label-arrow:hover:before {color: black;}#sk-container-id-3 div.sk-estimator:hover label.sk-toggleable__label-arrow:before {color: black;}#sk-container-id-3 div.sk-toggleable__content {max-height: 0;max-width: 0;overflow: hidden;text-align: left;background-color: #f0f8ff;}#sk-container-id-3 div.sk-toggleable__content pre {margin: 0.2em;color: black;border-radius: 0.25em;background-color: #f0f8ff;}#sk-container-id-3 input.sk-toggleable__control:checked~div.sk-toggleable__content {max-height: 200px;max-width: 100%;overflow: auto;}#sk-container-id-3 input.sk-toggleable__control:checked~label.sk-toggleable__label-arrow:before {content: \"▾\";}#sk-container-id-3 div.sk-estimator input.sk-toggleable__control:checked~label.sk-toggleable__label {background-color: #d4ebff;}#sk-container-id-3 div.sk-label input.sk-toggleable__control:checked~label.sk-toggleable__label {background-color: #d4ebff;}#sk-container-id-3 input.sk-hidden--visually {border: 0;clip: rect(1px 1px 1px 1px);clip: rect(1px, 1px, 1px, 1px);height: 1px;margin: -1px;overflow: hidden;padding: 0;position: absolute;width: 1px;}#sk-container-id-3 div.sk-estimator {font-family: monospace;background-color: #f0f8ff;border: 1px dotted black;border-radius: 0.25em;box-sizing: border-box;margin-bottom: 0.5em;}#sk-container-id-3 div.sk-estimator:hover {background-color: #d4ebff;}#sk-container-id-3 div.sk-parallel-item::after {content: \"\";width: 100%;border-bottom: 1px solid gray;flex-grow: 1;}#sk-container-id-3 div.sk-label:hover label.sk-toggleable__label {background-color: #d4ebff;}#sk-container-id-3 div.sk-serial::before {content: \"\";position: absolute;border-left: 1px solid gray;box-sizing: border-box;top: 0;bottom: 0;left: 50%;z-index: 0;}#sk-container-id-3 div.sk-serial {display: flex;flex-direction: column;align-items: center;background-color: white;padding-right: 0.2em;padding-left: 0.2em;position: relative;}#sk-container-id-3 div.sk-item {position: relative;z-index: 1;}#sk-container-id-3 div.sk-parallel {display: flex;align-items: stretch;justify-content: center;background-color: white;position: relative;}#sk-container-id-3 div.sk-item::before, #sk-container-id-3 div.sk-parallel-item::before {content: \"\";position: absolute;border-left: 1px solid gray;box-sizing: border-box;top: 0;bottom: 0;left: 50%;z-index: -1;}#sk-container-id-3 div.sk-parallel-item {display: flex;flex-direction: column;z-index: 1;position: relative;background-color: white;}#sk-container-id-3 div.sk-parallel-item:first-child::after {align-self: flex-end;width: 50%;}#sk-container-id-3 div.sk-parallel-item:last-child::after {align-self: flex-start;width: 50%;}#sk-container-id-3 div.sk-parallel-item:only-child::after {width: 0;}#sk-container-id-3 div.sk-dashed-wrapped {border: 1px dashed gray;margin: 0 0.4em 0.5em 0.4em;box-sizing: border-box;padding-bottom: 0.4em;background-color: white;}#sk-container-id-3 div.sk-label label {font-family: monospace;font-weight: bold;display: inline-block;line-height: 1.2em;}#sk-container-id-3 div.sk-label-container {text-align: center;}#sk-container-id-3 div.sk-container {/* jupyter's `normalize.less` sets `[hidden] { display: none; }` but bootstrap.min.css set `[hidden] { display: none !important; }` so we also need the `!important` here to be able to override the default hidden behavior on the sphinx rendered scikit-learn.org. See: https://github.com/scikit-learn/scikit-learn/issues/21755 */display: inline-block !important;position: relative;}#sk-container-id-3 div.sk-text-repr-fallback {display: none;}</style><div id=\"sk-container-id-3\" class=\"sk-top-container\"><div class=\"sk-text-repr-fallback\"><pre>GridSearchCV(cv=5,\n",
       "             estimator=Pipeline(steps=[(&#x27;preprocessor&#x27;,\n",
       "                                        ColumnTransformer(transformers=[(&#x27;num&#x27;,\n",
       "                                                                         &#x27;passthrough&#x27;,\n",
       "                                                                         [&#x27;Days &#x27;\n",
       "                                                                          &#x27;for &#x27;\n",
       "                                                                          &#x27;shipping &#x27;\n",
       "                                                                          &#x27;(real)&#x27;,\n",
       "                                                                          &#x27;Days &#x27;\n",
       "                                                                          &#x27;for &#x27;\n",
       "                                                                          &#x27;shipment &#x27;\n",
       "                                                                          &#x27;(scheduled)&#x27;]),\n",
       "                                                                        (&#x27;cat&#x27;,\n",
       "                                                                         OneHotEncoder(),\n",
       "                                                                         [&#x27;Shipping &#x27;\n",
       "                                                                          &#x27;Mode&#x27;,\n",
       "                                                                          &#x27;Order &#x27;\n",
       "                                                                          &#x27;Status&#x27;])])),\n",
       "                                       (&#x27;classifier&#x27;,\n",
       "                                        RandomForestClassifier(random_state=42))]),\n",
       "             n_jobs=-1,\n",
       "             param_grid={&#x27;classifier__bootstrap&#x27;: [True, False],\n",
       "                         &#x27;classifier__max_depth&#x27;: [10, 20, 30, None],\n",
       "                         &#x27;classifier__min_samples_leaf&#x27;: [1, 2, 4],\n",
       "                         &#x27;classifier__min_samples_split&#x27;: [2, 5, 10],\n",
       "                         &#x27;classifier__n_estimators&#x27;: [100, 200, 300]},\n",
       "             scoring=&#x27;accuracy&#x27;, verbose=2)</pre><b>In a Jupyter environment, please rerun this cell to show the HTML representation or trust the notebook. <br />On GitHub, the HTML representation is unable to render, please try loading this page with nbviewer.org.</b></div><div class=\"sk-container\" hidden><div class=\"sk-item sk-dashed-wrapped\"><div class=\"sk-label-container\"><div class=\"sk-label sk-toggleable\"><input class=\"sk-toggleable__control sk-hidden--visually\" id=\"sk-estimator-id-17\" type=\"checkbox\" ><label for=\"sk-estimator-id-17\" class=\"sk-toggleable__label sk-toggleable__label-arrow\">GridSearchCV</label><div class=\"sk-toggleable__content\"><pre>GridSearchCV(cv=5,\n",
       "             estimator=Pipeline(steps=[(&#x27;preprocessor&#x27;,\n",
       "                                        ColumnTransformer(transformers=[(&#x27;num&#x27;,\n",
       "                                                                         &#x27;passthrough&#x27;,\n",
       "                                                                         [&#x27;Days &#x27;\n",
       "                                                                          &#x27;for &#x27;\n",
       "                                                                          &#x27;shipping &#x27;\n",
       "                                                                          &#x27;(real)&#x27;,\n",
       "                                                                          &#x27;Days &#x27;\n",
       "                                                                          &#x27;for &#x27;\n",
       "                                                                          &#x27;shipment &#x27;\n",
       "                                                                          &#x27;(scheduled)&#x27;]),\n",
       "                                                                        (&#x27;cat&#x27;,\n",
       "                                                                         OneHotEncoder(),\n",
       "                                                                         [&#x27;Shipping &#x27;\n",
       "                                                                          &#x27;Mode&#x27;,\n",
       "                                                                          &#x27;Order &#x27;\n",
       "                                                                          &#x27;Status&#x27;])])),\n",
       "                                       (&#x27;classifier&#x27;,\n",
       "                                        RandomForestClassifier(random_state=42))]),\n",
       "             n_jobs=-1,\n",
       "             param_grid={&#x27;classifier__bootstrap&#x27;: [True, False],\n",
       "                         &#x27;classifier__max_depth&#x27;: [10, 20, 30, None],\n",
       "                         &#x27;classifier__min_samples_leaf&#x27;: [1, 2, 4],\n",
       "                         &#x27;classifier__min_samples_split&#x27;: [2, 5, 10],\n",
       "                         &#x27;classifier__n_estimators&#x27;: [100, 200, 300]},\n",
       "             scoring=&#x27;accuracy&#x27;, verbose=2)</pre></div></div></div><div class=\"sk-parallel\"><div class=\"sk-parallel-item\"><div class=\"sk-item\"><div class=\"sk-label-container\"><div class=\"sk-label sk-toggleable\"><input class=\"sk-toggleable__control sk-hidden--visually\" id=\"sk-estimator-id-18\" type=\"checkbox\" ><label for=\"sk-estimator-id-18\" class=\"sk-toggleable__label sk-toggleable__label-arrow\">estimator: Pipeline</label><div class=\"sk-toggleable__content\"><pre>Pipeline(steps=[(&#x27;preprocessor&#x27;,\n",
       "                 ColumnTransformer(transformers=[(&#x27;num&#x27;, &#x27;passthrough&#x27;,\n",
       "                                                  [&#x27;Days for shipping (real)&#x27;,\n",
       "                                                   &#x27;Days for shipment &#x27;\n",
       "                                                   &#x27;(scheduled)&#x27;]),\n",
       "                                                 (&#x27;cat&#x27;, OneHotEncoder(),\n",
       "                                                  [&#x27;Shipping Mode&#x27;,\n",
       "                                                   &#x27;Order Status&#x27;])])),\n",
       "                (&#x27;classifier&#x27;, RandomForestClassifier(random_state=42))])</pre></div></div></div><div class=\"sk-serial\"><div class=\"sk-item\"><div class=\"sk-serial\"><div class=\"sk-item sk-dashed-wrapped\"><div class=\"sk-label-container\"><div class=\"sk-label sk-toggleable\"><input class=\"sk-toggleable__control sk-hidden--visually\" id=\"sk-estimator-id-19\" type=\"checkbox\" ><label for=\"sk-estimator-id-19\" class=\"sk-toggleable__label sk-toggleable__label-arrow\">preprocessor: ColumnTransformer</label><div class=\"sk-toggleable__content\"><pre>ColumnTransformer(transformers=[(&#x27;num&#x27;, &#x27;passthrough&#x27;,\n",
       "                                 [&#x27;Days for shipping (real)&#x27;,\n",
       "                                  &#x27;Days for shipment (scheduled)&#x27;]),\n",
       "                                (&#x27;cat&#x27;, OneHotEncoder(),\n",
       "                                 [&#x27;Shipping Mode&#x27;, &#x27;Order Status&#x27;])])</pre></div></div></div><div class=\"sk-parallel\"><div class=\"sk-parallel-item\"><div class=\"sk-item\"><div class=\"sk-label-container\"><div class=\"sk-label sk-toggleable\"><input class=\"sk-toggleable__control sk-hidden--visually\" id=\"sk-estimator-id-20\" type=\"checkbox\" ><label for=\"sk-estimator-id-20\" class=\"sk-toggleable__label sk-toggleable__label-arrow\">num</label><div class=\"sk-toggleable__content\"><pre>[&#x27;Days for shipping (real)&#x27;, &#x27;Days for shipment (scheduled)&#x27;]</pre></div></div></div><div class=\"sk-serial\"><div class=\"sk-item\"><div class=\"sk-estimator sk-toggleable\"><input class=\"sk-toggleable__control sk-hidden--visually\" id=\"sk-estimator-id-21\" type=\"checkbox\" ><label for=\"sk-estimator-id-21\" class=\"sk-toggleable__label sk-toggleable__label-arrow\">passthrough</label><div class=\"sk-toggleable__content\"><pre>passthrough</pre></div></div></div></div></div></div><div class=\"sk-parallel-item\"><div class=\"sk-item\"><div class=\"sk-label-container\"><div class=\"sk-label sk-toggleable\"><input class=\"sk-toggleable__control sk-hidden--visually\" id=\"sk-estimator-id-22\" type=\"checkbox\" ><label for=\"sk-estimator-id-22\" class=\"sk-toggleable__label sk-toggleable__label-arrow\">cat</label><div class=\"sk-toggleable__content\"><pre>[&#x27;Shipping Mode&#x27;, &#x27;Order Status&#x27;]</pre></div></div></div><div class=\"sk-serial\"><div class=\"sk-item\"><div class=\"sk-estimator sk-toggleable\"><input class=\"sk-toggleable__control sk-hidden--visually\" id=\"sk-estimator-id-23\" type=\"checkbox\" ><label for=\"sk-estimator-id-23\" class=\"sk-toggleable__label sk-toggleable__label-arrow\">OneHotEncoder</label><div class=\"sk-toggleable__content\"><pre>OneHotEncoder()</pre></div></div></div></div></div></div></div></div><div class=\"sk-item\"><div class=\"sk-estimator sk-toggleable\"><input class=\"sk-toggleable__control sk-hidden--visually\" id=\"sk-estimator-id-24\" type=\"checkbox\" ><label for=\"sk-estimator-id-24\" class=\"sk-toggleable__label sk-toggleable__label-arrow\">RandomForestClassifier</label><div class=\"sk-toggleable__content\"><pre>RandomForestClassifier(random_state=42)</pre></div></div></div></div></div></div></div></div></div></div></div></div>"
      ],
      "text/plain": [
       "GridSearchCV(cv=5,\n",
       "             estimator=Pipeline(steps=[('preprocessor',\n",
       "                                        ColumnTransformer(transformers=[('num',\n",
       "                                                                         'passthrough',\n",
       "                                                                         ['Days '\n",
       "                                                                          'for '\n",
       "                                                                          'shipping '\n",
       "                                                                          '(real)',\n",
       "                                                                          'Days '\n",
       "                                                                          'for '\n",
       "                                                                          'shipment '\n",
       "                                                                          '(scheduled)']),\n",
       "                                                                        ('cat',\n",
       "                                                                         OneHotEncoder(),\n",
       "                                                                         ['Shipping '\n",
       "                                                                          'Mode',\n",
       "                                                                          'Order '\n",
       "                                                                          'Status'])])),\n",
       "                                       ('classifier',\n",
       "                                        RandomForestClassifier(random_state=42))]),\n",
       "             n_jobs=-1,\n",
       "             param_grid={'classifier__bootstrap': [True, False],\n",
       "                         'classifier__max_depth': [10, 20, 30, None],\n",
       "                         'classifier__min_samples_leaf': [1, 2, 4],\n",
       "                         'classifier__min_samples_split': [2, 5, 10],\n",
       "                         'classifier__n_estimators': [100, 200, 300]},\n",
       "             scoring='accuracy', verbose=2)"
      ]
     },
     "execution_count": 168,
     "metadata": {},
     "output_type": "execute_result"
    }
   ],
   "source": [
    "%%time\n",
    "# Fit the model\n",
    "grid_search.fit(X_train, y_train)"
   ]
  },
  {
   "cell_type": "code",
   "execution_count": 169,
   "id": "e8dbe1a3",
   "metadata": {},
   "outputs": [
    {
     "name": "stdout",
     "output_type": "stream",
     "text": [
      "Best Parameters:  {'classifier__bootstrap': True, 'classifier__max_depth': 10, 'classifier__min_samples_leaf': 1, 'classifier__min_samples_split': 2, 'classifier__n_estimators': 100}\n"
     ]
    }
   ],
   "source": [
    "# Best parameters from GridSearchCV\n",
    "print(\"Best Parameters: \", grid_search.best_params_)"
   ]
  },
  {
   "cell_type": "code",
   "execution_count": 170,
   "id": "73092de1",
   "metadata": {},
   "outputs": [],
   "source": [
    "# Making predictions on test data\n",
    "y_pred = grid_search.best_estimator_.predict(X_test)"
   ]
  },
  {
   "cell_type": "code",
   "execution_count": 171,
   "id": "caefc9d3",
   "metadata": {},
   "outputs": [
    {
     "name": "stdout",
     "output_type": "stream",
     "text": [
      "Accuracy: 1.0\n",
      "Classification Report:\n",
      "              precision    recall  f1-score   support\n",
      "\n",
      "           0       1.00      1.00      1.00     11460\n",
      "           1       1.00      1.00      1.00     13756\n",
      "\n",
      "    accuracy                           1.00     25216\n",
      "   macro avg       1.00      1.00      1.00     25216\n",
      "weighted avg       1.00      1.00      1.00     25216\n",
      "\n",
      "Confusion Matrix:\n",
      "[[11460     0]\n",
      " [    0 13756]]\n"
     ]
    }
   ],
   "source": [
    "# Model evaluation\n",
    "accuracy = accuracy_score(y_test, y_pred)\n",
    "print(f\"Accuracy: {accuracy}\")\n",
    "print(\"Classification Report:\")\n",
    "print(classification_report(y_test, y_pred))\n",
    "print(\"Confusion Matrix:\")\n",
    "print(confusion_matrix(y_test, y_pred))"
   ]
  },
  {
   "cell_type": "code",
   "execution_count": 172,
   "id": "d1281064",
   "metadata": {},
   "outputs": [],
   "source": [
    "# Creating a DataFrame for better visualization of feature importances\n",
    "importances_df = pd.DataFrame({'Feature': all_feature_names, 'Importance': feature_importances})\n",
    "\n",
    "# Sort by importance\n",
    "importances_df = importances_df.sort_values(by='Importance', ascending=False)"
   ]
  },
  {
   "cell_type": "code",
   "execution_count": 173,
   "id": "f5823f11",
   "metadata": {},
   "outputs": [
    {
     "name": "stdout",
     "output_type": "stream",
     "text": [
      "                             Feature  Importance\n",
      "0      Days for shipment (scheduled)    0.463407\n",
      "2      Delivery Status_Late delivery    0.393977\n",
      "1   Delivery Status_Advance shipping    0.054119\n",
      "8       Shipping Mode_Standard Class    0.030804\n",
      "7         Shipping Mode_Second Class    0.022565\n",
      "6             Shipping Mode_Same Day    0.013729\n",
      "5          Shipping Mode_First Class    0.010251\n",
      "4   Delivery Status_Shipping on time    0.005697\n",
      "3  Delivery Status_Shipping canceled    0.005451\n"
     ]
    }
   ],
   "source": [
    "# Display feature importances\n",
    "print(importances_df)"
   ]
  },
  {
   "cell_type": "code",
   "execution_count": 174,
   "id": "6a50c996",
   "metadata": {},
   "outputs": [
    {
     "data": {
      "image/png": "[encoded data removed]",
      "text/plain": [
       "<Figure size 1000x600 with 1 Axes>"
      ]
     },
     "metadata": {},
     "output_type": "display_data"
    }
   ],
   "source": [
    "#plot the feature importance for visualization\n",
    "import matplotlib.pyplot as plt\n",
    "plt.figure(figsize=(10, 6))\n",
    "plt.barh(importances_df['Feature'], importances_df['Importance'])\n",
    "plt.xlabel('Feature Importance')\n",
    "plt.ylabel('Features')\n",
    "plt.title('Feature Importance for Late Delivery Risk Prediction Model')\n",
    "plt.gca().invert_yaxis()  # To have the most important feature on top\n",
    "plt.show()"
   ]
  },
  {
   "cell_type": "code",
   "execution_count": 183,
   "id": "dd74e575",
   "metadata": {},
   "outputs": [],
   "source": [
    "# New data for prediction\n",
    "new_data = pd.DataFrame({\n",
    "    'Days for shipping (real)': [1],  \n",
    "    'Days for shipment (scheduled)': [1], \n",
    "    'Shipping Mode': ['Second Class'],  \n",
    "    'Order Status': ['PENDING'] \n",
    "})"
   ]
  },
  {
   "cell_type": "code",
   "execution_count": 184,
   "id": "79c2008f",
   "metadata": {},
   "outputs": [
    {
     "name": "stdout",
     "output_type": "stream",
     "text": [
      "Predicted Late Delivery Risk: [0]\n"
     ]
    }
   ],
   "source": [
    "predicted_late_risk = grid_search.best_estimator_.predict(new_data)\n",
    "\n",
    "# Displaying the predicted late delivery risk \n",
    "print(\"Predicted Late Delivery Risk:\", predicted_late_risk)"
   ]
  },
  {
   "cell_type": "markdown",
   "id": "d9b3086a",
   "metadata": {},
   "source": [
    "## Thank You"
   ]
  },
  {
   "cell_type": "code",
   "execution_count": 185,
   "id": "eaf8e8e8",
   "metadata": {},
   "outputs": [
    {
     "data": {
      "text/plain": [
       "<bound method NDFrame.head of             Type  Days for shipping (real)  Days for shipment (scheduled)  \\\n",
       "48       PAYMENT                         5                              2   \n",
       "50       PAYMENT                         6                              2   \n",
       "51       PAYMENT                         2                              2   \n",
       "52       PAYMENT                         3                              2   \n",
       "53       PAYMENT                         5                              2   \n",
       "...          ...                       ...                            ...   \n",
       "179624  TRANSFER                         3                              4   \n",
       "179625  TRANSFER                         6                              4   \n",
       "179626  TRANSFER                         3                              4   \n",
       "179627  TRANSFER                         4                              4   \n",
       "179629  TRANSFER                         4                              4   \n",
       "\n",
       "        Benefit per order  Sales per customer   Delivery Status  \\\n",
       "48             -30.750000          115.180000     Late delivery   \n",
       "50              33.599998           96.000000     Late delivery   \n",
       "51              24.690001           75.980003  Shipping on time   \n",
       "52               9.100000           91.000000     Late delivery   \n",
       "53             -21.750000           87.000000     Late delivery   \n",
       "...                   ...                 ...               ...   \n",
       "179624          48.439999          254.960007  Advance shipping   \n",
       "179625          41.070000          251.960007     Late delivery   \n",
       "179626          92.110001          248.960007  Advance shipping   \n",
       "179627          76.989998          245.960007  Shipping on time   \n",
       "179629          37.590000          199.949997  Shipping on time   \n",
       "\n",
       "        Late_delivery_risk    Category Name Customer City Customer Country  \\\n",
       "48                       1           Cleats       Bayamon      Puerto Rico   \n",
       "50                       1  Women's Apparel        Caguas      Puerto Rico   \n",
       "51                       0    Shop By Sport        Caguas      Puerto Rico   \n",
       "52                       1  Women's Apparel        Caguas      Puerto Rico   \n",
       "53                       1  Women's Apparel        Caguas      Puerto Rico   \n",
       "...                    ...              ...           ...              ...   \n",
       "179624                   0           Cleats        Caguas      Puerto Rico   \n",
       "179625                   1           Cleats        Caguas      Puerto Rico   \n",
       "179626                   0           Cleats        Caguas      Puerto Rico   \n",
       "179627                   0           Cleats        Caguas      Puerto Rico   \n",
       "179629                   0    Shop By Sport        Caguas      Puerto Rico   \n",
       "\n",
       "        ...       Sales Order Item Total Order Profit Per Order  \\\n",
       "48      ...  119.980003       115.180000             -30.750000   \n",
       "50      ...  100.000000        96.000000              33.599998   \n",
       "51      ...   79.980003        75.980003              24.690001   \n",
       "52      ...  100.000000        91.000000               9.100000   \n",
       "53      ...  100.000000        87.000000             -21.750000   \n",
       "...     ...         ...              ...                    ...   \n",
       "179624  ...  299.950012       254.960007              48.439999   \n",
       "179625  ...  299.950012       251.960007              41.070000   \n",
       "179626  ...  299.950012       248.960007              92.110001   \n",
       "179627  ...  299.950012       245.960007              76.989998   \n",
       "179629  ...  199.949997       199.949997              37.590000   \n",
       "\n",
       "           Order Region        Order State     Order Status  \\\n",
       "48           South Asia      Uttar Pradesh  PENDING_PAYMENT   \n",
       "50              Oceania  Australia del Sur  PENDING_PAYMENT   \n",
       "51            West Asia           Estambul  PENDING_PAYMENT   \n",
       "52         Eastern Asia         Ulán Bator  PENDING_PAYMENT   \n",
       "53            West Asia           Estambul  PENDING_PAYMENT   \n",
       "...                 ...                ...              ...   \n",
       "179624    South America            Alagoas          PENDING   \n",
       "179625  Central America          Santa Ana          PENDING   \n",
       "179626  Central America          Choluteca          PENDING   \n",
       "179627  Central America  Francisco Morazán          PENDING   \n",
       "179629        Caribbean          La Romana          PENDING   \n",
       "\n",
       "                                         Product Name Product Price  \\\n",
       "48                   Perfect Fitness Perfect Rip Deck     59.990002   \n",
       "50               Nike Men's Dri-FIT Victory Golf Polo     50.000000   \n",
       "51      Under Armour Girls' Toddler Spine Surge Runni     39.990002   \n",
       "52               Nike Men's Dri-FIT Victory Golf Polo     50.000000   \n",
       "53               Nike Men's Dri-FIT Victory Golf Polo     50.000000   \n",
       "...                                               ...           ...   \n",
       "179624               Perfect Fitness Perfect Rip Deck     59.990002   \n",
       "179625               Perfect Fitness Perfect Rip Deck     59.990002   \n",
       "179626               Perfect Fitness Perfect Rip Deck     59.990002   \n",
       "179627               Perfect Fitness Perfect Rip Deck     59.990002   \n",
       "179629  Under Armour Girls' Toddler Spine Surge Runni     39.990002   \n",
       "\n",
       "        shipping date (DateOrders)   Shipping Mode  \n",
       "48                 2/29/2016 13:57    Second Class  \n",
       "50                04-05-2016 04:37    Second Class  \n",
       "51                11-01-2016 01:31    Second Class  \n",
       "52                12-01-2016 01:18    Second Class  \n",
       "53                01-05-2017 15:47    Second Class  \n",
       "...                            ...             ...  \n",
       "179624             5/30/2017 16:48  Standard Class  \n",
       "179625              1/28/2017 8:24  Standard Class  \n",
       "179626            05-09-2017 14:34  Standard Class  \n",
       "179627            04-04-2017 01:18  Standard Class  \n",
       "179629            04-08-2017 05:09  Standard Class  \n",
       "\n",
       "[126079 rows x 31 columns]>"
      ]
     },
     "execution_count": 185,
     "metadata": {},
     "output_type": "execute_result"
    }
   ],
   "source": [
    "df.head"
   ]
  },
  {
   "cell_type": "code",
   "execution_count": null,
   "id": "731afecb",
   "metadata": {},
   "outputs": [],
   "source": []
  }
 ],
 "metadata": {
  "kernelspec": {
   "display_name": "Python 3 (ipykernel)",
   "language": "python",
   "name": "python3"
  },
  "language_info": {
   "codemirror_mode": {
    "name": "ipython",
    "version": 3
   },
   "file_extension": ".py",
   "mimetype": "text/x-python",
   "name": "python",
   "nbconvert_exporter": "python",
   "pygments_lexer": "ipython3",
   "version": "3.10.12"
  }
 },
 "nbformat": 4,
 "nbformat_minor": 5
}
